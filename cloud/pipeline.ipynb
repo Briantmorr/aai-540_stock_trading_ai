{
 "cells": [
  {
   "cell_type": "code",
   "execution_count": 1,
   "metadata": {},
   "outputs": [],
   "source": [
    "!pip install -r ./requirements.txt -q"
   ]
  },
  {
   "cell_type": "code",
   "execution_count": 2,
   "metadata": {},
   "outputs": [
    {
     "name": "stdout",
     "output_type": "stream",
     "text": [
      "sagemaker.config INFO - Not applying SDK defaults from location: /etc/xdg/sagemaker/config.yaml\n",
      "sagemaker.config INFO - Not applying SDK defaults from location: /home/sagemaker-user/.config/sagemaker/config.yaml\n"
     ]
    }
   ],
   "source": [
    "from sagemaker.workflow.pipeline_context import PipelineSession\n",
    "from sagemaker.workflow.pipeline import Pipeline\n",
    "\n",
    "from sagemaker.workflow.function_step import step\n",
    "from sagemaker import get_execution_role, Session\n",
    "import logging\n",
    "import os"
   ]
  },
  {
   "cell_type": "code",
   "execution_count": 3,
   "metadata": {},
   "outputs": [],
   "source": [
    "from steps.fetch import fetch\n",
    "from steps.preprocess import preprocess\n",
    "from steps.train import train\n",
    "from steps.eval import eval\n",
    "from steps.deploy import deploy"
   ]
  },
  {
   "cell_type": "code",
   "execution_count": 4,
   "metadata": {},
   "outputs": [],
   "source": [
    "os.environ[\"SAGEMAKER_USER_CONFIG_OVERRIDE\"] = os.getcwd()"
   ]
  },
  {
   "cell_type": "code",
   "execution_count": 5,
   "metadata": {},
   "outputs": [
    {
     "name": "stdout",
     "output_type": "stream",
     "text": [
      "sagemaker.config INFO - Fetched defaults config from location: /home/sagemaker-user/aai-540_stock_trading_ai/cloud\n"
     ]
    }
   ],
   "source": [
    "sagemaker_session = Session()\n",
    "role = get_execution_role()\n",
    "\n",
    "default_bucket = sagemaker_session.default_bucket()\n",
    "session = PipelineSession(boto_session=sagemaker_session.boto_session, default_bucket=default_bucket)\n",
    "pipeline_name = 'stock-pipeline'\n",
    "default_ticker = \"SPY\"\n",
    "years_of_data_to_fetch = 1"
   ]
  },
  {
   "cell_type": "code",
   "execution_count": 6,
   "metadata": {},
   "outputs": [],
   "source": [
    "fetch_result = fetch(default_ticker, years_of_data_to_fetch)\n",
    "# print(fetch_result)"
   ]
  },
  {
   "cell_type": "code",
   "execution_count": 7,
   "metadata": {},
   "outputs": [],
   "source": [
    "preprocess_result = preprocess(fetch_result)\n",
    "# print(preprocess_result)"
   ]
  },
  {
   "cell_type": "code",
   "execution_count": 8,
   "metadata": {},
   "outputs": [],
   "source": [
    "train_result = train(preprocess_result)\n",
    "# print(train_result)"
   ]
  },
  {
   "cell_type": "code",
   "execution_count": 9,
   "metadata": {},
   "outputs": [],
   "source": [
    "eval_result = eval(train_result)\n",
    "# print(eval_result)"
   ]
  },
  {
   "cell_type": "code",
   "execution_count": 10,
   "metadata": {},
   "outputs": [],
   "source": [
    "deploy_result = deploy(eval_result)\n",
    "# print(deploy_result)"
   ]
  },
  {
   "cell_type": "code",
   "execution_count": 11,
   "metadata": {},
   "outputs": [],
   "source": [
    "pipeline = Pipeline(\n",
    "    name=pipeline_name,\n",
    "    steps=[fetch_result, preprocess_result, train_result, eval_result, deploy_result],\n",
    "    sagemaker_session=session,\n",
    ")"
   ]
  },
  {
   "cell_type": "code",
   "execution_count": 12,
   "metadata": {},
   "outputs": [
    {
     "name": "stdout",
     "output_type": "stream",
     "text": [
      "sagemaker.config INFO - Applied value from config key = SageMaker.PythonSDK.Modules.RemoteFunction.Dependencies\n",
      "sagemaker.config INFO - Applied value from config key = SageMaker.PythonSDK.Modules.RemoteFunction.IncludeLocalWorkDir\n",
      "sagemaker.config INFO - Applied value from config key = SageMaker.PythonSDK.Modules.RemoteFunction.CustomFileFilter.IgnoreNamePatterns\n"
     ]
    },
    {
     "name": "stderr",
     "output_type": "stream",
     "text": [
      "2025-02-22 18:20:11,444 sagemaker.remote_function INFO     Uploading serialized function code to s3://sagemaker-us-east-1-971173012767/stock-pipeline/fetch-6b50c3e5-8fcd-41a2-818c-e231ebab37e8/2025-02-22-18-20-08-914/function\n",
      "2025-02-22 18:20:11,581 sagemaker.remote_function INFO     Uploading serialized function arguments to s3://sagemaker-us-east-1-971173012767/stock-pipeline/fetch-6b50c3e5-8fcd-41a2-818c-e231ebab37e8/2025-02-22-18-20-08-914/arguments\n",
      "2025-02-22 18:20:11,751 sagemaker.remote_function INFO     Copied dependencies file at './requirements.txt' to '/tmp/tmpdv7f2mvv/requirements.txt'\n",
      "2025-02-22 18:20:11,794 sagemaker.remote_function INFO     Successfully uploaded dependencies and pre execution scripts to 's3://sagemaker-us-east-1-971173012767/stock-pipeline/fetch-6b50c3e5-8fcd-41a2-818c-e231ebab37e8/2025-02-22-18-20-08-914/pre_exec_script_and_dependencies'\n",
      "2025-02-22 18:20:11,801 sagemaker.remote_function INFO     Copied user workspace to '/tmp/tmp3h_z23v4/temp_workspace/sagemaker_remote_function_workspace'\n",
      "2025-02-22 18:20:11,818 sagemaker.remote_function INFO     Successfully created workdir archive at '/tmp/tmp3h_z23v4/workspace.zip'\n",
      "2025-02-22 18:20:11,880 sagemaker.remote_function INFO     Successfully uploaded workdir to 's3://sagemaker-us-east-1-971173012767/stock-pipeline/sm_rf_user_ws/2025-02-22-18-20-08-914/workspace.zip'\n",
      "WARNING:sagemaker.workflow.utilities:Popping out 'TrainingJobName' from the pipeline definition by default since it will be overridden at pipeline execution time. Please utilize the PipelineDefinitionConfig to persist this field in the pipeline definition if desired.\n"
     ]
    },
    {
     "name": "stdout",
     "output_type": "stream",
     "text": [
      "sagemaker.config INFO - Applied value from config key = SageMaker.PythonSDK.Modules.RemoteFunction.Dependencies\n",
      "sagemaker.config INFO - Applied value from config key = SageMaker.PythonSDK.Modules.RemoteFunction.IncludeLocalWorkDir\n",
      "sagemaker.config INFO - Applied value from config key = SageMaker.PythonSDK.Modules.RemoteFunction.CustomFileFilter.IgnoreNamePatterns\n"
     ]
    },
    {
     "name": "stderr",
     "output_type": "stream",
     "text": [
      "2025-02-22 18:20:14,333 sagemaker.remote_function INFO     Uploading serialized function code to s3://sagemaker-us-east-1-971173012767/stock-pipeline/preprocess-2c0ddf37-8ce5-430e-b842-4ad9f09f77ab/2025-02-22-18-20-08-914/function\n",
      "2025-02-22 18:20:14,415 sagemaker.remote_function INFO     Uploading serialized function arguments to s3://sagemaker-us-east-1-971173012767/stock-pipeline/preprocess-2c0ddf37-8ce5-430e-b842-4ad9f09f77ab/2025-02-22-18-20-08-914/arguments\n",
      "2025-02-22 18:20:14,468 sagemaker.remote_function INFO     Copied dependencies file at './requirements.txt' to '/tmp/tmphz_5c_e9/requirements.txt'\n",
      "2025-02-22 18:20:14,495 sagemaker.remote_function INFO     Successfully uploaded dependencies and pre execution scripts to 's3://sagemaker-us-east-1-971173012767/stock-pipeline/preprocess-2c0ddf37-8ce5-430e-b842-4ad9f09f77ab/2025-02-22-18-20-08-914/pre_exec_script_and_dependencies'\n",
      "WARNING:sagemaker.workflow.utilities:Popping out 'TrainingJobName' from the pipeline definition by default since it will be overridden at pipeline execution time. Please utilize the PipelineDefinitionConfig to persist this field in the pipeline definition if desired.\n"
     ]
    },
    {
     "name": "stdout",
     "output_type": "stream",
     "text": [
      "sagemaker.config INFO - Applied value from config key = SageMaker.PythonSDK.Modules.RemoteFunction.Dependencies\n",
      "sagemaker.config INFO - Applied value from config key = SageMaker.PythonSDK.Modules.RemoteFunction.IncludeLocalWorkDir\n",
      "sagemaker.config INFO - Applied value from config key = SageMaker.PythonSDK.Modules.RemoteFunction.CustomFileFilter.IgnoreNamePatterns\n"
     ]
    },
    {
     "name": "stderr",
     "output_type": "stream",
     "text": [
      "2025-02-22 18:20:17,028 sagemaker.remote_function INFO     Uploading serialized function code to s3://sagemaker-us-east-1-971173012767/stock-pipeline/train-4bb0af57-e1fa-4a8c-8182-2234e7f63020/2025-02-22-18-20-08-914/function\n",
      "2025-02-22 18:20:17,106 sagemaker.remote_function INFO     Uploading serialized function arguments to s3://sagemaker-us-east-1-971173012767/stock-pipeline/train-4bb0af57-e1fa-4a8c-8182-2234e7f63020/2025-02-22-18-20-08-914/arguments\n",
      "2025-02-22 18:20:17,192 sagemaker.remote_function INFO     Copied dependencies file at './requirements.txt' to '/tmp/tmpdw72csgc/requirements.txt'\n",
      "2025-02-22 18:20:17,218 sagemaker.remote_function INFO     Successfully uploaded dependencies and pre execution scripts to 's3://sagemaker-us-east-1-971173012767/stock-pipeline/train-4bb0af57-e1fa-4a8c-8182-2234e7f63020/2025-02-22-18-20-08-914/pre_exec_script_and_dependencies'\n",
      "WARNING:sagemaker.workflow.utilities:Popping out 'TrainingJobName' from the pipeline definition by default since it will be overridden at pipeline execution time. Please utilize the PipelineDefinitionConfig to persist this field in the pipeline definition if desired.\n"
     ]
    },
    {
     "name": "stdout",
     "output_type": "stream",
     "text": [
      "sagemaker.config INFO - Applied value from config key = SageMaker.PythonSDK.Modules.RemoteFunction.Dependencies\n",
      "sagemaker.config INFO - Applied value from config key = SageMaker.PythonSDK.Modules.RemoteFunction.IncludeLocalWorkDir\n",
      "sagemaker.config INFO - Applied value from config key = SageMaker.PythonSDK.Modules.RemoteFunction.CustomFileFilter.IgnoreNamePatterns\n"
     ]
    },
    {
     "name": "stderr",
     "output_type": "stream",
     "text": [
      "2025-02-22 18:20:19,782 sagemaker.remote_function INFO     Uploading serialized function code to s3://sagemaker-us-east-1-971173012767/stock-pipeline/eval-6ad7de44-3a62-49b9-88a6-5b62715f1a5f/2025-02-22-18-20-08-914/function\n",
      "2025-02-22 18:20:19,856 sagemaker.remote_function INFO     Uploading serialized function arguments to s3://sagemaker-us-east-1-971173012767/stock-pipeline/eval-6ad7de44-3a62-49b9-88a6-5b62715f1a5f/2025-02-22-18-20-08-914/arguments\n",
      "2025-02-22 18:20:19,937 sagemaker.remote_function INFO     Copied dependencies file at './requirements.txt' to '/tmp/tmpjob2oi6j/requirements.txt'\n",
      "2025-02-22 18:20:19,971 sagemaker.remote_function INFO     Successfully uploaded dependencies and pre execution scripts to 's3://sagemaker-us-east-1-971173012767/stock-pipeline/eval-6ad7de44-3a62-49b9-88a6-5b62715f1a5f/2025-02-22-18-20-08-914/pre_exec_script_and_dependencies'\n",
      "WARNING:sagemaker.workflow.utilities:Popping out 'TrainingJobName' from the pipeline definition by default since it will be overridden at pipeline execution time. Please utilize the PipelineDefinitionConfig to persist this field in the pipeline definition if desired.\n"
     ]
    },
    {
     "name": "stdout",
     "output_type": "stream",
     "text": [
      "sagemaker.config INFO - Applied value from config key = SageMaker.PythonSDK.Modules.RemoteFunction.Dependencies\n",
      "sagemaker.config INFO - Applied value from config key = SageMaker.PythonSDK.Modules.RemoteFunction.IncludeLocalWorkDir\n",
      "sagemaker.config INFO - Applied value from config key = SageMaker.PythonSDK.Modules.RemoteFunction.CustomFileFilter.IgnoreNamePatterns\n"
     ]
    },
    {
     "name": "stderr",
     "output_type": "stream",
     "text": [
      "2025-02-22 18:20:22,062 sagemaker.remote_function INFO     Uploading serialized function code to s3://sagemaker-us-east-1-971173012767/stock-pipeline/deploy-f3ce61ac-0184-4bae-8181-4f94f0547ef3/2025-02-22-18-20-08-914/function\n",
      "2025-02-22 18:20:22,141 sagemaker.remote_function INFO     Uploading serialized function arguments to s3://sagemaker-us-east-1-971173012767/stock-pipeline/deploy-f3ce61ac-0184-4bae-8181-4f94f0547ef3/2025-02-22-18-20-08-914/arguments\n",
      "2025-02-22 18:20:22,212 sagemaker.remote_function INFO     Copied dependencies file at './requirements.txt' to '/tmp/tmplib5q2am/requirements.txt'\n",
      "2025-02-22 18:20:22,265 sagemaker.remote_function INFO     Successfully uploaded dependencies and pre execution scripts to 's3://sagemaker-us-east-1-971173012767/stock-pipeline/deploy-f3ce61ac-0184-4bae-8181-4f94f0547ef3/2025-02-22-18-20-08-914/pre_exec_script_and_dependencies'\n",
      "WARNING:sagemaker.workflow.utilities:Popping out 'TrainingJobName' from the pipeline definition by default since it will be overridden at pipeline execution time. Please utilize the PipelineDefinitionConfig to persist this field in the pipeline definition if desired.\n",
      "2025-02-22 18:20:22,815 sagemaker.remote_function INFO     Uploading serialized function code to s3://sagemaker-us-east-1-971173012767/stock-pipeline/fetch-6b50c3e5-8fcd-41a2-818c-e231ebab37e8/2025-02-22-18-20-22-815/function\n",
      "2025-02-22 18:20:22,879 sagemaker.remote_function INFO     Uploading serialized function arguments to s3://sagemaker-us-east-1-971173012767/stock-pipeline/fetch-6b50c3e5-8fcd-41a2-818c-e231ebab37e8/2025-02-22-18-20-22-815/arguments\n",
      "2025-02-22 18:20:23,080 sagemaker.remote_function INFO     Copied dependencies file at './requirements.txt' to '/tmp/tmp7tc8p151/requirements.txt'\n",
      "2025-02-22 18:20:23,109 sagemaker.remote_function INFO     Successfully uploaded dependencies and pre execution scripts to 's3://sagemaker-us-east-1-971173012767/stock-pipeline/fetch-6b50c3e5-8fcd-41a2-818c-e231ebab37e8/2025-02-22-18-20-22-815/pre_exec_script_and_dependencies'\n",
      "2025-02-22 18:20:23,116 sagemaker.remote_function INFO     Copied user workspace to '/tmp/tmp0ypdvo9q/temp_workspace/sagemaker_remote_function_workspace'\n",
      "2025-02-22 18:20:23,130 sagemaker.remote_function INFO     Successfully created workdir archive at '/tmp/tmp0ypdvo9q/workspace.zip'\n",
      "2025-02-22 18:20:23,196 sagemaker.remote_function INFO     Successfully uploaded workdir to 's3://sagemaker-us-east-1-971173012767/stock-pipeline/sm_rf_user_ws/2025-02-22-18-20-22-815/workspace.zip'\n",
      "WARNING:sagemaker.workflow.utilities:Popping out 'TrainingJobName' from the pipeline definition by default since it will be overridden at pipeline execution time. Please utilize the PipelineDefinitionConfig to persist this field in the pipeline definition if desired.\n",
      "2025-02-22 18:20:23,200 sagemaker.remote_function INFO     Uploading serialized function code to s3://sagemaker-us-east-1-971173012767/stock-pipeline/preprocess-2c0ddf37-8ce5-430e-b842-4ad9f09f77ab/2025-02-22-18-20-22-815/function\n",
      "2025-02-22 18:20:23,267 sagemaker.remote_function INFO     Uploading serialized function arguments to s3://sagemaker-us-east-1-971173012767/stock-pipeline/preprocess-2c0ddf37-8ce5-430e-b842-4ad9f09f77ab/2025-02-22-18-20-22-815/arguments\n",
      "2025-02-22 18:20:23,344 sagemaker.remote_function INFO     Copied dependencies file at './requirements.txt' to '/tmp/tmpmjhluyj7/requirements.txt'\n",
      "2025-02-22 18:20:23,371 sagemaker.remote_function INFO     Successfully uploaded dependencies and pre execution scripts to 's3://sagemaker-us-east-1-971173012767/stock-pipeline/preprocess-2c0ddf37-8ce5-430e-b842-4ad9f09f77ab/2025-02-22-18-20-22-815/pre_exec_script_and_dependencies'\n",
      "WARNING:sagemaker.workflow.utilities:Popping out 'TrainingJobName' from the pipeline definition by default since it will be overridden at pipeline execution time. Please utilize the PipelineDefinitionConfig to persist this field in the pipeline definition if desired.\n",
      "2025-02-22 18:20:23,375 sagemaker.remote_function INFO     Uploading serialized function code to s3://sagemaker-us-east-1-971173012767/stock-pipeline/train-4bb0af57-e1fa-4a8c-8182-2234e7f63020/2025-02-22-18-20-22-815/function\n",
      "2025-02-22 18:20:23,439 sagemaker.remote_function INFO     Uploading serialized function arguments to s3://sagemaker-us-east-1-971173012767/stock-pipeline/train-4bb0af57-e1fa-4a8c-8182-2234e7f63020/2025-02-22-18-20-22-815/arguments\n",
      "2025-02-22 18:20:23,524 sagemaker.remote_function INFO     Copied dependencies file at './requirements.txt' to '/tmp/tmp8h9awdh3/requirements.txt'\n",
      "2025-02-22 18:20:23,555 sagemaker.remote_function INFO     Successfully uploaded dependencies and pre execution scripts to 's3://sagemaker-us-east-1-971173012767/stock-pipeline/train-4bb0af57-e1fa-4a8c-8182-2234e7f63020/2025-02-22-18-20-22-815/pre_exec_script_and_dependencies'\n",
      "WARNING:sagemaker.workflow.utilities:Popping out 'TrainingJobName' from the pipeline definition by default since it will be overridden at pipeline execution time. Please utilize the PipelineDefinitionConfig to persist this field in the pipeline definition if desired.\n",
      "2025-02-22 18:20:23,558 sagemaker.remote_function INFO     Uploading serialized function code to s3://sagemaker-us-east-1-971173012767/stock-pipeline/eval-6ad7de44-3a62-49b9-88a6-5b62715f1a5f/2025-02-22-18-20-22-815/function\n",
      "2025-02-22 18:20:23,638 sagemaker.remote_function INFO     Uploading serialized function arguments to s3://sagemaker-us-east-1-971173012767/stock-pipeline/eval-6ad7de44-3a62-49b9-88a6-5b62715f1a5f/2025-02-22-18-20-22-815/arguments\n",
      "2025-02-22 18:20:23,738 sagemaker.remote_function INFO     Copied dependencies file at './requirements.txt' to '/tmp/tmprwds320a/requirements.txt'\n",
      "2025-02-22 18:20:23,824 sagemaker.remote_function INFO     Successfully uploaded dependencies and pre execution scripts to 's3://sagemaker-us-east-1-971173012767/stock-pipeline/eval-6ad7de44-3a62-49b9-88a6-5b62715f1a5f/2025-02-22-18-20-22-815/pre_exec_script_and_dependencies'\n",
      "WARNING:sagemaker.workflow.utilities:Popping out 'TrainingJobName' from the pipeline definition by default since it will be overridden at pipeline execution time. Please utilize the PipelineDefinitionConfig to persist this field in the pipeline definition if desired.\n",
      "2025-02-22 18:20:23,826 sagemaker.remote_function INFO     Uploading serialized function code to s3://sagemaker-us-east-1-971173012767/stock-pipeline/deploy-f3ce61ac-0184-4bae-8181-4f94f0547ef3/2025-02-22-18-20-22-815/function\n",
      "2025-02-22 18:20:23,891 sagemaker.remote_function INFO     Uploading serialized function arguments to s3://sagemaker-us-east-1-971173012767/stock-pipeline/deploy-f3ce61ac-0184-4bae-8181-4f94f0547ef3/2025-02-22-18-20-22-815/arguments\n",
      "2025-02-22 18:20:23,981 sagemaker.remote_function INFO     Copied dependencies file at './requirements.txt' to '/tmp/tmp8rj8aham/requirements.txt'\n",
      "2025-02-22 18:20:24,010 sagemaker.remote_function INFO     Successfully uploaded dependencies and pre execution scripts to 's3://sagemaker-us-east-1-971173012767/stock-pipeline/deploy-f3ce61ac-0184-4bae-8181-4f94f0547ef3/2025-02-22-18-20-22-815/pre_exec_script_and_dependencies'\n",
      "WARNING:sagemaker.workflow.utilities:Popping out 'TrainingJobName' from the pipeline definition by default since it will be overridden at pipeline execution time. Please utilize the PipelineDefinitionConfig to persist this field in the pipeline definition if desired.\n"
     ]
    },
    {
     "data": {
      "text/plain": [
       "{'PipelineArn': 'arn:aws:sagemaker:us-east-1:971173012767:pipeline/stock-pipeline',\n",
       " 'ResponseMetadata': {'RequestId': '38f66d58-e159-442d-bc68-f1989d929daa',\n",
       "  'HTTPStatusCode': 200,\n",
       "  'HTTPHeaders': {'x-amzn-requestid': '38f66d58-e159-442d-bc68-f1989d929daa',\n",
       "   'content-type': 'application/x-amz-json-1.1',\n",
       "   'content-length': '82',\n",
       "   'date': 'Sat, 22 Feb 2025 18:20:24 GMT'},\n",
       "  'RetryAttempts': 0}}"
      ]
     },
     "execution_count": 12,
     "metadata": {},
     "output_type": "execute_result"
    }
   ],
   "source": [
    "pipeline.upsert(role)"
   ]
  },
  {
   "cell_type": "code",
   "execution_count": 13,
   "metadata": {},
   "outputs": [
    {
     "data": {
      "text/plain": [
       "_PipelineExecution(arn='arn:aws:sagemaker:us-east-1:971173012767:pipeline/stock-pipeline/execution/f03m615pckry', sagemaker_session=<sagemaker.workflow.pipeline_context.PipelineSession object at 0x7faf39f0fc10>)"
      ]
     },
     "execution_count": 13,
     "metadata": {},
     "output_type": "execute_result"
    }
   ],
   "source": [
    "pipeline.start()"
   ]
  },
  {
   "cell_type": "markdown",
   "metadata": {},
   "source": [
    "## Verify after successful pipeline run"
   ]
  },
  {
   "cell_type": "code",
   "execution_count": null,
   "metadata": {},
   "outputs": [],
   "source": [
    "from steps.deploy import deploy\n",
    "import boto3\n",
    "import json\n",
    "import torch\n",
    "import numpy as np\n",
    "from datetime import datetime\n",
    "import logging"
   ]
  },
  {
   "cell_type": "code",
   "execution_count": null,
   "metadata": {},
   "outputs": [],
   "source": [
    "# Set to endpoint name\n",
    "endpoint_name=\"stock-pipeline-endpoint-20250221-234058\""
   ]
  },
  {
   "cell_type": "code",
   "execution_count": null,
   "metadata": {},
   "outputs": [],
   "source": [
    "sequence_length = 30\n",
    "input_data = np.random.rand(sequence_length, 4).tolist()  \n",
    "# Ensure the input matches the expected shape: [seq_len, 4]\n",
    "# endpoint_name=\"https://runtime.sagemaker.us-east-1.amazonaws.com/endpoints/stock-pipeline-endpoint-20250221-234058/invocatio\n",
    "endpoint_name=\"stock-pipeline-endpoint-20250221-234058\"\n",
    "\n",
    "# Convert to JSON\n",
    "input_json = json.dumps(input_data)\n",
    "\n",
    "# Call the endpoint\n",
    "try:\n",
    "    runtime = boto3.client('sagemaker-runtime')\n",
    "    print(f\"Invoking endpoint: {endpoint_name}\")\n",
    "    response = runtime.invoke_endpoint(\n",
    "        EndpointName=endpoint_name,\n",
    "        ContentType='application/json',\n",
    "        Body=input_json\n",
    "    )\n",
    "    \n",
    "    # Parse the response\n",
    "    result = json.loads(response['Body'].read().decode())\n",
    "    # logger.info(f\"Prediction: {result}\")\n",
    "    print(f\"Prediction from endpoint {endpoint_name}: {result}\")\n",
    "\n",
    "except Exception as e:\n",
    "    print(f\"Error invoking endpoint: {e}\")\n",
    "    raise e"
   ]
  },
  {
   "cell_type": "code",
   "execution_count": null,
   "metadata": {},
   "outputs": [],
   "source": []
  }
 ],
 "metadata": {
  "kernelspec": {
   "display_name": "Python 3 (ipykernel)",
   "language": "python",
   "name": "python3"
  },
  "language_info": {
   "codemirror_mode": {
    "name": "ipython",
    "version": 3
   },
   "file_extension": ".py",
   "mimetype": "text/x-python",
   "name": "python",
   "nbconvert_exporter": "python",
   "pygments_lexer": "ipython3",
   "version": "3.11.11"
  }
 },
 "nbformat": 4,
 "nbformat_minor": 2
}
