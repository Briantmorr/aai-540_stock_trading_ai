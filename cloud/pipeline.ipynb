{
 "cells": [
  {
   "cell_type": "code",
   "execution_count": 1,
   "metadata": {},
   "outputs": [],
   "source": [
    "!pip install -r ./requirements.txt -q"
   ]
  },
  {
   "cell_type": "code",
   "execution_count": 2,
   "metadata": {},
   "outputs": [
    {
     "name": "stdout",
     "output_type": "stream",
     "text": [
      "sagemaker.config INFO - Not applying SDK defaults from location: /etc/xdg/sagemaker/config.yaml\n",
      "sagemaker.config INFO - Not applying SDK defaults from location: /home/sagemaker-user/.config/sagemaker/config.yaml\n"
     ]
    }
   ],
   "source": [
    "from sagemaker.workflow.pipeline_context import PipelineSession\n",
    "from sagemaker.workflow.pipeline import Pipeline\n",
    "\n",
    "from sagemaker.workflow.function_step import step\n",
    "from sagemaker import get_execution_role, Session\n",
    "import logging\n",
    "import os"
   ]
  },
  {
   "cell_type": "code",
   "execution_count": 3,
   "metadata": {},
   "outputs": [],
   "source": [
    "from steps.fetch import fetch\n",
    "from steps.preprocess import preprocess\n",
    "from steps.train import train\n",
    "from steps.eval import eval\n",
    "from steps.deploy import deploy"
   ]
  },
  {
   "cell_type": "code",
   "execution_count": 4,
   "metadata": {},
   "outputs": [],
   "source": [
    "os.environ[\"SAGEMAKER_USER_CONFIG_OVERRIDE\"] = os.getcwd()"
   ]
  },
  {
   "cell_type": "code",
   "execution_count": 5,
   "metadata": {},
   "outputs": [
    {
     "name": "stdout",
     "output_type": "stream",
     "text": [
      "sagemaker.config INFO - Fetched defaults config from location: /home/sagemaker-user/aai-540_stock_trading_ai/cloud\n"
     ]
    }
   ],
   "source": [
    "sagemaker_session = Session()\n",
    "role = get_execution_role()\n",
    "\n",
    "default_bucket = sagemaker_session.default_bucket()\n",
    "session = PipelineSession(boto_session=sagemaker_session.boto_session, default_bucket=default_bucket)\n",
    "pipeline_name = 'stock-pipeline'\n",
    "default_ticker = \"SPY\"\n",
    "years_of_data_to_fetch = 1"
   ]
  },
  {
   "cell_type": "code",
   "execution_count": 6,
   "metadata": {},
   "outputs": [],
   "source": [
    "fetch_result = fetch(default_ticker, years_of_data_to_fetch)\n",
    "# print(fetch_result)"
   ]
  },
  {
   "cell_type": "code",
   "execution_count": 7,
   "metadata": {},
   "outputs": [],
   "source": [
    "preprocess_result = preprocess(fetch_result)\n",
    "# print(preprocess_result)"
   ]
  },
  {
   "cell_type": "code",
   "execution_count": 8,
   "metadata": {},
   "outputs": [],
   "source": [
    "train_result = train(preprocess_result)\n",
    "# print(train_result)"
   ]
  },
  {
   "cell_type": "code",
   "execution_count": 9,
   "metadata": {},
   "outputs": [],
   "source": [
    "eval_result = eval(train_result)\n",
    "# print(eval_result)"
   ]
  },
  {
   "cell_type": "code",
   "execution_count": 10,
   "metadata": {},
   "outputs": [],
   "source": [
    "deploy_result = deploy(eval_result)\n",
    "# print(deploy_result)"
   ]
  },
  {
   "cell_type": "code",
   "execution_count": 11,
   "metadata": {},
   "outputs": [],
   "source": [
    "pipeline = Pipeline(\n",
    "    name=pipeline_name,\n",
    "    steps=[fetch_result, preprocess_result, train_result, eval_result, deploy_result],\n",
    "    sagemaker_session=session,\n",
    ")"
   ]
  },
  {
   "cell_type": "code",
   "execution_count": 12,
   "metadata": {},
   "outputs": [
    {
     "name": "stdout",
     "output_type": "stream",
     "text": [
      "sagemaker.config INFO - Applied value from config key = SageMaker.PythonSDK.Modules.RemoteFunction.IncludeLocalWorkDir\n",
      "sagemaker.config INFO - Applied value from config key = SageMaker.PythonSDK.Modules.RemoteFunction.CustomFileFilter.IgnoreNamePatterns\n"
     ]
    },
    {
     "name": "stderr",
     "output_type": "stream",
     "text": [
      "2025-02-22 00:07:35,150 sagemaker.remote_function INFO     Uploading serialized function code to s3://sagemaker-us-east-1-971173012767/stock-pipeline/fetch-7ab60581-140e-4698-94c0-5a2d2a8d8d62/2025-02-22-00-07-32-514/function\n",
      "2025-02-22 00:07:35,264 sagemaker.remote_function INFO     Uploading serialized function arguments to s3://sagemaker-us-east-1-971173012767/stock-pipeline/fetch-7ab60581-140e-4698-94c0-5a2d2a8d8d62/2025-02-22-00-07-32-514/arguments\n",
      "2025-02-22 00:07:35,422 sagemaker.remote_function INFO     Copied dependencies file at 'requirements.txt' to '/tmp/tmpyfkt299_/requirements.txt'\n",
      "2025-02-22 00:07:35,443 sagemaker.remote_function INFO     Successfully uploaded dependencies and pre execution scripts to 's3://sagemaker-us-east-1-971173012767/stock-pipeline/fetch-7ab60581-140e-4698-94c0-5a2d2a8d8d62/2025-02-22-00-07-32-514/pre_exec_script_and_dependencies'\n",
      "2025-02-22 00:07:35,449 sagemaker.remote_function INFO     Copied user workspace to '/tmp/tmplljzdula/temp_workspace/sagemaker_remote_function_workspace'\n",
      "2025-02-22 00:07:35,459 sagemaker.remote_function INFO     Successfully created workdir archive at '/tmp/tmplljzdula/workspace.zip'\n",
      "2025-02-22 00:07:35,525 sagemaker.remote_function INFO     Successfully uploaded workdir to 's3://sagemaker-us-east-1-971173012767/stock-pipeline/sm_rf_user_ws/2025-02-22-00-07-32-514/workspace.zip'\n",
      "WARNING:sagemaker.workflow.utilities:Popping out 'TrainingJobName' from the pipeline definition by default since it will be overridden at pipeline execution time. Please utilize the PipelineDefinitionConfig to persist this field in the pipeline definition if desired.\n"
     ]
    },
    {
     "name": "stdout",
     "output_type": "stream",
     "text": [
      "sagemaker.config INFO - Applied value from config key = SageMaker.PythonSDK.Modules.RemoteFunction.IncludeLocalWorkDir\n",
      "sagemaker.config INFO - Applied value from config key = SageMaker.PythonSDK.Modules.RemoteFunction.CustomFileFilter.IgnoreNamePatterns\n"
     ]
    },
    {
     "name": "stderr",
     "output_type": "stream",
     "text": [
      "2025-02-22 00:07:37,699 sagemaker.remote_function INFO     Uploading serialized function code to s3://sagemaker-us-east-1-971173012767/stock-pipeline/preprocess-ab4fe168-ec42-4b7a-b381-6cff33db9743/2025-02-22-00-07-32-514/function\n",
      "2025-02-22 00:07:37,760 sagemaker.remote_function INFO     Uploading serialized function arguments to s3://sagemaker-us-east-1-971173012767/stock-pipeline/preprocess-ab4fe168-ec42-4b7a-b381-6cff33db9743/2025-02-22-00-07-32-514/arguments\n",
      "2025-02-22 00:07:37,820 sagemaker.remote_function INFO     Copied dependencies file at 'requirements.txt' to '/tmp/tmpr_s1d4it/requirements.txt'\n",
      "2025-02-22 00:07:37,848 sagemaker.remote_function INFO     Successfully uploaded dependencies and pre execution scripts to 's3://sagemaker-us-east-1-971173012767/stock-pipeline/preprocess-ab4fe168-ec42-4b7a-b381-6cff33db9743/2025-02-22-00-07-32-514/pre_exec_script_and_dependencies'\n",
      "WARNING:sagemaker.workflow.utilities:Popping out 'TrainingJobName' from the pipeline definition by default since it will be overridden at pipeline execution time. Please utilize the PipelineDefinitionConfig to persist this field in the pipeline definition if desired.\n"
     ]
    },
    {
     "name": "stdout",
     "output_type": "stream",
     "text": [
      "sagemaker.config INFO - Applied value from config key = SageMaker.PythonSDK.Modules.RemoteFunction.IncludeLocalWorkDir\n",
      "sagemaker.config INFO - Applied value from config key = SageMaker.PythonSDK.Modules.RemoteFunction.CustomFileFilter.IgnoreNamePatterns\n"
     ]
    },
    {
     "name": "stderr",
     "output_type": "stream",
     "text": [
      "2025-02-22 00:07:40,367 sagemaker.remote_function INFO     Uploading serialized function code to s3://sagemaker-us-east-1-971173012767/stock-pipeline/train-f2f47d08-2ec3-4a52-a488-7aa098b67f2e/2025-02-22-00-07-32-514/function\n",
      "2025-02-22 00:07:40,442 sagemaker.remote_function INFO     Uploading serialized function arguments to s3://sagemaker-us-east-1-971173012767/stock-pipeline/train-f2f47d08-2ec3-4a52-a488-7aa098b67f2e/2025-02-22-00-07-32-514/arguments\n",
      "2025-02-22 00:07:40,506 sagemaker.remote_function INFO     Copied dependencies file at 'requirements.txt' to '/tmp/tmp_gv_kjf2/requirements.txt'\n",
      "2025-02-22 00:07:40,531 sagemaker.remote_function INFO     Successfully uploaded dependencies and pre execution scripts to 's3://sagemaker-us-east-1-971173012767/stock-pipeline/train-f2f47d08-2ec3-4a52-a488-7aa098b67f2e/2025-02-22-00-07-32-514/pre_exec_script_and_dependencies'\n",
      "WARNING:sagemaker.workflow.utilities:Popping out 'TrainingJobName' from the pipeline definition by default since it will be overridden at pipeline execution time. Please utilize the PipelineDefinitionConfig to persist this field in the pipeline definition if desired.\n"
     ]
    },
    {
     "name": "stdout",
     "output_type": "stream",
     "text": [
      "sagemaker.config INFO - Applied value from config key = SageMaker.PythonSDK.Modules.RemoteFunction.IncludeLocalWorkDir\n",
      "sagemaker.config INFO - Applied value from config key = SageMaker.PythonSDK.Modules.RemoteFunction.CustomFileFilter.IgnoreNamePatterns\n"
     ]
    },
    {
     "name": "stderr",
     "output_type": "stream",
     "text": [
      "2025-02-22 00:07:42,722 sagemaker.remote_function INFO     Uploading serialized function code to s3://sagemaker-us-east-1-971173012767/stock-pipeline/eval-afccd7a8-199b-4622-a9a8-7838c6fc54f5/2025-02-22-00-07-32-514/function\n",
      "2025-02-22 00:07:42,787 sagemaker.remote_function INFO     Uploading serialized function arguments to s3://sagemaker-us-east-1-971173012767/stock-pipeline/eval-afccd7a8-199b-4622-a9a8-7838c6fc54f5/2025-02-22-00-07-32-514/arguments\n",
      "2025-02-22 00:07:42,839 sagemaker.remote_function INFO     Copied dependencies file at 'requirements.txt' to '/tmp/tmp14v4097k/requirements.txt'\n",
      "2025-02-22 00:07:42,861 sagemaker.remote_function INFO     Successfully uploaded dependencies and pre execution scripts to 's3://sagemaker-us-east-1-971173012767/stock-pipeline/eval-afccd7a8-199b-4622-a9a8-7838c6fc54f5/2025-02-22-00-07-32-514/pre_exec_script_and_dependencies'\n",
      "WARNING:sagemaker.workflow.utilities:Popping out 'TrainingJobName' from the pipeline definition by default since it will be overridden at pipeline execution time. Please utilize the PipelineDefinitionConfig to persist this field in the pipeline definition if desired.\n"
     ]
    },
    {
     "name": "stdout",
     "output_type": "stream",
     "text": [
      "sagemaker.config INFO - Applied value from config key = SageMaker.PythonSDK.Modules.RemoteFunction.IncludeLocalWorkDir\n",
      "sagemaker.config INFO - Applied value from config key = SageMaker.PythonSDK.Modules.RemoteFunction.CustomFileFilter.IgnoreNamePatterns\n"
     ]
    },
    {
     "name": "stderr",
     "output_type": "stream",
     "text": [
      "2025-02-22 00:07:44,989 sagemaker.remote_function INFO     Uploading serialized function code to s3://sagemaker-us-east-1-971173012767/stock-pipeline/deploy-83650f67-4a5b-4e91-8bc4-9f20155ae6c0/2025-02-22-00-07-32-514/function\n",
      "2025-02-22 00:07:45,051 sagemaker.remote_function INFO     Uploading serialized function arguments to s3://sagemaker-us-east-1-971173012767/stock-pipeline/deploy-83650f67-4a5b-4e91-8bc4-9f20155ae6c0/2025-02-22-00-07-32-514/arguments\n",
      "2025-02-22 00:07:45,152 sagemaker.remote_function INFO     Copied dependencies file at 'requirements.txt' to '/tmp/tmpgzjv6pp_/requirements.txt'\n",
      "2025-02-22 00:07:45,175 sagemaker.remote_function INFO     Successfully uploaded dependencies and pre execution scripts to 's3://sagemaker-us-east-1-971173012767/stock-pipeline/deploy-83650f67-4a5b-4e91-8bc4-9f20155ae6c0/2025-02-22-00-07-32-514/pre_exec_script_and_dependencies'\n",
      "WARNING:sagemaker.workflow.utilities:Popping out 'TrainingJobName' from the pipeline definition by default since it will be overridden at pipeline execution time. Please utilize the PipelineDefinitionConfig to persist this field in the pipeline definition if desired.\n",
      "2025-02-22 00:07:45,717 sagemaker.remote_function INFO     Uploading serialized function code to s3://sagemaker-us-east-1-971173012767/stock-pipeline/fetch-7ab60581-140e-4698-94c0-5a2d2a8d8d62/2025-02-22-00-07-45-716/function\n",
      "2025-02-22 00:07:45,775 sagemaker.remote_function INFO     Uploading serialized function arguments to s3://sagemaker-us-east-1-971173012767/stock-pipeline/fetch-7ab60581-140e-4698-94c0-5a2d2a8d8d62/2025-02-22-00-07-45-716/arguments\n",
      "2025-02-22 00:07:45,955 sagemaker.remote_function INFO     Copied dependencies file at 'requirements.txt' to '/tmp/tmpapvnzrzd/requirements.txt'\n",
      "2025-02-22 00:07:45,978 sagemaker.remote_function INFO     Successfully uploaded dependencies and pre execution scripts to 's3://sagemaker-us-east-1-971173012767/stock-pipeline/fetch-7ab60581-140e-4698-94c0-5a2d2a8d8d62/2025-02-22-00-07-45-716/pre_exec_script_and_dependencies'\n",
      "2025-02-22 00:07:45,984 sagemaker.remote_function INFO     Copied user workspace to '/tmp/tmplfzyj_91/temp_workspace/sagemaker_remote_function_workspace'\n",
      "2025-02-22 00:07:45,993 sagemaker.remote_function INFO     Successfully created workdir archive at '/tmp/tmplfzyj_91/workspace.zip'\n",
      "2025-02-22 00:07:46,092 sagemaker.remote_function INFO     Successfully uploaded workdir to 's3://sagemaker-us-east-1-971173012767/stock-pipeline/sm_rf_user_ws/2025-02-22-00-07-45-716/workspace.zip'\n",
      "WARNING:sagemaker.workflow.utilities:Popping out 'TrainingJobName' from the pipeline definition by default since it will be overridden at pipeline execution time. Please utilize the PipelineDefinitionConfig to persist this field in the pipeline definition if desired.\n",
      "2025-02-22 00:07:46,096 sagemaker.remote_function INFO     Uploading serialized function code to s3://sagemaker-us-east-1-971173012767/stock-pipeline/preprocess-ab4fe168-ec42-4b7a-b381-6cff33db9743/2025-02-22-00-07-45-716/function\n",
      "2025-02-22 00:07:46,163 sagemaker.remote_function INFO     Uploading serialized function arguments to s3://sagemaker-us-east-1-971173012767/stock-pipeline/preprocess-ab4fe168-ec42-4b7a-b381-6cff33db9743/2025-02-22-00-07-45-716/arguments\n",
      "2025-02-22 00:07:46,274 sagemaker.remote_function INFO     Copied dependencies file at 'requirements.txt' to '/tmp/tmptiexekdc/requirements.txt'\n",
      "2025-02-22 00:07:46,304 sagemaker.remote_function INFO     Successfully uploaded dependencies and pre execution scripts to 's3://sagemaker-us-east-1-971173012767/stock-pipeline/preprocess-ab4fe168-ec42-4b7a-b381-6cff33db9743/2025-02-22-00-07-45-716/pre_exec_script_and_dependencies'\n",
      "WARNING:sagemaker.workflow.utilities:Popping out 'TrainingJobName' from the pipeline definition by default since it will be overridden at pipeline execution time. Please utilize the PipelineDefinitionConfig to persist this field in the pipeline definition if desired.\n",
      "2025-02-22 00:07:46,307 sagemaker.remote_function INFO     Uploading serialized function code to s3://sagemaker-us-east-1-971173012767/stock-pipeline/train-f2f47d08-2ec3-4a52-a488-7aa098b67f2e/2025-02-22-00-07-45-716/function\n",
      "2025-02-22 00:07:46,413 sagemaker.remote_function INFO     Uploading serialized function arguments to s3://sagemaker-us-east-1-971173012767/stock-pipeline/train-f2f47d08-2ec3-4a52-a488-7aa098b67f2e/2025-02-22-00-07-45-716/arguments\n",
      "2025-02-22 00:07:46,483 sagemaker.remote_function INFO     Copied dependencies file at 'requirements.txt' to '/tmp/tmpad3x_s4n/requirements.txt'\n",
      "2025-02-22 00:07:46,509 sagemaker.remote_function INFO     Successfully uploaded dependencies and pre execution scripts to 's3://sagemaker-us-east-1-971173012767/stock-pipeline/train-f2f47d08-2ec3-4a52-a488-7aa098b67f2e/2025-02-22-00-07-45-716/pre_exec_script_and_dependencies'\n",
      "WARNING:sagemaker.workflow.utilities:Popping out 'TrainingJobName' from the pipeline definition by default since it will be overridden at pipeline execution time. Please utilize the PipelineDefinitionConfig to persist this field in the pipeline definition if desired.\n",
      "2025-02-22 00:07:46,519 sagemaker.remote_function INFO     Uploading serialized function code to s3://sagemaker-us-east-1-971173012767/stock-pipeline/eval-afccd7a8-199b-4622-a9a8-7838c6fc54f5/2025-02-22-00-07-45-716/function\n",
      "2025-02-22 00:07:46,586 sagemaker.remote_function INFO     Uploading serialized function arguments to s3://sagemaker-us-east-1-971173012767/stock-pipeline/eval-afccd7a8-199b-4622-a9a8-7838c6fc54f5/2025-02-22-00-07-45-716/arguments\n",
      "2025-02-22 00:07:46,658 sagemaker.remote_function INFO     Copied dependencies file at 'requirements.txt' to '/tmp/tmps3x91b8_/requirements.txt'\n",
      "2025-02-22 00:07:46,697 sagemaker.remote_function INFO     Successfully uploaded dependencies and pre execution scripts to 's3://sagemaker-us-east-1-971173012767/stock-pipeline/eval-afccd7a8-199b-4622-a9a8-7838c6fc54f5/2025-02-22-00-07-45-716/pre_exec_script_and_dependencies'\n",
      "WARNING:sagemaker.workflow.utilities:Popping out 'TrainingJobName' from the pipeline definition by default since it will be overridden at pipeline execution time. Please utilize the PipelineDefinitionConfig to persist this field in the pipeline definition if desired.\n",
      "2025-02-22 00:07:46,699 sagemaker.remote_function INFO     Uploading serialized function code to s3://sagemaker-us-east-1-971173012767/stock-pipeline/deploy-83650f67-4a5b-4e91-8bc4-9f20155ae6c0/2025-02-22-00-07-45-716/function\n",
      "2025-02-22 00:07:46,784 sagemaker.remote_function INFO     Uploading serialized function arguments to s3://sagemaker-us-east-1-971173012767/stock-pipeline/deploy-83650f67-4a5b-4e91-8bc4-9f20155ae6c0/2025-02-22-00-07-45-716/arguments\n",
      "2025-02-22 00:07:46,836 sagemaker.remote_function INFO     Copied dependencies file at 'requirements.txt' to '/tmp/tmp3yu63sbm/requirements.txt'\n",
      "2025-02-22 00:07:46,866 sagemaker.remote_function INFO     Successfully uploaded dependencies and pre execution scripts to 's3://sagemaker-us-east-1-971173012767/stock-pipeline/deploy-83650f67-4a5b-4e91-8bc4-9f20155ae6c0/2025-02-22-00-07-45-716/pre_exec_script_and_dependencies'\n",
      "WARNING:sagemaker.workflow.utilities:Popping out 'TrainingJobName' from the pipeline definition by default since it will be overridden at pipeline execution time. Please utilize the PipelineDefinitionConfig to persist this field in the pipeline definition if desired.\n"
     ]
    },
    {
     "data": {
      "text/plain": [
       "{'PipelineArn': 'arn:aws:sagemaker:us-east-1:971173012767:pipeline/stock-pipeline',\n",
       " 'ResponseMetadata': {'RequestId': '494c0957-38db-42d5-bb3c-76c033792e61',\n",
       "  'HTTPStatusCode': 200,\n",
       "  'HTTPHeaders': {'x-amzn-requestid': '494c0957-38db-42d5-bb3c-76c033792e61',\n",
       "   'content-type': 'application/x-amz-json-1.1',\n",
       "   'content-length': '82',\n",
       "   'date': 'Sat, 22 Feb 2025 00:07:47 GMT'},\n",
       "  'RetryAttempts': 0}}"
      ]
     },
     "execution_count": 12,
     "metadata": {},
     "output_type": "execute_result"
    }
   ],
   "source": [
    "pipeline.upsert(role)"
   ]
  },
  {
   "cell_type": "code",
   "execution_count": 13,
   "metadata": {},
   "outputs": [
    {
     "data": {
      "text/plain": [
       "_PipelineExecution(arn='arn:aws:sagemaker:us-east-1:971173012767:pipeline/stock-pipeline/execution/s63mfor5lia8', sagemaker_session=<sagemaker.workflow.pipeline_context.PipelineSession object at 0x7fbfe13a4690>)"
      ]
     },
     "execution_count": 13,
     "metadata": {},
     "output_type": "execute_result"
    }
   ],
   "source": [
    "pipeline.start()"
   ]
  },
  {
   "cell_type": "markdown",
   "metadata": {},
   "source": [
    "## Verify after successful pipeline run"
   ]
  },
  {
   "cell_type": "code",
   "execution_count": null,
   "metadata": {},
   "outputs": [],
   "source": [
    "from steps.deploy import deploy\n",
    "import boto3\n",
    "import json\n",
    "import torch\n",
    "import numpy as np\n",
    "from datetime import datetime\n",
    "import logging"
   ]
  },
  {
   "cell_type": "code",
   "execution_count": null,
   "metadata": {},
   "outputs": [],
   "source": [
    "# Set to endpoint name\n",
    "endpoint_name=\"stock-pipeline-endpoint-20250221-234058\""
   ]
  },
  {
   "cell_type": "code",
   "execution_count": null,
   "metadata": {},
   "outputs": [],
   "source": [
    "sequence_length = 30\n",
    "input_data = np.random.rand(sequence_length, 4).tolist()  \n",
    "# Ensure the input matches the expected shape: [seq_len, 4]\n",
    "# endpoint_name=\"https://runtime.sagemaker.us-east-1.amazonaws.com/endpoints/stock-pipeline-endpoint-20250221-234058/invocatio\n",
    "endpoint_name=\"stock-pipeline-endpoint-20250221-234058\"\n",
    "\n",
    "# Convert to JSON\n",
    "input_json = json.dumps(input_data)\n",
    "\n",
    "# Call the endpoint\n",
    "try:\n",
    "    runtime = boto3.client('sagemaker-runtime')\n",
    "    print(f\"Invoking endpoint: {endpoint_name}\")\n",
    "    response = runtime.invoke_endpoint(\n",
    "        EndpointName=endpoint_name,\n",
    "        ContentType='application/json',\n",
    "        Body=input_json\n",
    "    )\n",
    "    \n",
    "    # Parse the response\n",
    "    result = json.loads(response['Body'].read().decode())\n",
    "    # logger.info(f\"Prediction: {result}\")\n",
    "    print(f\"Prediction from endpoint {endpoint_name}: {result}\")\n",
    "\n",
    "except Exception as e:\n",
    "    print(f\"Error invoking endpoint: {e}\")\n",
    "    raise e"
   ]
  },
  {
   "cell_type": "code",
   "execution_count": null,
   "metadata": {},
   "outputs": [],
   "source": []
  }
 ],
 "metadata": {
  "kernelspec": {
   "display_name": "Python 3 (ipykernel)",
   "language": "python",
   "name": "python3"
  },
  "language_info": {
   "codemirror_mode": {
    "name": "ipython",
    "version": 3
   },
   "file_extension": ".py",
   "mimetype": "text/x-python",
   "name": "python",
   "nbconvert_exporter": "python",
   "pygments_lexer": "ipython3",
   "version": "3.11.11"
  }
 },
 "nbformat": 4,
 "nbformat_minor": 2
}
