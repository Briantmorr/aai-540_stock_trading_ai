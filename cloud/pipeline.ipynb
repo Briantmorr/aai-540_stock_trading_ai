{
 "cells": [
  {
   "cell_type": "code",
   "execution_count": 5,
   "metadata": {},
   "outputs": [
    {
     "name": "stdout",
     "output_type": "stream",
     "text": [
      "Collecting yfinance\n",
      "  Downloading yfinance-0.2.54-py2.py3-none-any.whl.metadata (5.8 kB)\n",
      "Requirement already satisfied: pandas>=1.3.0 in /opt/conda/lib/python3.11/site-packages (from yfinance) (2.2.3)\n",
      "Requirement already satisfied: numpy>=1.16.5 in /opt/conda/lib/python3.11/site-packages (from yfinance) (1.26.4)\n",
      "Requirement already satisfied: requests>=2.31 in /opt/conda/lib/python3.11/site-packages (from yfinance) (2.32.3)\n",
      "Collecting multitasking>=0.0.7 (from yfinance)\n",
      "  Using cached multitasking-0.0.11-py3-none-any.whl.metadata (5.5 kB)\n",
      "Requirement already satisfied: platformdirs>=2.0.0 in /opt/conda/lib/python3.11/site-packages (from yfinance) (4.3.6)\n",
      "Requirement already satisfied: pytz>=2022.5 in /opt/conda/lib/python3.11/site-packages (from yfinance) (2023.3)\n",
      "Requirement already satisfied: frozendict>=2.3.4 in /opt/conda/lib/python3.11/site-packages (from yfinance) (2.4.6)\n",
      "Collecting peewee>=3.16.2 (from yfinance)\n",
      "  Using cached peewee-3.17.9-cp311-cp311-linux_x86_64.whl\n",
      "Requirement already satisfied: beautifulsoup4>=4.11.1 in /opt/conda/lib/python3.11/site-packages (from yfinance) (4.12.3)\n",
      "Requirement already satisfied: soupsieve>1.2 in /opt/conda/lib/python3.11/site-packages (from beautifulsoup4>=4.11.1->yfinance) (2.5)\n",
      "Requirement already satisfied: python-dateutil>=2.8.2 in /opt/conda/lib/python3.11/site-packages (from pandas>=1.3.0->yfinance) (2.9.0.post0)\n",
      "Requirement already satisfied: tzdata>=2022.7 in /opt/conda/lib/python3.11/site-packages (from pandas>=1.3.0->yfinance) (2024.2)\n",
      "Requirement already satisfied: charset_normalizer<4,>=2 in /opt/conda/lib/python3.11/site-packages (from requests>=2.31->yfinance) (3.4.0)\n",
      "Requirement already satisfied: idna<4,>=2.5 in /opt/conda/lib/python3.11/site-packages (from requests>=2.31->yfinance) (3.10)\n",
      "Requirement already satisfied: urllib3<3,>=1.21.1 in /opt/conda/lib/python3.11/site-packages (from requests>=2.31->yfinance) (1.26.19)\n",
      "Requirement already satisfied: certifi>=2017.4.17 in /opt/conda/lib/python3.11/site-packages (from requests>=2.31->yfinance) (2024.8.30)\n",
      "Requirement already satisfied: six>=1.5 in /opt/conda/lib/python3.11/site-packages (from python-dateutil>=2.8.2->pandas>=1.3.0->yfinance) (1.17.0)\n",
      "Downloading yfinance-0.2.54-py2.py3-none-any.whl (108 kB)\n",
      "Using cached multitasking-0.0.11-py3-none-any.whl (8.5 kB)\n",
      "Installing collected packages: peewee, multitasking, yfinance\n",
      "Successfully installed multitasking-0.0.11 peewee-3.17.9 yfinance-0.2.54\n",
      "Note: you may need to restart the kernel to use updated packages.\n"
     ]
    }
   ],
   "source": [
    "%pip install yfinance"
   ]
  },
  {
   "cell_type": "code",
   "execution_count": 6,
   "metadata": {},
   "outputs": [],
   "source": [
    "from sagemaker.workflow.pipeline_context import PipelineSession\n",
    "from sagemaker.workflow.pipeline import Pipeline\n",
    "\n",
    "from sagemaker.workflow.function_step import step\n",
    "from sagemaker import get_execution_role, Session\n",
    "import logging"
   ]
  },
  {
   "cell_type": "code",
   "execution_count": 7,
   "metadata": {},
   "outputs": [],
   "source": [
    "from steps.fetch import fetch\n",
    "from steps.preprocess import preprocess\n",
    "from steps.train import train\n",
    "from steps.eval import eval"
   ]
  },
  {
   "cell_type": "code",
   "execution_count": 8,
   "metadata": {},
   "outputs": [],
   "source": [
    "sagemaker_session = Session()\n",
    "role = get_execution_role()\n",
    "\n",
    "default_bucket = sagemaker_session.default_bucket()\n",
    "session = PipelineSession(boto_session=sagemaker_session.boto_session, default_bucket=default_bucket)\n",
    "pipeline_name = 'stock-pipeline'\n",
    "default_ticker = \"SPY\"\n",
    "years_of_data_to_fetch = 1"
   ]
  },
  {
   "cell_type": "code",
   "execution_count": 9,
   "metadata": {},
   "outputs": [],
   "source": [
    "# @step(\n",
    "#     instance_type=\"ml.m5.large\"\n",
    "# )\n",
    "# def train(data):\n",
    "#     # retrieve preprocessed csv data\n",
    "#     # train model\n",
    "#     # save model to s3 bucket /model with postfix of date and RMSE in filename\n",
    "#     logging.info(f'data should be output of preprocess function: {data}')\n",
    "#     return \"stub_train\""
   ]
  },
  {
   "cell_type": "code",
   "execution_count": 10,
   "metadata": {},
   "outputs": [],
   "source": [
    "# @step(\n",
    "#     instance_type=\"ml.m5.large\"\n",
    "# )\n",
    "# def eval(data):\n",
    "#     # load current model file and latest\n",
    "#     # extract model performance from RSME in filename\n",
    "#     # if model is better than current\n",
    "#     # pass True to deploy phase (Use conditional to assess when to run deploy)\n",
    "#     logging.info(f'data should be output of preprocess function: {data}')\n",
    "#     return False"
   ]
  },
  {
   "cell_type": "code",
   "execution_count": 11,
   "metadata": {},
   "outputs": [],
   "source": [
    "@step(\n",
    "    instance_type=\"ml.m5.large\"\n",
    ")\n",
    "def deploy(data):\n",
    "    # if latest_model is different than current\n",
    "    # update deployment to use latest model\n",
    "    logging.info(f'data should be output of train function: {data}')\n",
    "    return \"stub_eval\""
   ]
  },
  {
   "cell_type": "code",
   "execution_count": 12,
   "metadata": {},
   "outputs": [],
   "source": [
    "fetch_result = fetch(default_ticker, years_of_data_to_fetch)\n",
    "preprocess_result = preprocess(fetch_result)\n",
    "train_result = train(preprocess_result)\n",
    "eval_result = eval(train_result)\n",
    "deploy_result = deploy(eval_result)\n",
    "\n",
    "pipeline = Pipeline(\n",
    "    name=pipeline_name,\n",
    "    steps=[fetch_result, preprocess_result, train_result, eval_result, deploy_result],\n",
    "    sagemaker_session=session,\n",
    ")"
   ]
  },
  {
   "cell_type": "code",
   "execution_count": 13,
   "metadata": {},
   "outputs": [
    {
     "name": "stderr",
     "output_type": "stream",
     "text": [
      "2025-02-21 05:15:12,543 sagemaker.remote_function INFO     Uploading serialized function code to s3://sagemaker-us-east-1-971173012767/stock-pipeline/fetch-7ee5b9d5-cea8-4ebe-8e3d-59e18036aed9/2025-02-21-05-15-12-480/function\n",
      "2025-02-21 05:15:12,711 sagemaker.remote_function INFO     Uploading serialized function arguments to s3://sagemaker-us-east-1-971173012767/stock-pipeline/fetch-7ee5b9d5-cea8-4ebe-8e3d-59e18036aed9/2025-02-21-05-15-12-480/arguments\n",
      "2025-02-21 05:15:13,033 sagemaker.remote_function INFO     Copied dependencies file at 'requirements.txt' to '/tmp/tmpffeilvfv/requirements.txt'\n",
      "2025-02-21 05:15:13,065 sagemaker.remote_function INFO     Successfully uploaded dependencies and pre execution scripts to 's3://sagemaker-us-east-1-971173012767/stock-pipeline/fetch-7ee5b9d5-cea8-4ebe-8e3d-59e18036aed9/2025-02-21-05-15-12-480/pre_exec_script_and_dependencies'\n",
      "WARNING:sagemaker.workflow.utilities:Popping out 'TrainingJobName' from the pipeline definition by default since it will be overridden at pipeline execution time. Please utilize the PipelineDefinitionConfig to persist this field in the pipeline definition if desired.\n",
      "2025-02-21 05:15:13,068 sagemaker.remote_function INFO     Uploading serialized function code to s3://sagemaker-us-east-1-971173012767/stock-pipeline/preprocess-dc726027-9851-4bda-bee8-4aa6d3507081/2025-02-21-05-15-12-480/function\n",
      "2025-02-21 05:15:13,150 sagemaker.remote_function INFO     Uploading serialized function arguments to s3://sagemaker-us-east-1-971173012767/stock-pipeline/preprocess-dc726027-9851-4bda-bee8-4aa6d3507081/2025-02-21-05-15-12-480/arguments\n",
      "2025-02-21 05:15:13,269 sagemaker.remote_function INFO     Copied dependencies file at 'requirements.txt' to '/tmp/tmpa4gdjwpx/requirements.txt'\n",
      "2025-02-21 05:15:13,290 sagemaker.remote_function INFO     Successfully uploaded dependencies and pre execution scripts to 's3://sagemaker-us-east-1-971173012767/stock-pipeline/preprocess-dc726027-9851-4bda-bee8-4aa6d3507081/2025-02-21-05-15-12-480/pre_exec_script_and_dependencies'\n",
      "WARNING:sagemaker.workflow.utilities:Popping out 'TrainingJobName' from the pipeline definition by default since it will be overridden at pipeline execution time. Please utilize the PipelineDefinitionConfig to persist this field in the pipeline definition if desired.\n",
      "2025-02-21 05:15:13,295 sagemaker.remote_function INFO     Uploading serialized function code to s3://sagemaker-us-east-1-971173012767/stock-pipeline/train-f6377ecb-0a36-412f-a460-c8ad6fbd377c/2025-02-21-05-15-12-480/function\n",
      "2025-02-21 05:15:13,350 sagemaker.remote_function INFO     Uploading serialized function arguments to s3://sagemaker-us-east-1-971173012767/stock-pipeline/train-f6377ecb-0a36-412f-a460-c8ad6fbd377c/2025-02-21-05-15-12-480/arguments\n",
      "2025-02-21 05:15:13,419 sagemaker.remote_function INFO     Copied dependencies file at 'requirements.txt' to '/tmp/tmpi68l3dyj/requirements.txt'\n",
      "2025-02-21 05:15:13,464 sagemaker.remote_function INFO     Successfully uploaded dependencies and pre execution scripts to 's3://sagemaker-us-east-1-971173012767/stock-pipeline/train-f6377ecb-0a36-412f-a460-c8ad6fbd377c/2025-02-21-05-15-12-480/pre_exec_script_and_dependencies'\n",
      "WARNING:sagemaker.workflow.utilities:Popping out 'TrainingJobName' from the pipeline definition by default since it will be overridden at pipeline execution time. Please utilize the PipelineDefinitionConfig to persist this field in the pipeline definition if desired.\n",
      "2025-02-21 05:15:13,467 sagemaker.remote_function INFO     Uploading serialized function code to s3://sagemaker-us-east-1-971173012767/stock-pipeline/eval-ab761b65-aa36-4b6f-9fcf-bc1a1e63f0d7/2025-02-21-05-15-12-480/function\n",
      "2025-02-21 05:15:13,582 sagemaker.remote_function INFO     Uploading serialized function arguments to s3://sagemaker-us-east-1-971173012767/stock-pipeline/eval-ab761b65-aa36-4b6f-9fcf-bc1a1e63f0d7/2025-02-21-05-15-12-480/arguments\n",
      "2025-02-21 05:15:13,697 sagemaker.remote_function INFO     Copied dependencies file at 'requirements.txt' to '/tmp/tmpzvwptdms/requirements.txt'\n",
      "2025-02-21 05:15:13,721 sagemaker.remote_function INFO     Successfully uploaded dependencies and pre execution scripts to 's3://sagemaker-us-east-1-971173012767/stock-pipeline/eval-ab761b65-aa36-4b6f-9fcf-bc1a1e63f0d7/2025-02-21-05-15-12-480/pre_exec_script_and_dependencies'\n",
      "WARNING:sagemaker.workflow.utilities:Popping out 'TrainingJobName' from the pipeline definition by default since it will be overridden at pipeline execution time. Please utilize the PipelineDefinitionConfig to persist this field in the pipeline definition if desired.\n",
      "2025-02-21 05:15:13,725 sagemaker.remote_function INFO     Uploading serialized function code to s3://sagemaker-us-east-1-971173012767/stock-pipeline/deploy-96f4d89f-c77b-47bd-a72a-32bed5a41fd5/2025-02-21-05-15-12-480/function\n",
      "2025-02-21 05:15:13,838 sagemaker.remote_function INFO     Uploading serialized function arguments to s3://sagemaker-us-east-1-971173012767/stock-pipeline/deploy-96f4d89f-c77b-47bd-a72a-32bed5a41fd5/2025-02-21-05-15-12-480/arguments\n",
      "WARNING:sagemaker.workflow.utilities:Popping out 'TrainingJobName' from the pipeline definition by default since it will be overridden at pipeline execution time. Please utilize the PipelineDefinitionConfig to persist this field in the pipeline definition if desired.\n",
      "2025-02-21 05:15:14,309 sagemaker.remote_function INFO     Uploading serialized function code to s3://sagemaker-us-east-1-971173012767/stock-pipeline/fetch-7ee5b9d5-cea8-4ebe-8e3d-59e18036aed9/2025-02-21-05-15-14-309/function\n",
      "2025-02-21 05:15:14,388 sagemaker.remote_function INFO     Uploading serialized function arguments to s3://sagemaker-us-east-1-971173012767/stock-pipeline/fetch-7ee5b9d5-cea8-4ebe-8e3d-59e18036aed9/2025-02-21-05-15-14-309/arguments\n",
      "2025-02-21 05:15:14,573 sagemaker.remote_function INFO     Copied dependencies file at 'requirements.txt' to '/tmp/tmpt_u39vth/requirements.txt'\n",
      "2025-02-21 05:15:14,598 sagemaker.remote_function INFO     Successfully uploaded dependencies and pre execution scripts to 's3://sagemaker-us-east-1-971173012767/stock-pipeline/fetch-7ee5b9d5-cea8-4ebe-8e3d-59e18036aed9/2025-02-21-05-15-14-309/pre_exec_script_and_dependencies'\n",
      "WARNING:sagemaker.workflow.utilities:Popping out 'TrainingJobName' from the pipeline definition by default since it will be overridden at pipeline execution time. Please utilize the PipelineDefinitionConfig to persist this field in the pipeline definition if desired.\n",
      "2025-02-21 05:15:14,601 sagemaker.remote_function INFO     Uploading serialized function code to s3://sagemaker-us-east-1-971173012767/stock-pipeline/preprocess-dc726027-9851-4bda-bee8-4aa6d3507081/2025-02-21-05-15-14-309/function\n",
      "2025-02-21 05:15:14,693 sagemaker.remote_function INFO     Uploading serialized function arguments to s3://sagemaker-us-east-1-971173012767/stock-pipeline/preprocess-dc726027-9851-4bda-bee8-4aa6d3507081/2025-02-21-05-15-14-309/arguments\n",
      "2025-02-21 05:15:14,870 sagemaker.remote_function INFO     Copied dependencies file at 'requirements.txt' to '/tmp/tmpnpwt1z_2/requirements.txt'\n",
      "2025-02-21 05:15:14,891 sagemaker.remote_function INFO     Successfully uploaded dependencies and pre execution scripts to 's3://sagemaker-us-east-1-971173012767/stock-pipeline/preprocess-dc726027-9851-4bda-bee8-4aa6d3507081/2025-02-21-05-15-14-309/pre_exec_script_and_dependencies'\n",
      "WARNING:sagemaker.workflow.utilities:Popping out 'TrainingJobName' from the pipeline definition by default since it will be overridden at pipeline execution time. Please utilize the PipelineDefinitionConfig to persist this field in the pipeline definition if desired.\n",
      "2025-02-21 05:15:14,895 sagemaker.remote_function INFO     Uploading serialized function code to s3://sagemaker-us-east-1-971173012767/stock-pipeline/train-f6377ecb-0a36-412f-a460-c8ad6fbd377c/2025-02-21-05-15-14-309/function\n",
      "2025-02-21 05:15:15,010 sagemaker.remote_function INFO     Uploading serialized function arguments to s3://sagemaker-us-east-1-971173012767/stock-pipeline/train-f6377ecb-0a36-412f-a460-c8ad6fbd377c/2025-02-21-05-15-14-309/arguments\n",
      "2025-02-21 05:15:15,132 sagemaker.remote_function INFO     Copied dependencies file at 'requirements.txt' to '/tmp/tmpx640sz4l/requirements.txt'\n",
      "2025-02-21 05:15:15,176 sagemaker.remote_function INFO     Successfully uploaded dependencies and pre execution scripts to 's3://sagemaker-us-east-1-971173012767/stock-pipeline/train-f6377ecb-0a36-412f-a460-c8ad6fbd377c/2025-02-21-05-15-14-309/pre_exec_script_and_dependencies'\n",
      "WARNING:sagemaker.workflow.utilities:Popping out 'TrainingJobName' from the pipeline definition by default since it will be overridden at pipeline execution time. Please utilize the PipelineDefinitionConfig to persist this field in the pipeline definition if desired.\n",
      "2025-02-21 05:15:15,181 sagemaker.remote_function INFO     Uploading serialized function code to s3://sagemaker-us-east-1-971173012767/stock-pipeline/eval-ab761b65-aa36-4b6f-9fcf-bc1a1e63f0d7/2025-02-21-05-15-14-309/function\n",
      "2025-02-21 05:15:15,278 sagemaker.remote_function INFO     Uploading serialized function arguments to s3://sagemaker-us-east-1-971173012767/stock-pipeline/eval-ab761b65-aa36-4b6f-9fcf-bc1a1e63f0d7/2025-02-21-05-15-14-309/arguments\n",
      "2025-02-21 05:15:15,369 sagemaker.remote_function INFO     Copied dependencies file at 'requirements.txt' to '/tmp/tmpf7_by01y/requirements.txt'\n",
      "2025-02-21 05:15:15,397 sagemaker.remote_function INFO     Successfully uploaded dependencies and pre execution scripts to 's3://sagemaker-us-east-1-971173012767/stock-pipeline/eval-ab761b65-aa36-4b6f-9fcf-bc1a1e63f0d7/2025-02-21-05-15-14-309/pre_exec_script_and_dependencies'\n",
      "WARNING:sagemaker.workflow.utilities:Popping out 'TrainingJobName' from the pipeline definition by default since it will be overridden at pipeline execution time. Please utilize the PipelineDefinitionConfig to persist this field in the pipeline definition if desired.\n",
      "2025-02-21 05:15:15,400 sagemaker.remote_function INFO     Uploading serialized function code to s3://sagemaker-us-east-1-971173012767/stock-pipeline/deploy-96f4d89f-c77b-47bd-a72a-32bed5a41fd5/2025-02-21-05-15-14-309/function\n",
      "2025-02-21 05:15:15,464 sagemaker.remote_function INFO     Uploading serialized function arguments to s3://sagemaker-us-east-1-971173012767/stock-pipeline/deploy-96f4d89f-c77b-47bd-a72a-32bed5a41fd5/2025-02-21-05-15-14-309/arguments\n",
      "WARNING:sagemaker.workflow.utilities:Popping out 'TrainingJobName' from the pipeline definition by default since it will be overridden at pipeline execution time. Please utilize the PipelineDefinitionConfig to persist this field in the pipeline definition if desired.\n"
     ]
    },
    {
     "data": {
      "text/plain": [
       "{'PipelineArn': 'arn:aws:sagemaker:us-east-1:971173012767:pipeline/stock-pipeline',\n",
       " 'ResponseMetadata': {'RequestId': 'f41c0992-8742-4f67-9db2-bedbfca3a5cf',\n",
       "  'HTTPStatusCode': 200,\n",
       "  'HTTPHeaders': {'x-amzn-requestid': 'f41c0992-8742-4f67-9db2-bedbfca3a5cf',\n",
       "   'content-type': 'application/x-amz-json-1.1',\n",
       "   'content-length': '82',\n",
       "   'date': 'Fri, 21 Feb 2025 05:15:15 GMT'},\n",
       "  'RetryAttempts': 0}}"
      ]
     },
     "execution_count": 13,
     "metadata": {},
     "output_type": "execute_result"
    }
   ],
   "source": [
    "pipeline.upsert(role)"
   ]
  },
  {
   "cell_type": "code",
   "execution_count": 14,
   "metadata": {},
   "outputs": [
    {
     "data": {
      "text/plain": [
       "_PipelineExecution(arn='arn:aws:sagemaker:us-east-1:971173012767:pipeline/stock-pipeline/execution/l44hpluk9kpk', sagemaker_session=<sagemaker.workflow.pipeline_context.PipelineSession object at 0x7f61d718f350>)"
      ]
     },
     "execution_count": 14,
     "metadata": {},
     "output_type": "execute_result"
    }
   ],
   "source": [
    "pipeline.start()"
   ]
  },
  {
   "cell_type": "code",
   "execution_count": null,
   "metadata": {},
   "outputs": [],
   "source": []
  }
 ],
 "metadata": {
  "kernelspec": {
   "display_name": "Python 3 (ipykernel)",
   "language": "python",
   "name": "python3"
  },
  "language_info": {
   "codemirror_mode": {
    "name": "ipython",
    "version": 3
   },
   "file_extension": ".py",
   "mimetype": "text/x-python",
   "name": "python",
   "nbconvert_exporter": "python",
   "pygments_lexer": "ipython3",
   "version": "3.11.11"
  }
 },
 "nbformat": 4,
 "nbformat_minor": 2
}
