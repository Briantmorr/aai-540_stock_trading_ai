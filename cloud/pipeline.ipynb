{
 "cells": [
  {
   "cell_type": "code",
   "execution_count": 1,
   "metadata": {},
   "outputs": [],
   "source": [
    "!pip install -r ./requirements.txt -q"
   ]
  },
  {
   "cell_type": "code",
   "execution_count": 2,
   "metadata": {},
   "outputs": [
    {
     "name": "stdout",
     "output_type": "stream",
     "text": [
      "sagemaker.config INFO - Not applying SDK defaults from location: /etc/xdg/sagemaker/config.yaml\n",
      "sagemaker.config INFO - Not applying SDK defaults from location: /home/sagemaker-user/.config/sagemaker/config.yaml\n"
     ]
    }
   ],
   "source": [
    "from sagemaker.workflow.pipeline_context import PipelineSession\n",
    "from sagemaker.workflow.pipeline import Pipeline\n",
    "\n",
    "from sagemaker.workflow.function_step import step\n",
    "from sagemaker import get_execution_role, Session\n",
    "import logging\n",
    "import os"
   ]
  },
  {
   "cell_type": "code",
   "execution_count": 3,
   "metadata": {},
   "outputs": [],
   "source": [
    "from steps.fetch import fetch\n",
    "from steps.preprocess import preprocess\n",
    "from steps.train import train\n",
    "from steps.eval import eval\n",
    "from steps.deploy import deploy"
   ]
  },
  {
   "cell_type": "code",
   "execution_count": 12,
   "metadata": {},
   "outputs": [],
   "source": [
    "# # mport importlib\n",
    "# # import sys\n",
    "# # importlib.reload(sys.modules['my_module'])\n",
    "# # from my_module import my_function\n",
    "\n",
    "# import importlib\n",
    "# import steps.deploy\n",
    "# importlib.reload(steps.deploy)\n",
    "# from steps.deploy import deploy"
   ]
  },
  {
   "cell_type": "code",
   "execution_count": 4,
   "metadata": {},
   "outputs": [],
   "source": [
    "os.environ[\"SAGEMAKER_USER_CONFIG_OVERRIDE\"] = os.getcwd()"
   ]
  },
  {
   "cell_type": "code",
   "execution_count": 5,
   "metadata": {},
   "outputs": [
    {
     "name": "stdout",
     "output_type": "stream",
     "text": [
      "sagemaker.config INFO - Fetched defaults config from location: /home/sagemaker-user/aai-540_stock_trading_ai/cloud\n"
     ]
    }
   ],
   "source": [
    "sagemaker_session = Session()\n",
    "role = get_execution_role()\n",
    "\n",
    "default_bucket = sagemaker_session.default_bucket()\n",
    "session = PipelineSession(boto_session=sagemaker_session.boto_session, default_bucket=default_bucket)\n",
    "pipeline_name = 'stock-pipeline'\n",
    "default_ticker = \"SPY\"\n",
    "years_of_data_to_fetch = 1"
   ]
  },
  {
   "cell_type": "code",
   "execution_count": 6,
   "metadata": {},
   "outputs": [],
   "source": [
    "fetch_result = fetch(default_ticker, years_of_data_to_fetch)\n",
    "# print(fetch_result)"
   ]
  },
  {
   "cell_type": "code",
   "execution_count": 9,
   "metadata": {},
   "outputs": [],
   "source": [
    "preprocess_result = preprocess(fetch_result)\n",
    "# print(preprocess_result)"
   ]
  },
  {
   "cell_type": "code",
   "execution_count": 10,
   "metadata": {},
   "outputs": [],
   "source": [
    "train_result = train(preprocess_result)\n",
    "# print(train_result)"
   ]
  },
  {
   "cell_type": "code",
   "execution_count": 11,
   "metadata": {},
   "outputs": [],
   "source": [
    "eval_result = eval(train_result)\n",
    "# print(eval_result)"
   ]
  },
  {
   "cell_type": "code",
   "execution_count": 12,
   "metadata": {},
   "outputs": [],
   "source": [
    "deploy_result = deploy(eval_result)\n",
    "# print(deploy_result)"
   ]
  },
  {
   "cell_type": "code",
   "execution_count": 13,
   "metadata": {},
   "outputs": [],
   "source": [
    "pipeline = Pipeline(\n",
    "    name=pipeline_name,\n",
    "    steps=[fetch_result, preprocess_result, train_result, eval_result, deploy_result],\n",
    "    sagemaker_session=session,\n",
    ")"
   ]
  },
  {
   "cell_type": "code",
   "execution_count": 14,
   "metadata": {},
   "outputs": [
    {
     "name": "stdout",
     "output_type": "stream",
     "text": [
      "sagemaker.config INFO - Applied value from config key = SageMaker.PythonSDK.Modules.RemoteFunction.Dependencies\n",
      "sagemaker.config INFO - Applied value from config key = SageMaker.PythonSDK.Modules.RemoteFunction.IncludeLocalWorkDir\n",
      "sagemaker.config INFO - Applied value from config key = SageMaker.PythonSDK.Modules.RemoteFunction.CustomFileFilter.IgnoreNamePatterns\n"
     ]
    },
    {
     "name": "stderr",
     "output_type": "stream",
     "text": [
      "2025-02-22 19:49:57,431 sagemaker.remote_function INFO     Uploading serialized function code to s3://sagemaker-us-east-1-971173012767/stock-pipeline/fetch-381e2240-ea15-4f74-87a5-59955f831116/2025-02-22-19-49-55-409/function\n",
      "2025-02-22 19:49:57,536 sagemaker.remote_function INFO     Uploading serialized function arguments to s3://sagemaker-us-east-1-971173012767/stock-pipeline/fetch-381e2240-ea15-4f74-87a5-59955f831116/2025-02-22-19-49-55-409/arguments\n",
      "2025-02-22 19:49:57,728 sagemaker.remote_function INFO     Copied dependencies file at './requirements.txt' to '/tmp/tmph_u485ec/requirements.txt'\n",
      "2025-02-22 19:49:57,758 sagemaker.remote_function INFO     Successfully uploaded dependencies and pre execution scripts to 's3://sagemaker-us-east-1-971173012767/stock-pipeline/fetch-381e2240-ea15-4f74-87a5-59955f831116/2025-02-22-19-49-55-409/pre_exec_script_and_dependencies'\n",
      "2025-02-22 19:49:57,764 sagemaker.remote_function INFO     Copied user workspace to '/tmp/tmpjgy26d8z/temp_workspace/sagemaker_remote_function_workspace'\n",
      "2025-02-22 19:49:57,776 sagemaker.remote_function INFO     Successfully created workdir archive at '/tmp/tmpjgy26d8z/workspace.zip'\n",
      "2025-02-22 19:49:57,821 sagemaker.remote_function INFO     Successfully uploaded workdir to 's3://sagemaker-us-east-1-971173012767/stock-pipeline/sm_rf_user_ws/2025-02-22-19-49-55-409/workspace.zip'\n",
      "WARNING:sagemaker.workflow.utilities:Popping out 'TrainingJobName' from the pipeline definition by default since it will be overridden at pipeline execution time. Please utilize the PipelineDefinitionConfig to persist this field in the pipeline definition if desired.\n"
     ]
    },
    {
     "name": "stdout",
     "output_type": "stream",
     "text": [
      "sagemaker.config INFO - Applied value from config key = SageMaker.PythonSDK.Modules.RemoteFunction.Dependencies\n",
      "sagemaker.config INFO - Applied value from config key = SageMaker.PythonSDK.Modules.RemoteFunction.IncludeLocalWorkDir\n",
      "sagemaker.config INFO - Applied value from config key = SageMaker.PythonSDK.Modules.RemoteFunction.CustomFileFilter.IgnoreNamePatterns\n"
     ]
    },
    {
     "name": "stderr",
     "output_type": "stream",
     "text": [
      "2025-02-22 19:49:59,679 sagemaker.remote_function INFO     Uploading serialized function code to s3://sagemaker-us-east-1-971173012767/stock-pipeline/preprocess-06555a88-57b5-45b4-9f1d-80016ac4edc3/2025-02-22-19-49-55-409/function\n",
      "2025-02-22 19:49:59,758 sagemaker.remote_function INFO     Uploading serialized function arguments to s3://sagemaker-us-east-1-971173012767/stock-pipeline/preprocess-06555a88-57b5-45b4-9f1d-80016ac4edc3/2025-02-22-19-49-55-409/arguments\n",
      "2025-02-22 19:49:59,833 sagemaker.remote_function INFO     Copied dependencies file at './requirements.txt' to '/tmp/tmp66hdy4br/requirements.txt'\n",
      "2025-02-22 19:49:59,861 sagemaker.remote_function INFO     Successfully uploaded dependencies and pre execution scripts to 's3://sagemaker-us-east-1-971173012767/stock-pipeline/preprocess-06555a88-57b5-45b4-9f1d-80016ac4edc3/2025-02-22-19-49-55-409/pre_exec_script_and_dependencies'\n",
      "WARNING:sagemaker.workflow.utilities:Popping out 'TrainingJobName' from the pipeline definition by default since it will be overridden at pipeline execution time. Please utilize the PipelineDefinitionConfig to persist this field in the pipeline definition if desired.\n"
     ]
    },
    {
     "name": "stdout",
     "output_type": "stream",
     "text": [
      "sagemaker.config INFO - Applied value from config key = SageMaker.PythonSDK.Modules.RemoteFunction.Dependencies\n",
      "sagemaker.config INFO - Applied value from config key = SageMaker.PythonSDK.Modules.RemoteFunction.IncludeLocalWorkDir\n",
      "sagemaker.config INFO - Applied value from config key = SageMaker.PythonSDK.Modules.RemoteFunction.CustomFileFilter.IgnoreNamePatterns\n"
     ]
    },
    {
     "name": "stderr",
     "output_type": "stream",
     "text": [
      "2025-02-22 19:50:02,767 sagemaker.remote_function INFO     Uploading serialized function code to s3://sagemaker-us-east-1-971173012767/stock-pipeline/train-6a942279-e601-4b3f-8158-067e0549a5d0/2025-02-22-19-49-55-409/function\n",
      "2025-02-22 19:50:02,869 sagemaker.remote_function INFO     Uploading serialized function arguments to s3://sagemaker-us-east-1-971173012767/stock-pipeline/train-6a942279-e601-4b3f-8158-067e0549a5d0/2025-02-22-19-49-55-409/arguments\n",
      "2025-02-22 19:50:02,947 sagemaker.remote_function INFO     Copied dependencies file at './requirements.txt' to '/tmp/tmp5osd4aul/requirements.txt'\n",
      "2025-02-22 19:50:02,976 sagemaker.remote_function INFO     Successfully uploaded dependencies and pre execution scripts to 's3://sagemaker-us-east-1-971173012767/stock-pipeline/train-6a942279-e601-4b3f-8158-067e0549a5d0/2025-02-22-19-49-55-409/pre_exec_script_and_dependencies'\n",
      "WARNING:sagemaker.workflow.utilities:Popping out 'TrainingJobName' from the pipeline definition by default since it will be overridden at pipeline execution time. Please utilize the PipelineDefinitionConfig to persist this field in the pipeline definition if desired.\n"
     ]
    },
    {
     "name": "stdout",
     "output_type": "stream",
     "text": [
      "sagemaker.config INFO - Applied value from config key = SageMaker.PythonSDK.Modules.RemoteFunction.Dependencies\n",
      "sagemaker.config INFO - Applied value from config key = SageMaker.PythonSDK.Modules.RemoteFunction.IncludeLocalWorkDir\n",
      "sagemaker.config INFO - Applied value from config key = SageMaker.PythonSDK.Modules.RemoteFunction.CustomFileFilter.IgnoreNamePatterns\n"
     ]
    },
    {
     "name": "stderr",
     "output_type": "stream",
     "text": [
      "2025-02-22 19:50:05,256 sagemaker.remote_function INFO     Uploading serialized function code to s3://sagemaker-us-east-1-971173012767/stock-pipeline/eval-6412e598-ac0a-4b06-ac99-29abc411c1f4/2025-02-22-19-49-55-409/function\n",
      "2025-02-22 19:50:05,322 sagemaker.remote_function INFO     Uploading serialized function arguments to s3://sagemaker-us-east-1-971173012767/stock-pipeline/eval-6412e598-ac0a-4b06-ac99-29abc411c1f4/2025-02-22-19-49-55-409/arguments\n",
      "2025-02-22 19:50:05,400 sagemaker.remote_function INFO     Copied dependencies file at './requirements.txt' to '/tmp/tmp6q3uewe_/requirements.txt'\n",
      "2025-02-22 19:50:05,428 sagemaker.remote_function INFO     Successfully uploaded dependencies and pre execution scripts to 's3://sagemaker-us-east-1-971173012767/stock-pipeline/eval-6412e598-ac0a-4b06-ac99-29abc411c1f4/2025-02-22-19-49-55-409/pre_exec_script_and_dependencies'\n",
      "WARNING:sagemaker.workflow.utilities:Popping out 'TrainingJobName' from the pipeline definition by default since it will be overridden at pipeline execution time. Please utilize the PipelineDefinitionConfig to persist this field in the pipeline definition if desired.\n"
     ]
    },
    {
     "name": "stdout",
     "output_type": "stream",
     "text": [
      "sagemaker.config INFO - Applied value from config key = SageMaker.PythonSDK.Modules.RemoteFunction.Dependencies\n",
      "sagemaker.config INFO - Applied value from config key = SageMaker.PythonSDK.Modules.RemoteFunction.IncludeLocalWorkDir\n",
      "sagemaker.config INFO - Applied value from config key = SageMaker.PythonSDK.Modules.RemoteFunction.CustomFileFilter.IgnoreNamePatterns\n"
     ]
    },
    {
     "name": "stderr",
     "output_type": "stream",
     "text": [
      "2025-02-22 19:50:07,700 sagemaker.remote_function INFO     Uploading serialized function code to s3://sagemaker-us-east-1-971173012767/stock-pipeline/deploy-e9cee4d3-93ea-4862-9893-721e0f29d111/2025-02-22-19-49-55-409/function\n",
      "2025-02-22 19:50:07,765 sagemaker.remote_function INFO     Uploading serialized function arguments to s3://sagemaker-us-east-1-971173012767/stock-pipeline/deploy-e9cee4d3-93ea-4862-9893-721e0f29d111/2025-02-22-19-49-55-409/arguments\n",
      "2025-02-22 19:50:07,834 sagemaker.remote_function INFO     Copied dependencies file at './requirements.txt' to '/tmp/tmp85pbdlnq/requirements.txt'\n",
      "2025-02-22 19:50:07,864 sagemaker.remote_function INFO     Successfully uploaded dependencies and pre execution scripts to 's3://sagemaker-us-east-1-971173012767/stock-pipeline/deploy-e9cee4d3-93ea-4862-9893-721e0f29d111/2025-02-22-19-49-55-409/pre_exec_script_and_dependencies'\n",
      "WARNING:sagemaker.workflow.utilities:Popping out 'TrainingJobName' from the pipeline definition by default since it will be overridden at pipeline execution time. Please utilize the PipelineDefinitionConfig to persist this field in the pipeline definition if desired.\n",
      "2025-02-22 19:50:08,531 sagemaker.remote_function INFO     Uploading serialized function code to s3://sagemaker-us-east-1-971173012767/stock-pipeline/fetch-381e2240-ea15-4f74-87a5-59955f831116/2025-02-22-19-50-08-531/function\n",
      "2025-02-22 19:50:08,601 sagemaker.remote_function INFO     Uploading serialized function arguments to s3://sagemaker-us-east-1-971173012767/stock-pipeline/fetch-381e2240-ea15-4f74-87a5-59955f831116/2025-02-22-19-50-08-531/arguments\n",
      "2025-02-22 19:50:08,811 sagemaker.remote_function INFO     Copied dependencies file at './requirements.txt' to '/tmp/tmp1zbding8/requirements.txt'\n",
      "2025-02-22 19:50:08,844 sagemaker.remote_function INFO     Successfully uploaded dependencies and pre execution scripts to 's3://sagemaker-us-east-1-971173012767/stock-pipeline/fetch-381e2240-ea15-4f74-87a5-59955f831116/2025-02-22-19-50-08-531/pre_exec_script_and_dependencies'\n",
      "2025-02-22 19:50:08,852 sagemaker.remote_function INFO     Copied user workspace to '/tmp/tmp_rj780_t/temp_workspace/sagemaker_remote_function_workspace'\n",
      "2025-02-22 19:50:08,860 sagemaker.remote_function INFO     Successfully created workdir archive at '/tmp/tmp_rj780_t/workspace.zip'\n",
      "2025-02-22 19:50:08,931 sagemaker.remote_function INFO     Successfully uploaded workdir to 's3://sagemaker-us-east-1-971173012767/stock-pipeline/sm_rf_user_ws/2025-02-22-19-50-08-531/workspace.zip'\n",
      "WARNING:sagemaker.workflow.utilities:Popping out 'TrainingJobName' from the pipeline definition by default since it will be overridden at pipeline execution time. Please utilize the PipelineDefinitionConfig to persist this field in the pipeline definition if desired.\n",
      "2025-02-22 19:50:08,941 sagemaker.remote_function INFO     Uploading serialized function code to s3://sagemaker-us-east-1-971173012767/stock-pipeline/preprocess-06555a88-57b5-45b4-9f1d-80016ac4edc3/2025-02-22-19-50-08-531/function\n",
      "2025-02-22 19:50:09,015 sagemaker.remote_function INFO     Uploading serialized function arguments to s3://sagemaker-us-east-1-971173012767/stock-pipeline/preprocess-06555a88-57b5-45b4-9f1d-80016ac4edc3/2025-02-22-19-50-08-531/arguments\n",
      "2025-02-22 19:50:09,104 sagemaker.remote_function INFO     Copied dependencies file at './requirements.txt' to '/tmp/tmpai13cu_t/requirements.txt'\n",
      "2025-02-22 19:50:09,137 sagemaker.remote_function INFO     Successfully uploaded dependencies and pre execution scripts to 's3://sagemaker-us-east-1-971173012767/stock-pipeline/preprocess-06555a88-57b5-45b4-9f1d-80016ac4edc3/2025-02-22-19-50-08-531/pre_exec_script_and_dependencies'\n",
      "WARNING:sagemaker.workflow.utilities:Popping out 'TrainingJobName' from the pipeline definition by default since it will be overridden at pipeline execution time. Please utilize the PipelineDefinitionConfig to persist this field in the pipeline definition if desired.\n",
      "2025-02-22 19:50:09,140 sagemaker.remote_function INFO     Uploading serialized function code to s3://sagemaker-us-east-1-971173012767/stock-pipeline/train-6a942279-e601-4b3f-8158-067e0549a5d0/2025-02-22-19-50-08-531/function\n",
      "2025-02-22 19:50:09,203 sagemaker.remote_function INFO     Uploading serialized function arguments to s3://sagemaker-us-east-1-971173012767/stock-pipeline/train-6a942279-e601-4b3f-8158-067e0549a5d0/2025-02-22-19-50-08-531/arguments\n",
      "2025-02-22 19:50:09,272 sagemaker.remote_function INFO     Copied dependencies file at './requirements.txt' to '/tmp/tmpi02y1gs6/requirements.txt'\n",
      "2025-02-22 19:50:09,300 sagemaker.remote_function INFO     Successfully uploaded dependencies and pre execution scripts to 's3://sagemaker-us-east-1-971173012767/stock-pipeline/train-6a942279-e601-4b3f-8158-067e0549a5d0/2025-02-22-19-50-08-531/pre_exec_script_and_dependencies'\n",
      "WARNING:sagemaker.workflow.utilities:Popping out 'TrainingJobName' from the pipeline definition by default since it will be overridden at pipeline execution time. Please utilize the PipelineDefinitionConfig to persist this field in the pipeline definition if desired.\n",
      "2025-02-22 19:50:09,302 sagemaker.remote_function INFO     Uploading serialized function code to s3://sagemaker-us-east-1-971173012767/stock-pipeline/eval-6412e598-ac0a-4b06-ac99-29abc411c1f4/2025-02-22-19-50-08-531/function\n",
      "2025-02-22 19:50:09,424 sagemaker.remote_function INFO     Uploading serialized function arguments to s3://sagemaker-us-east-1-971173012767/stock-pipeline/eval-6412e598-ac0a-4b06-ac99-29abc411c1f4/2025-02-22-19-50-08-531/arguments\n",
      "2025-02-22 19:50:09,497 sagemaker.remote_function INFO     Copied dependencies file at './requirements.txt' to '/tmp/tmpgamqcu73/requirements.txt'\n",
      "2025-02-22 19:50:09,523 sagemaker.remote_function INFO     Successfully uploaded dependencies and pre execution scripts to 's3://sagemaker-us-east-1-971173012767/stock-pipeline/eval-6412e598-ac0a-4b06-ac99-29abc411c1f4/2025-02-22-19-50-08-531/pre_exec_script_and_dependencies'\n",
      "WARNING:sagemaker.workflow.utilities:Popping out 'TrainingJobName' from the pipeline definition by default since it will be overridden at pipeline execution time. Please utilize the PipelineDefinitionConfig to persist this field in the pipeline definition if desired.\n",
      "2025-02-22 19:50:09,526 sagemaker.remote_function INFO     Uploading serialized function code to s3://sagemaker-us-east-1-971173012767/stock-pipeline/deploy-e9cee4d3-93ea-4862-9893-721e0f29d111/2025-02-22-19-50-08-531/function\n",
      "2025-02-22 19:50:09,594 sagemaker.remote_function INFO     Uploading serialized function arguments to s3://sagemaker-us-east-1-971173012767/stock-pipeline/deploy-e9cee4d3-93ea-4862-9893-721e0f29d111/2025-02-22-19-50-08-531/arguments\n",
      "2025-02-22 19:50:09,661 sagemaker.remote_function INFO     Copied dependencies file at './requirements.txt' to '/tmp/tmpk7ywi7mn/requirements.txt'\n",
      "2025-02-22 19:50:09,694 sagemaker.remote_function INFO     Successfully uploaded dependencies and pre execution scripts to 's3://sagemaker-us-east-1-971173012767/stock-pipeline/deploy-e9cee4d3-93ea-4862-9893-721e0f29d111/2025-02-22-19-50-08-531/pre_exec_script_and_dependencies'\n",
      "WARNING:sagemaker.workflow.utilities:Popping out 'TrainingJobName' from the pipeline definition by default since it will be overridden at pipeline execution time. Please utilize the PipelineDefinitionConfig to persist this field in the pipeline definition if desired.\n"
     ]
    },
    {
     "data": {
      "text/plain": [
       "{'PipelineArn': 'arn:aws:sagemaker:us-east-1:971173012767:pipeline/stock-pipeline',\n",
       " 'ResponseMetadata': {'RequestId': '1e1ce4d3-1d9a-40f2-8b49-11654fb8b8b4',\n",
       "  'HTTPStatusCode': 200,\n",
       "  'HTTPHeaders': {'x-amzn-requestid': '1e1ce4d3-1d9a-40f2-8b49-11654fb8b8b4',\n",
       "   'content-type': 'application/x-amz-json-1.1',\n",
       "   'content-length': '82',\n",
       "   'date': 'Sat, 22 Feb 2025 19:50:09 GMT'},\n",
       "  'RetryAttempts': 0}}"
      ]
     },
     "execution_count": 14,
     "metadata": {},
     "output_type": "execute_result"
    }
   ],
   "source": [
    "pipeline.upsert(role)"
   ]
  },
  {
   "cell_type": "code",
   "execution_count": 15,
   "metadata": {},
   "outputs": [
    {
     "data": {
      "text/plain": [
       "_PipelineExecution(arn='arn:aws:sagemaker:us-east-1:971173012767:pipeline/stock-pipeline/execution/42i3hk5gvopy', sagemaker_session=<sagemaker.workflow.pipeline_context.PipelineSession object at 0x7f13701fa8d0>)"
      ]
     },
     "execution_count": 15,
     "metadata": {},
     "output_type": "execute_result"
    }
   ],
   "source": [
    "pipeline.start()"
   ]
  },
  {
   "cell_type": "markdown",
   "metadata": {},
   "source": [
    "## Verify after successful pipeline run"
   ]
  },
  {
   "cell_type": "code",
   "execution_count": null,
   "metadata": {},
   "outputs": [],
   "source": [
    "from steps.deploy import deploy\n",
    "import boto3\n",
    "import json\n",
    "import torch\n",
    "import numpy as np\n",
    "from datetime import datetime\n",
    "import logging"
   ]
  },
  {
   "cell_type": "code",
   "execution_count": null,
   "metadata": {},
   "outputs": [],
   "source": [
    "# Set to endpoint name\n",
    "endpoint_name=\"stock-pipeline-endpoint-20250221-234058\""
   ]
  },
  {
   "cell_type": "code",
   "execution_count": null,
   "metadata": {},
   "outputs": [],
   "source": [
    "sequence_length = 30\n",
    "input_data = np.random.rand(sequence_length, 4).tolist()  \n",
    "# Ensure the input matches the expected shape: [seq_len, 4]\n",
    "# endpoint_name=\"https://runtime.sagemaker.us-east-1.amazonaws.com/endpoints/stock-pipeline-endpoint-20250221-234058/invocatio\n",
    "endpoint_name=\"stock-pipeline-endpoint-20250221-234058\"\n",
    "\n",
    "# Convert to JSON\n",
    "input_json = json.dumps(input_data)\n",
    "\n",
    "# Call the endpoint\n",
    "try:\n",
    "    runtime = boto3.client('sagemaker-runtime')\n",
    "    print(f\"Invoking endpoint: {endpoint_name}\")\n",
    "    response = runtime.invoke_endpoint(\n",
    "        EndpointName=endpoint_name,\n",
    "        ContentType='application/json',\n",
    "        Body=input_json\n",
    "    )\n",
    "    \n",
    "    # Parse the response\n",
    "    result = json.loads(response['Body'].read().decode())\n",
    "    # logger.info(f\"Prediction: {result}\")\n",
    "    print(f\"Prediction from endpoint {endpoint_name}: {result}\")\n",
    "\n",
    "except Exception as e:\n",
    "    print(f\"Error invoking endpoint: {e}\")\n",
    "    raise e"
   ]
  },
  {
   "cell_type": "code",
   "execution_count": null,
   "metadata": {},
   "outputs": [],
   "source": []
  }
 ],
 "metadata": {
  "kernelspec": {
   "display_name": "Python 3 (ipykernel)",
   "language": "python",
   "name": "python3"
  },
  "language_info": {
   "codemirror_mode": {
    "name": "ipython",
    "version": 3
   },
   "file_extension": ".py",
   "mimetype": "text/x-python",
   "name": "python",
   "nbconvert_exporter": "python",
   "pygments_lexer": "ipython3",
   "version": "3.11.11"
  }
 },
 "nbformat": 4,
 "nbformat_minor": 2
}
