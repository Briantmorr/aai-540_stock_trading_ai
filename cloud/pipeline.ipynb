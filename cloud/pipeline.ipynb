{
 "cells": [
  {
   "cell_type": "code",
   "execution_count": 1,
   "metadata": {},
   "outputs": [],
   "source": [
    "!pip install -r ./requirements.txt -q"
   ]
  },
  {
   "cell_type": "code",
   "execution_count": 2,
   "metadata": {},
   "outputs": [
    {
     "name": "stdout",
     "output_type": "stream",
     "text": [
      "sagemaker.config INFO - Not applying SDK defaults from location: /etc/xdg/sagemaker/config.yaml\n",
      "sagemaker.config INFO - Not applying SDK defaults from location: /home/sagemaker-user/.config/sagemaker/config.yaml\n"
     ]
    }
   ],
   "source": [
    "from sagemaker.workflow.pipeline_context import PipelineSession\n",
    "from sagemaker.workflow.pipeline import Pipeline\n",
    "\n",
    "from sagemaker.workflow.function_step import step\n",
    "from sagemaker import get_execution_role, Session\n",
    "import logging\n",
    "import os"
   ]
  },
  {
   "cell_type": "code",
   "execution_count": 3,
   "metadata": {},
   "outputs": [],
   "source": [
    "from steps.fetch import fetch\n",
    "from steps.preprocess import preprocess\n",
    "from steps.train import train\n",
    "from steps.eval import eval\n",
    "from steps.deploy import deploy"
   ]
  },
  {
   "cell_type": "code",
   "execution_count": 4,
   "metadata": {},
   "outputs": [],
   "source": [
    "# # mport importlib\n",
    "# # import sys\n",
    "# # importlib.reload(sys.modules['my_module'])\n",
    "# # from my_module import my_function\n",
    "\n",
    "# import importlib\n",
    "# import steps.deploy\n",
    "# importlib.reload(steps.deploy)\n",
    "# from steps.deploy import deploy"
   ]
  },
  {
   "cell_type": "code",
   "execution_count": 5,
   "metadata": {},
   "outputs": [],
   "source": [
    "os.environ[\"SAGEMAKER_USER_CONFIG_OVERRIDE\"] = os.getcwd()"
   ]
  },
  {
   "cell_type": "code",
   "execution_count": 6,
   "metadata": {},
   "outputs": [
    {
     "name": "stdout",
     "output_type": "stream",
     "text": [
      "sagemaker.config INFO - Fetched defaults config from location: /home/sagemaker-user/aai-540_stock_trading_ai/cloud\n"
     ]
    }
   ],
   "source": [
    "sagemaker_session = Session()\n",
    "role = get_execution_role()\n",
    "\n",
    "default_bucket = sagemaker_session.default_bucket()\n",
    "session = PipelineSession(boto_session=sagemaker_session.boto_session, default_bucket=default_bucket)\n",
    "pipeline_name = 'stock-pipeline'\n",
    "default_ticker = \"SPY\"\n",
    "years_of_data_to_fetch = 1"
   ]
  },
  {
   "cell_type": "code",
   "execution_count": 7,
   "metadata": {},
   "outputs": [],
   "source": [
    "fetch_result = fetch(default_ticker, years_of_data_to_fetch)\n",
    "# print(fetch_result)"
   ]
  },
  {
   "cell_type": "code",
   "execution_count": 8,
   "metadata": {},
   "outputs": [],
   "source": [
    "preprocess_result = preprocess(fetch_result)\n",
    "# print(preprocess_result)"
   ]
  },
  {
   "cell_type": "code",
   "execution_count": 9,
   "metadata": {},
   "outputs": [],
   "source": [
    "train_result = train(preprocess_result)\n",
    "# print(train_result)"
   ]
  },
  {
   "cell_type": "code",
   "execution_count": 10,
   "metadata": {},
   "outputs": [],
   "source": [
    "eval_result = eval(train_result)\n",
    "# print(eval_result)"
   ]
  },
  {
   "cell_type": "code",
   "execution_count": 11,
   "metadata": {},
   "outputs": [],
   "source": [
    "deploy_result = deploy(eval_result)\n",
    "# print(deploy_result)"
   ]
  },
  {
   "cell_type": "code",
   "execution_count": 12,
   "metadata": {},
   "outputs": [],
   "source": [
    "pipeline = Pipeline(\n",
    "    name=pipeline_name,\n",
    "    steps=[fetch_result, preprocess_result, train_result, eval_result, deploy_result],\n",
    "    sagemaker_session=session,\n",
    ")"
   ]
  },
  {
   "cell_type": "code",
   "execution_count": 13,
   "metadata": {},
   "outputs": [
    {
     "name": "stdout",
     "output_type": "stream",
     "text": [
      "sagemaker.config INFO - Applied value from config key = SageMaker.PythonSDK.Modules.RemoteFunction.Dependencies\n",
      "sagemaker.config INFO - Applied value from config key = SageMaker.PythonSDK.Modules.RemoteFunction.IncludeLocalWorkDir\n",
      "sagemaker.config INFO - Applied value from config key = SageMaker.PythonSDK.Modules.RemoteFunction.CustomFileFilter.IgnoreNamePatterns\n"
     ]
    },
    {
     "name": "stderr",
     "output_type": "stream",
     "text": [
      "2025-02-23 17:36:57,922 sagemaker.remote_function INFO     Uploading serialized function code to s3://sagemaker-us-east-1-971173012767/stock-pipeline/fetch-705e2510-ab10-46ad-b1df-7d96be7ad321/2025-02-23-17-36-55-739/function\n",
      "2025-02-23 17:36:58,047 sagemaker.remote_function INFO     Uploading serialized function arguments to s3://sagemaker-us-east-1-971173012767/stock-pipeline/fetch-705e2510-ab10-46ad-b1df-7d96be7ad321/2025-02-23-17-36-55-739/arguments\n",
      "2025-02-23 17:36:58,241 sagemaker.remote_function INFO     Copied dependencies file at './requirements.txt' to '/tmp/tmp2vf63gpl/requirements.txt'\n",
      "2025-02-23 17:36:58,261 sagemaker.remote_function INFO     Successfully uploaded dependencies and pre execution scripts to 's3://sagemaker-us-east-1-971173012767/stock-pipeline/fetch-705e2510-ab10-46ad-b1df-7d96be7ad321/2025-02-23-17-36-55-739/pre_exec_script_and_dependencies'\n",
      "2025-02-23 17:36:58,268 sagemaker.remote_function INFO     Copied user workspace to '/tmp/tmp0yxbgxd8/temp_workspace/sagemaker_remote_function_workspace'\n",
      "2025-02-23 17:36:58,279 sagemaker.remote_function INFO     Successfully created workdir archive at '/tmp/tmp0yxbgxd8/workspace.zip'\n",
      "2025-02-23 17:36:58,308 sagemaker.remote_function INFO     Successfully uploaded workdir to 's3://sagemaker-us-east-1-971173012767/stock-pipeline/sm_rf_user_ws/2025-02-23-17-36-55-739/workspace.zip'\n",
      "WARNING:sagemaker.workflow.utilities:Popping out 'TrainingJobName' from the pipeline definition by default since it will be overridden at pipeline execution time. Please utilize the PipelineDefinitionConfig to persist this field in the pipeline definition if desired.\n"
     ]
    },
    {
     "name": "stdout",
     "output_type": "stream",
     "text": [
      "sagemaker.config INFO - Applied value from config key = SageMaker.PythonSDK.Modules.RemoteFunction.Dependencies\n",
      "sagemaker.config INFO - Applied value from config key = SageMaker.PythonSDK.Modules.RemoteFunction.IncludeLocalWorkDir\n",
      "sagemaker.config INFO - Applied value from config key = SageMaker.PythonSDK.Modules.RemoteFunction.CustomFileFilter.IgnoreNamePatterns\n"
     ]
    },
    {
     "name": "stderr",
     "output_type": "stream",
     "text": [
      "2025-02-23 17:37:00,928 sagemaker.remote_function INFO     Uploading serialized function code to s3://sagemaker-us-east-1-971173012767/stock-pipeline/preprocess-2a9a7dfa-7afb-4ffb-bce6-f494a9cefb56/2025-02-23-17-36-55-739/function\n",
      "2025-02-23 17:37:01,000 sagemaker.remote_function INFO     Uploading serialized function arguments to s3://sagemaker-us-east-1-971173012767/stock-pipeline/preprocess-2a9a7dfa-7afb-4ffb-bce6-f494a9cefb56/2025-02-23-17-36-55-739/arguments\n",
      "2025-02-23 17:37:01,061 sagemaker.remote_function INFO     Copied dependencies file at './requirements.txt' to '/tmp/tmp9zjxhfl_/requirements.txt'\n",
      "2025-02-23 17:37:01,089 sagemaker.remote_function INFO     Successfully uploaded dependencies and pre execution scripts to 's3://sagemaker-us-east-1-971173012767/stock-pipeline/preprocess-2a9a7dfa-7afb-4ffb-bce6-f494a9cefb56/2025-02-23-17-36-55-739/pre_exec_script_and_dependencies'\n",
      "WARNING:sagemaker.workflow.utilities:Popping out 'TrainingJobName' from the pipeline definition by default since it will be overridden at pipeline execution time. Please utilize the PipelineDefinitionConfig to persist this field in the pipeline definition if desired.\n"
     ]
    },
    {
     "name": "stdout",
     "output_type": "stream",
     "text": [
      "sagemaker.config INFO - Applied value from config key = SageMaker.PythonSDK.Modules.RemoteFunction.Dependencies\n",
      "sagemaker.config INFO - Applied value from config key = SageMaker.PythonSDK.Modules.RemoteFunction.IncludeLocalWorkDir\n",
      "sagemaker.config INFO - Applied value from config key = SageMaker.PythonSDK.Modules.RemoteFunction.CustomFileFilter.IgnoreNamePatterns\n"
     ]
    },
    {
     "name": "stderr",
     "output_type": "stream",
     "text": [
      "2025-02-23 17:37:04,117 sagemaker.remote_function INFO     Uploading serialized function code to s3://sagemaker-us-east-1-971173012767/stock-pipeline/train-6d4ea0b0-3f3c-49e1-bc7e-80508d5d2367/2025-02-23-17-36-55-739/function\n",
      "2025-02-23 17:37:04,200 sagemaker.remote_function INFO     Uploading serialized function arguments to s3://sagemaker-us-east-1-971173012767/stock-pipeline/train-6d4ea0b0-3f3c-49e1-bc7e-80508d5d2367/2025-02-23-17-36-55-739/arguments\n",
      "2025-02-23 17:37:04,269 sagemaker.remote_function INFO     Copied dependencies file at './requirements.txt' to '/tmp/tmpb0oqmxb_/requirements.txt'\n",
      "2025-02-23 17:37:04,298 sagemaker.remote_function INFO     Successfully uploaded dependencies and pre execution scripts to 's3://sagemaker-us-east-1-971173012767/stock-pipeline/train-6d4ea0b0-3f3c-49e1-bc7e-80508d5d2367/2025-02-23-17-36-55-739/pre_exec_script_and_dependencies'\n",
      "WARNING:sagemaker.workflow.utilities:Popping out 'TrainingJobName' from the pipeline definition by default since it will be overridden at pipeline execution time. Please utilize the PipelineDefinitionConfig to persist this field in the pipeline definition if desired.\n"
     ]
    },
    {
     "name": "stdout",
     "output_type": "stream",
     "text": [
      "sagemaker.config INFO - Applied value from config key = SageMaker.PythonSDK.Modules.RemoteFunction.Dependencies\n",
      "sagemaker.config INFO - Applied value from config key = SageMaker.PythonSDK.Modules.RemoteFunction.IncludeLocalWorkDir\n",
      "sagemaker.config INFO - Applied value from config key = SageMaker.PythonSDK.Modules.RemoteFunction.CustomFileFilter.IgnoreNamePatterns\n"
     ]
    },
    {
     "name": "stderr",
     "output_type": "stream",
     "text": [
      "2025-02-23 17:37:06,724 sagemaker.remote_function INFO     Uploading serialized function code to s3://sagemaker-us-east-1-971173012767/stock-pipeline/eval-8c4aa223-1b77-4026-8f43-5b96f847691e/2025-02-23-17-36-55-739/function\n",
      "2025-02-23 17:37:06,797 sagemaker.remote_function INFO     Uploading serialized function arguments to s3://sagemaker-us-east-1-971173012767/stock-pipeline/eval-8c4aa223-1b77-4026-8f43-5b96f847691e/2025-02-23-17-36-55-739/arguments\n",
      "2025-02-23 17:37:06,903 sagemaker.remote_function INFO     Copied dependencies file at './requirements.txt' to '/tmp/tmp6ryfor6e/requirements.txt'\n",
      "2025-02-23 17:37:06,943 sagemaker.remote_function INFO     Successfully uploaded dependencies and pre execution scripts to 's3://sagemaker-us-east-1-971173012767/stock-pipeline/eval-8c4aa223-1b77-4026-8f43-5b96f847691e/2025-02-23-17-36-55-739/pre_exec_script_and_dependencies'\n",
      "WARNING:sagemaker.workflow.utilities:Popping out 'TrainingJobName' from the pipeline definition by default since it will be overridden at pipeline execution time. Please utilize the PipelineDefinitionConfig to persist this field in the pipeline definition if desired.\n"
     ]
    },
    {
     "name": "stdout",
     "output_type": "stream",
     "text": [
      "sagemaker.config INFO - Applied value from config key = SageMaker.PythonSDK.Modules.RemoteFunction.Dependencies\n",
      "sagemaker.config INFO - Applied value from config key = SageMaker.PythonSDK.Modules.RemoteFunction.IncludeLocalWorkDir\n",
      "sagemaker.config INFO - Applied value from config key = SageMaker.PythonSDK.Modules.RemoteFunction.CustomFileFilter.IgnoreNamePatterns\n"
     ]
    },
    {
     "name": "stderr",
     "output_type": "stream",
     "text": [
      "2025-02-23 17:37:09,345 sagemaker.remote_function INFO     Uploading serialized function code to s3://sagemaker-us-east-1-971173012767/stock-pipeline/deploy-6cc1b5b2-4520-43ad-be3f-10e9a1822335/2025-02-23-17-36-55-739/function\n",
      "2025-02-23 17:37:09,446 sagemaker.remote_function INFO     Uploading serialized function arguments to s3://sagemaker-us-east-1-971173012767/stock-pipeline/deploy-6cc1b5b2-4520-43ad-be3f-10e9a1822335/2025-02-23-17-36-55-739/arguments\n",
      "2025-02-23 17:37:09,513 sagemaker.remote_function INFO     Copied dependencies file at './requirements.txt' to '/tmp/tmp38amef50/requirements.txt'\n",
      "2025-02-23 17:37:09,537 sagemaker.remote_function INFO     Successfully uploaded dependencies and pre execution scripts to 's3://sagemaker-us-east-1-971173012767/stock-pipeline/deploy-6cc1b5b2-4520-43ad-be3f-10e9a1822335/2025-02-23-17-36-55-739/pre_exec_script_and_dependencies'\n",
      "WARNING:sagemaker.workflow.utilities:Popping out 'TrainingJobName' from the pipeline definition by default since it will be overridden at pipeline execution time. Please utilize the PipelineDefinitionConfig to persist this field in the pipeline definition if desired.\n",
      "2025-02-23 17:37:10,067 sagemaker.remote_function INFO     Uploading serialized function code to s3://sagemaker-us-east-1-971173012767/stock-pipeline/fetch-705e2510-ab10-46ad-b1df-7d96be7ad321/2025-02-23-17-37-10-067/function\n",
      "2025-02-23 17:37:10,133 sagemaker.remote_function INFO     Uploading serialized function arguments to s3://sagemaker-us-east-1-971173012767/stock-pipeline/fetch-705e2510-ab10-46ad-b1df-7d96be7ad321/2025-02-23-17-37-10-067/arguments\n",
      "2025-02-23 17:37:10,329 sagemaker.remote_function INFO     Copied dependencies file at './requirements.txt' to '/tmp/tmpmg42bpol/requirements.txt'\n",
      "2025-02-23 17:37:10,361 sagemaker.remote_function INFO     Successfully uploaded dependencies and pre execution scripts to 's3://sagemaker-us-east-1-971173012767/stock-pipeline/fetch-705e2510-ab10-46ad-b1df-7d96be7ad321/2025-02-23-17-37-10-067/pre_exec_script_and_dependencies'\n",
      "2025-02-23 17:37:10,367 sagemaker.remote_function INFO     Copied user workspace to '/tmp/tmpzndokd8f/temp_workspace/sagemaker_remote_function_workspace'\n",
      "2025-02-23 17:37:10,377 sagemaker.remote_function INFO     Successfully created workdir archive at '/tmp/tmpzndokd8f/workspace.zip'\n",
      "2025-02-23 17:37:10,427 sagemaker.remote_function INFO     Successfully uploaded workdir to 's3://sagemaker-us-east-1-971173012767/stock-pipeline/sm_rf_user_ws/2025-02-23-17-37-10-067/workspace.zip'\n",
      "WARNING:sagemaker.workflow.utilities:Popping out 'TrainingJobName' from the pipeline definition by default since it will be overridden at pipeline execution time. Please utilize the PipelineDefinitionConfig to persist this field in the pipeline definition if desired.\n",
      "2025-02-23 17:37:10,431 sagemaker.remote_function INFO     Uploading serialized function code to s3://sagemaker-us-east-1-971173012767/stock-pipeline/preprocess-2a9a7dfa-7afb-4ffb-bce6-f494a9cefb56/2025-02-23-17-37-10-067/function\n",
      "2025-02-23 17:37:10,504 sagemaker.remote_function INFO     Uploading serialized function arguments to s3://sagemaker-us-east-1-971173012767/stock-pipeline/preprocess-2a9a7dfa-7afb-4ffb-bce6-f494a9cefb56/2025-02-23-17-37-10-067/arguments\n",
      "2025-02-23 17:37:10,567 sagemaker.remote_function INFO     Copied dependencies file at './requirements.txt' to '/tmp/tmpqrgrmoip/requirements.txt'\n",
      "2025-02-23 17:37:10,614 sagemaker.remote_function INFO     Successfully uploaded dependencies and pre execution scripts to 's3://sagemaker-us-east-1-971173012767/stock-pipeline/preprocess-2a9a7dfa-7afb-4ffb-bce6-f494a9cefb56/2025-02-23-17-37-10-067/pre_exec_script_and_dependencies'\n",
      "WARNING:sagemaker.workflow.utilities:Popping out 'TrainingJobName' from the pipeline definition by default since it will be overridden at pipeline execution time. Please utilize the PipelineDefinitionConfig to persist this field in the pipeline definition if desired.\n",
      "2025-02-23 17:37:10,624 sagemaker.remote_function INFO     Uploading serialized function code to s3://sagemaker-us-east-1-971173012767/stock-pipeline/train-6d4ea0b0-3f3c-49e1-bc7e-80508d5d2367/2025-02-23-17-37-10-067/function\n",
      "2025-02-23 17:37:10,734 sagemaker.remote_function INFO     Uploading serialized function arguments to s3://sagemaker-us-east-1-971173012767/stock-pipeline/train-6d4ea0b0-3f3c-49e1-bc7e-80508d5d2367/2025-02-23-17-37-10-067/arguments\n",
      "2025-02-23 17:37:10,802 sagemaker.remote_function INFO     Copied dependencies file at './requirements.txt' to '/tmp/tmp1elojf8a/requirements.txt'\n",
      "2025-02-23 17:37:10,833 sagemaker.remote_function INFO     Successfully uploaded dependencies and pre execution scripts to 's3://sagemaker-us-east-1-971173012767/stock-pipeline/train-6d4ea0b0-3f3c-49e1-bc7e-80508d5d2367/2025-02-23-17-37-10-067/pre_exec_script_and_dependencies'\n",
      "WARNING:sagemaker.workflow.utilities:Popping out 'TrainingJobName' from the pipeline definition by default since it will be overridden at pipeline execution time. Please utilize the PipelineDefinitionConfig to persist this field in the pipeline definition if desired.\n",
      "2025-02-23 17:37:10,837 sagemaker.remote_function INFO     Uploading serialized function code to s3://sagemaker-us-east-1-971173012767/stock-pipeline/eval-8c4aa223-1b77-4026-8f43-5b96f847691e/2025-02-23-17-37-10-067/function\n",
      "2025-02-23 17:37:10,913 sagemaker.remote_function INFO     Uploading serialized function arguments to s3://sagemaker-us-east-1-971173012767/stock-pipeline/eval-8c4aa223-1b77-4026-8f43-5b96f847691e/2025-02-23-17-37-10-067/arguments\n",
      "2025-02-23 17:37:10,992 sagemaker.remote_function INFO     Copied dependencies file at './requirements.txt' to '/tmp/tmp4pivfm8i/requirements.txt'\n",
      "2025-02-23 17:37:11,035 sagemaker.remote_function INFO     Successfully uploaded dependencies and pre execution scripts to 's3://sagemaker-us-east-1-971173012767/stock-pipeline/eval-8c4aa223-1b77-4026-8f43-5b96f847691e/2025-02-23-17-37-10-067/pre_exec_script_and_dependencies'\n",
      "WARNING:sagemaker.workflow.utilities:Popping out 'TrainingJobName' from the pipeline definition by default since it will be overridden at pipeline execution time. Please utilize the PipelineDefinitionConfig to persist this field in the pipeline definition if desired.\n",
      "2025-02-23 17:37:11,042 sagemaker.remote_function INFO     Uploading serialized function code to s3://sagemaker-us-east-1-971173012767/stock-pipeline/deploy-6cc1b5b2-4520-43ad-be3f-10e9a1822335/2025-02-23-17-37-10-067/function\n",
      "2025-02-23 17:37:11,111 sagemaker.remote_function INFO     Uploading serialized function arguments to s3://sagemaker-us-east-1-971173012767/stock-pipeline/deploy-6cc1b5b2-4520-43ad-be3f-10e9a1822335/2025-02-23-17-37-10-067/arguments\n",
      "2025-02-23 17:37:11,195 sagemaker.remote_function INFO     Copied dependencies file at './requirements.txt' to '/tmp/tmpc406i13w/requirements.txt'\n",
      "2025-02-23 17:37:11,221 sagemaker.remote_function INFO     Successfully uploaded dependencies and pre execution scripts to 's3://sagemaker-us-east-1-971173012767/stock-pipeline/deploy-6cc1b5b2-4520-43ad-be3f-10e9a1822335/2025-02-23-17-37-10-067/pre_exec_script_and_dependencies'\n",
      "WARNING:sagemaker.workflow.utilities:Popping out 'TrainingJobName' from the pipeline definition by default since it will be overridden at pipeline execution time. Please utilize the PipelineDefinitionConfig to persist this field in the pipeline definition if desired.\n"
     ]
    },
    {
     "data": {
      "text/plain": [
       "{'PipelineArn': 'arn:aws:sagemaker:us-east-1:971173012767:pipeline/stock-pipeline',\n",
       " 'ResponseMetadata': {'RequestId': '5350d48c-9e52-4182-aded-ec02ec4922d1',\n",
       "  'HTTPStatusCode': 200,\n",
       "  'HTTPHeaders': {'x-amzn-requestid': '5350d48c-9e52-4182-aded-ec02ec4922d1',\n",
       "   'content-type': 'application/x-amz-json-1.1',\n",
       "   'content-length': '82',\n",
       "   'date': 'Sun, 23 Feb 2025 17:37:11 GMT'},\n",
       "  'RetryAttempts': 0}}"
      ]
     },
     "execution_count": 13,
     "metadata": {},
     "output_type": "execute_result"
    }
   ],
   "source": [
    "pipeline.upsert(role)"
   ]
  },
  {
   "cell_type": "code",
   "execution_count": 14,
   "metadata": {},
   "outputs": [
    {
     "data": {
      "text/plain": [
       "_PipelineExecution(arn='arn:aws:sagemaker:us-east-1:971173012767:pipeline/stock-pipeline/execution/vykil9o89zuz', sagemaker_session=<sagemaker.workflow.pipeline_context.PipelineSession object at 0x7fbcf7cf2810>)"
      ]
     },
     "execution_count": 14,
     "metadata": {},
     "output_type": "execute_result"
    }
   ],
   "source": [
    "pipeline.start()"
   ]
  },
  {
   "cell_type": "markdown",
   "metadata": {},
   "source": [
    "## Verify after successful pipeline run"
   ]
  },
  {
   "cell_type": "code",
   "execution_count": null,
   "metadata": {},
   "outputs": [],
   "source": [
    "from steps.deploy import deploy\n",
    "import boto3\n",
    "import json\n",
    "import torch\n",
    "import numpy as np\n",
    "from datetime import datetime\n",
    "import logging"
   ]
  },
  {
   "cell_type": "code",
   "execution_count": null,
   "metadata": {},
   "outputs": [],
   "source": [
    "# Set to endpoint name\n",
    "endpoint_name=\"stock-pipeline-endpoint-20250221-234058\""
   ]
  },
  {
   "cell_type": "code",
   "execution_count": null,
   "metadata": {},
   "outputs": [],
   "source": [
    "sequence_length = 30\n",
    "input_data = np.random.rand(sequence_length, 4).tolist()  \n",
    "# Ensure the input matches the expected shape: [seq_len, 4]\n",
    "# endpoint_name=\"https://runtime.sagemaker.us-east-1.amazonaws.com/endpoints/stock-pipeline-endpoint-20250221-234058/invocatio\n",
    "endpoint_name=\"stock-pipeline-endpoint-20250221-234058\"\n",
    "\n",
    "# Convert to JSON\n",
    "input_json = json.dumps(input_data)\n",
    "\n",
    "# Call the endpoint\n",
    "try:\n",
    "    runtime = boto3.client('sagemaker-runtime')\n",
    "    print(f\"Invoking endpoint: {endpoint_name}\")\n",
    "    response = runtime.invoke_endpoint(\n",
    "        EndpointName=endpoint_name,\n",
    "        ContentType='application/json',\n",
    "        Body=input_json\n",
    "    )\n",
    "    \n",
    "    # Parse the response\n",
    "    result = json.loads(response['Body'].read().decode())\n",
    "    # logger.info(f\"Prediction: {result}\")\n",
    "    print(f\"Prediction from endpoint {endpoint_name}: {result}\")\n",
    "\n",
    "except Exception as e:\n",
    "    print(f\"Error invoking endpoint: {e}\")\n",
    "    raise e"
   ]
  },
  {
   "cell_type": "code",
   "execution_count": null,
   "metadata": {},
   "outputs": [],
   "source": []
  }
 ],
 "metadata": {
  "kernelspec": {
   "display_name": "Python 3 (ipykernel)",
   "language": "python",
   "name": "python3"
  },
  "language_info": {
   "codemirror_mode": {
    "name": "ipython",
    "version": 3
   },
   "file_extension": ".py",
   "mimetype": "text/x-python",
   "name": "python",
   "nbconvert_exporter": "python",
   "pygments_lexer": "ipython3",
   "version": "3.11.11"
  }
 },
 "nbformat": 4,
 "nbformat_minor": 2
}
