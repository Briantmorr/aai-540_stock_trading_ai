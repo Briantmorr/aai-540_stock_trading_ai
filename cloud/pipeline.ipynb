{
 "cells": [
  {
   "cell_type": "code",
   "execution_count": null,
   "metadata": {},
   "outputs": [],
   "source": [
    "from sagemaker.workflow.pipeline_context import PipelineSession\n",
    "from sagemaker.workflow.pipeline import Pipeline\n",
    "\n",
    "import boto3\n",
    "from sagemaker.workflow.function_step import step\n",
    "from sagemaker import get_execution_role, Session\n",
    "import logging"
   ]
  },
  {
   "cell_type": "code",
   "execution_count": null,
   "metadata": {},
   "outputs": [],
   "source": [
    "from fetch import fetch\n",
    "from preprocess import preprocess"
   ]
  },
  {
   "cell_type": "code",
   "execution_count": null,
   "metadata": {},
   "outputs": [],
   "source": [
    "sagemaker_session = Session()\n",
    "role = get_execution_role()\n",
    "\n",
    "default_bucket = sagemaker_session.default_bucket()\n",
    "session = PipelineSession(boto_session=sagemaker_session.boto_session, default_bucket=default_bucket)\n",
    "pipeline_name = 'stock-pipeline'\n",
    "default_ticker = \"SPY\"\n",
    "years_of_data_to_fetch = 1"
   ]
  },
  {
   "cell_type": "code",
   "execution_count": null,
   "metadata": {},
   "outputs": [],
   "source": [
    "@step(\n",
    "    instance_type=\"ml.m5.large\"\n",
    ")\n",
    "def train(data):\n",
    "    # retrieve preprocessed csv data\n",
    "    # train model\n",
    "    # save model to s3 bucket /model with postfix of date and RMSE in filename\n",
    "    logging.info(f'data should be output of preprocess function: {data}')\n",
    "    return \"stub_train\""
   ]
  },
  {
   "cell_type": "code",
   "execution_count": null,
   "metadata": {},
   "outputs": [],
   "source": [
    "@step(\n",
    "    instance_type=\"ml.m5.large\"\n",
    ")\n",
    "def eval(data):\n",
    "    # load current model file and latest\n",
    "    # extract model performance from RSME in filename\n",
    "    # if model is better than current\n",
    "    # pass True to deploy phase (Use conditional to assess when to run deploy)\n",
    "    logging.info(f'data should be output of preprocess function: {data}')\n",
    "    return False"
   ]
  },
  {
   "cell_type": "code",
   "execution_count": null,
   "metadata": {},
   "outputs": [],
   "source": [
    "@step(\n",
    "    instance_type=\"ml.m5.large\"\n",
    ")\n",
    "def deploy(data):\n",
    "    # if latest_model is different than current\n",
    "    # update deployment to use latest model\n",
    "    logging.info(f'data should be output of train function: {data}')\n",
    "    return \"stub_eval\""
   ]
  },
  {
   "cell_type": "code",
   "execution_count": null,
   "metadata": {},
   "outputs": [],
   "source": [
    "fetch_result = fetch(default_ticker, years_of_data_to_fetch)\n",
    "preprocess_result = preprocess(fetch_result)\n",
    "train_result = train(preprocess_result)\n",
    "eval_result = eval(train_result)\n",
    "deploy_result = deploy(eval_result)\n",
    "\n",
    "pipeline = Pipeline(\n",
    "    name=pipeline_name,\n",
    "    steps=[fetch_result, preprocess_result, train_result, eval_result, deploy_result],\n",
    "    sagemaker_session=session,\n",
    ")"
   ]
  },
  {
   "cell_type": "code",
   "execution_count": null,
   "metadata": {},
   "outputs": [],
   "source": [
    "pipeline.upsert(role)"
   ]
  }
 ],
 "metadata": {
  "language_info": {
   "name": "python"
  }
 },
 "nbformat": 4,
 "nbformat_minor": 2
}
