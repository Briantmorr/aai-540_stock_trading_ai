{
  "cells": [
    {
      "cell_type": "code",
      "execution_count": 1,
      "metadata": {
        "id": "wvwkM_xJcs5L"
      },
      "outputs": [],
      "source": [
        "%%capture\n",
        "!pip install gradio safetensors yfinance optuna"
      ]
    },
    {
      "cell_type": "code",
      "execution_count": 2,
      "metadata": {
        "id": "XThHUNA2cv75"
      },
      "outputs": [],
      "source": [
        "import gradio as gr\n",
        "import plotly.graph_objects as go\n",
        "\n",
        "import pandas as pd\n",
        "import numpy as np\n",
        "import torch\n",
        "import torch.nn as nn\n",
        "from torch.utils.data import Dataset, DataLoader\n",
        "from sklearn.preprocessing import MinMaxScaler\n",
        "import yfinance as yf\n",
        "from safetensors.torch import save_file, load_file\n",
        "import optuna\n",
        "from datetime import datetime\n",
        "import os\n",
        "\n",
        "import logging\n",
        "\n",
        "import warnings\n",
        "warnings.filterwarnings(\"ignore\", category=DeprecationWarning)"
      ]
    },
    {
      "cell_type": "code",
      "execution_count": 3,
      "metadata": {
        "id": "9yyhma3ga1hC"
      },
      "outputs": [],
      "source": [
        "# from sagemaker.workflow.pipeline_context import PipelineSession\n",
        "# from sagemaker.workflow.pipeline import Pipeline\n",
        "# import boto3\n",
        "# from sagemaker.workflow.function_step import step\n",
        "# from sagemaker import get_execution_role, Session"
      ]
    },
    {
      "cell_type": "code",
      "execution_count": 4,
      "metadata": {
        "id": "GpKb1Q4ybPY1"
      },
      "outputs": [],
      "source": [
        "# sagemaker_session = Session()\n",
        "# role = get_execution_role()\n",
        "\n",
        "# default_bucket = sagemaker_session.default_bucket()\n",
        "# session = PipelineSession(boto_session=sagemaker_session.boto_session, default_bucket=default_bucket)"
      ]
    },
    {
      "cell_type": "code",
      "execution_count": 5,
      "metadata": {
        "id": "7GpGFc3pbLMR"
      },
      "outputs": [],
      "source": [
        "pipeline_name = 'stock-pipeline'\n",
        "ticker = \"SPY\"\n",
        "\n",
        "now = datetime.now()\n",
        "start_date = \"2020-01-24\"\n",
        "end_date = now.strftime(\"%Y-%m-%d\")"
      ]
    },
    {
      "cell_type": "code",
      "execution_count": 6,
      "metadata": {
        "id": "gnyfaeBFcj7C"
      },
      "outputs": [],
      "source": [
        "# @step(\n",
        "#     instance_type=\"ml.m5.large\",\n",
        "#     dependencies=\"requirements.txt\"\n",
        "# )"
      ]
    },
    {
      "cell_type": "code",
      "execution_count": 7,
      "metadata": {
        "id": "lLnDEtA_hkKl"
      },
      "outputs": [],
      "source": [
        "# -------------------------------\n",
        "# Model and Dataset Classes\n",
        "# -------------------------------\n",
        "class LSTMTimeSeries(nn.Module):\n",
        "    def __init__(self, input_size, hidden_size, num_layers=1, output_size=1):\n",
        "        super(LSTMTimeSeries, self).__init__()\n",
        "        self.hidden_size = hidden_size\n",
        "        self.num_layers = num_layers\n",
        "\n",
        "        self.lstm = nn.LSTM(input_size, hidden_size, num_layers, batch_first=True)\n",
        "        self.fc = nn.Linear(hidden_size, output_size)\n",
        "\n",
        "    def forward(self, x):\n",
        "        h0 = torch.zeros(self.num_layers, x.size(0), self.hidden_size).to(x.device)\n",
        "        c0 = torch.zeros(self.num_layers, x.size(0), self.hidden_size).to(x.device)\n",
        "        out, _ = self.lstm(x, (h0, c0))\n",
        "        out = out[:, -1, :]\n",
        "        out = self.fc(out)\n",
        "        return out"
      ]
    },
    {
      "cell_type": "code",
      "execution_count": 8,
      "metadata": {
        "id": "YpSx_oxEhl5V"
      },
      "outputs": [],
      "source": [
        "class SPYDataset(Dataset):\n",
        "    def __init__(self, X, y):\n",
        "        self.X = torch.tensor(X, dtype=torch.float32)\n",
        "        self.y = torch.tensor(y, dtype=torch.float32)\n",
        "\n",
        "    def __len__(self):\n",
        "        return len(self.X)\n",
        "\n",
        "    def __getitem__(self, index):\n",
        "        return self.X[index], self.y[index]"
      ]
    },
    {
      "cell_type": "code",
      "execution_count": 9,
      "metadata": {
        "id": "9K0mEGCbuFfk"
      },
      "outputs": [],
      "source": [
        "# -------------------------------\n",
        "# CSV Helper Functions\n",
        "# -------------------------------\n",
        "def save_data_to_csv(data, ticker, start_date, end_date):\n",
        "    \"\"\"Saves raw feature data to a CSV file.\"\"\"\n",
        "    filename = f\"{ticker}_{start_date}_{end_date}.csv\"\n",
        "    df = pd.DataFrame(data, columns=[\"Open\",\"High\",\"Low\",\"Close\"])\n",
        "    df.to_csv(filename, index=False)\n",
        "    print(f\"Data saved to {filename}\")"
      ]
    },
    {
      "cell_type": "code",
      "execution_count": 10,
      "metadata": {
        "id": "T9C4DDdVuIdb"
      },
      "outputs": [],
      "source": [
        "def read_latest_data_csv(ticker, start_date, end_date):\n",
        "    \"\"\"Attempts to read from a local CSV file; returns data as NumPy array if found, else None.\"\"\"\n",
        "    filename = f\"{ticker}_{start_date}_{end_date}.csv\"\n",
        "    if os.path.exists(filename):\n",
        "        print(f\"Found existing CSV file: {filename}. Loading data from disk...\")\n",
        "        df = pd.read_csv(filename)\n",
        "        return df.values  # returns NumPy array of shape (rows, 4)\n",
        "    else:\n",
        "        return None"
      ]
    },
    {
      "cell_type": "code",
      "execution_count": 11,
      "metadata": {
        "id": "2yHi-o1quMOL"
      },
      "outputs": [],
      "source": [
        "# -------------------------------\n",
        "# Model Versioning Functions\n",
        "# -------------------------------\n",
        "def ensure_model_dir_exists(model_dir=\"models\"):\n",
        "    \"\"\"Creates the directory for model files if it doesn't exist.\"\"\"\n",
        "    if not os.path.isdir(model_dir):\n",
        "        os.makedirs(model_dir)\n",
        "        print(f\"Created directory: {model_dir}\")"
      ]
    },
    {
      "cell_type": "code",
      "execution_count": 104,
      "metadata": {
        "id": "uKNQEQx0usFG"
      },
      "outputs": [],
      "source": [
        "def save_model_version(model, version=None, model_dir=\"models\"):\n",
        "    \"\"\"\n",
        "    Saves the model to a unique, versioned safetensors file.\n",
        "    If `version` is None, we use a timestamp for uniqueness.\n",
        "    \"\"\"\n",
        "    ensure_model_dir_exists(model_dir)\n",
        "    # Move model params to CPU for safetensors\n",
        "    state_dict_cpu = {k: v.cpu() for k, v in model.state_dict().items()}\n",
        "\n",
        "    if version is None:\n",
        "        # Use timestamp as version\n",
        "        version_str = datetime.now().strftime(\"%Y%m%d_%H%M%S\")\n",
        "    else:\n",
        "        # Use explicit version string\n",
        "        version_str = str(version)\n",
        "\n",
        "    filename = os.path.join(model_dir, f\"{ticker}_{version_str}.safetensors\")\n",
        "    save_file(state_dict_cpu, filename)\n",
        "    print(f\"Model saved as {filename}\")"
      ]
    },
    {
      "cell_type": "code",
      "execution_count": 105,
      "metadata": {
        "id": "ReTtH3xUuRcf"
      },
      "outputs": [],
      "source": [
        "def load_model_version(model, version=None, model_dir=\"models\"):\n",
        "    \"\"\"\n",
        "    Loads a specific version of the model. If version is None, loads the latest version.\n",
        "    Returns True if loaded successfully, False otherwise.\n",
        "    \"\"\"\n",
        "    if version is None:\n",
        "        # If no specific version, attempt to load the latest\n",
        "        latest_file = get_latest_model_version(model_dir)\n",
        "        if latest_file is None:\n",
        "            return False\n",
        "        print(f\"Loading latest model: {latest_file}\")\n",
        "        loaded_state_dict = load_file(latest_file)\n",
        "    else:\n",
        "        # Attempt to load a specified version\n",
        "        filename = os.path.join(model_dir, f\"{ticker}_{version}.safetensors\")\n",
        "        if not os.path.exists(filename):\n",
        "            print(f\"Versioned model file not found: {filename}\")\n",
        "            return False\n",
        "        print(f\"Loading specific model version: {filename}\")\n",
        "        loaded_state_dict = load_file(filename)\n",
        "\n",
        "    model.load_state_dict(loaded_state_dict)\n",
        "    return True"
      ]
    },
    {
      "cell_type": "code",
      "execution_count": 124,
      "metadata": {
        "id": "OqDDUgaguVyh"
      },
      "outputs": [],
      "source": [
        "def get_latest_model_version(model_dir=\"models\"):\n",
        "    \"\"\"\n",
        "    Finds the most recent model file in `model_dir` by timestamp (or version).\n",
        "    Returns the full file path, or None if no files are found.\n",
        "    \"\"\"\n",
        "    if not os.path.exists(model_dir):\n",
        "        return None\n",
        "\n",
        "    # Look for files matching pattern lstm_model_*.safetensors\n",
        "    files = [\n",
        "        f for f in os.listdir(model_dir)\n",
        "        if f.startswith(ticker) and f.endswith(\".safetensors\")\n",
        "    ]\n",
        "    if not files:\n",
        "        return None\n",
        "\n",
        "    # Sort by modification time (descending) so newest is first\n",
        "    files = sorted(files, key=lambda f: os.path.getmtime(os.path.join(model_dir, f)), reverse=True)\n",
        "    latest_file = os.path.join(model_dir, files[0])\n",
        "    return latest_file"
      ]
    },
    {
      "cell_type": "code",
      "execution_count": 15,
      "metadata": {
        "id": "wy3xQsEihoOJ"
      },
      "outputs": [],
      "source": [
        "# -------------------------------\n",
        "# Helper Functions\n",
        "# -------------------------------\n",
        "def create_sequences(data, window_size=30, target_step=1):\n",
        "    X, y = [], []\n",
        "    num_samples = len(data)\n",
        "    for i in range(num_samples - window_size - target_step + 1):\n",
        "        X_seq = data[i : i + window_size]\n",
        "        y_seq = data[i + window_size + target_step - 1]\n",
        "        X.append(X_seq)\n",
        "        y.append(y_seq[3])  # Only predict 'Close' (index = 3)\n",
        "    return np.array(X), np.array(y)"
      ]
    },
    {
      "cell_type": "code",
      "execution_count": 16,
      "metadata": {
        "id": "bfgSPFPyhrSl"
      },
      "outputs": [],
      "source": [
        "def download_data(ticker, start_date, end_date):\n",
        "    df = yf.download(ticker, start=start_date, end=end_date)\n",
        "    df.reset_index(inplace=True)\n",
        "    features = ['Open', 'High', 'Low', 'Close']\n",
        "    data = df[features].values\n",
        "    return data"
      ]
    },
    {
      "cell_type": "code",
      "execution_count": 17,
      "metadata": {
        "id": "AMF8hV92ht-k"
      },
      "outputs": [],
      "source": [
        "def scale_and_sequence(data, sequence_length, prediction_days):\n",
        "    scaler = MinMaxScaler()\n",
        "    data_scaled = scaler.fit_transform(data)\n",
        "    X_all, y_all = create_sequences(data_scaled, window_size=sequence_length, target_step=prediction_days)\n",
        "    return X_all, y_all, data_scaled, scaler"
      ]
    },
    {
      "cell_type": "code",
      "execution_count": 18,
      "metadata": {
        "id": "JVLjeQxyhwSw"
      },
      "outputs": [],
      "source": [
        "def split_data(X_all, y_all, train_ratio=0.8):\n",
        "    train_size = int(train_ratio * len(X_all))\n",
        "    X_train, X_test = X_all[:train_size], X_all[train_size:]\n",
        "    y_train, y_test = y_all[:train_size], y_all[train_size:]\n",
        "    return X_train, y_train, X_test, y_test"
      ]
    },
    {
      "cell_type": "code",
      "execution_count": 19,
      "metadata": {
        "id": "Ok3p-esYhxp2"
      },
      "outputs": [],
      "source": [
        "def create_dataloaders(X_train, y_train, X_test, y_test, batch_size):\n",
        "    train_dataset = SPYDataset(X_train, y_train)\n",
        "    test_dataset  = SPYDataset(X_test, y_test)\n",
        "    train_loader = DataLoader(train_dataset, batch_size=batch_size, shuffle=True)\n",
        "    test_loader  = DataLoader(test_dataset, batch_size=batch_size, shuffle=False)\n",
        "    return train_loader, test_loader"
      ]
    },
    {
      "cell_type": "code",
      "execution_count": 20,
      "metadata": {
        "id": "PsntPKyrhzD4"
      },
      "outputs": [],
      "source": [
        "def train_model(model, train_loader, optimizer, criterion, epochs, device):\n",
        "    model.train()\n",
        "    for epoch in range(epochs):\n",
        "        epoch_loss = 0.0\n",
        "        for X_batch, y_batch in train_loader:\n",
        "            X_batch = X_batch.to(device)\n",
        "            y_batch = y_batch.to(device).unsqueeze(1)\n",
        "            optimizer.zero_grad()\n",
        "            outputs = model(X_batch)\n",
        "            loss = criterion(outputs, y_batch)\n",
        "            loss.backward()\n",
        "            optimizer.step()\n",
        "            epoch_loss += loss.item() * X_batch.size(0)\n",
        "        epoch_loss /= len(train_loader.dataset)\n",
        "        print(f\"Epoch [{epoch+1}/{epochs}], Loss: {epoch_loss:.6f}\")"
      ]
    },
    {
      "cell_type": "code",
      "execution_count": 21,
      "metadata": {
        "id": "JRJujC08h0sd"
      },
      "outputs": [],
      "source": [
        "def evaluate_model(model, test_loader, device):\n",
        "    model.eval()\n",
        "    predictions, actuals = [], []\n",
        "    with torch.no_grad():\n",
        "        for X_batch, y_batch in test_loader:\n",
        "            X_batch = X_batch.to(device)\n",
        "            outputs = model(X_batch)\n",
        "            predictions.append(outputs.cpu().numpy())\n",
        "            actuals.append(y_batch.numpy().reshape(-1, 1))\n",
        "    predictions = np.vstack(predictions)\n",
        "    actuals = np.vstack(actuals)\n",
        "    return predictions, actuals"
      ]
    },
    {
      "cell_type": "code",
      "execution_count": 22,
      "metadata": {
        "id": "Ew06eddbh3HI"
      },
      "outputs": [],
      "source": [
        "def inverse_scale_predictions(predictions, actuals, scaler, data_shape):\n",
        "    pred_close_scaled = np.zeros((len(predictions), data_shape[1]))\n",
        "    act_close_scaled  = np.zeros((len(actuals), data_shape[1]))\n",
        "    pred_close_scaled[:, 3] = predictions.flatten()\n",
        "    act_close_scaled[:, 3]  = actuals.flatten()\n",
        "    pred_close = scaler.inverse_transform(pred_close_scaled)[:, 3]\n",
        "    act_close  = scaler.inverse_transform(act_close_scaled)[:, 3]\n",
        "    return pred_close, act_close"
      ]
    },
    {
      "cell_type": "code",
      "execution_count": 23,
      "metadata": {
        "id": "n_SZXMx2h9pf"
      },
      "outputs": [],
      "source": [
        "def forecast_prices(model, data_scaled, sequence_length, forecast_days, scaler, data_shape, device):\n",
        "    future_predictions = []\n",
        "    last_sequence = data_scaled[-sequence_length:]  # Last available sequence\n",
        "    with torch.no_grad():\n",
        "        for _ in range(forecast_days):\n",
        "            last_seq_tensor = torch.tensor(last_sequence, dtype=torch.float32).unsqueeze(0).to(device)\n",
        "            next_scaled_price = model(last_seq_tensor).cpu().numpy()\n",
        "            next_scaled_price_full = np.zeros((1, data_shape[1]))\n",
        "            next_scaled_price_full[0, 3] = next_scaled_price\n",
        "            next_price = scaler.inverse_transform(next_scaled_price_full)[0, 3]\n",
        "            future_predictions.append(next_price)\n",
        "            next_sequence = np.roll(last_sequence, -1, axis=0)\n",
        "            next_sequence[-1, 3] = next_scaled_price\n",
        "            last_sequence = next_sequence\n",
        "    return future_predictions"
      ]
    },
    {
      "cell_type": "code",
      "execution_count": 24,
      "metadata": {
        "id": "zDHZSvZhh_X0"
      },
      "outputs": [],
      "source": [
        "def plot_results(act_close, pred_close, future_predictions, forecast_days, ticker):\n",
        "    forecast_indices = np.arange(len(act_close), len(act_close) + forecast_days)\n",
        "    fig = go.Figure()\n",
        "    fig.add_trace(go.Scatter(y=act_close, mode='lines', name='Actual Close'))\n",
        "    fig.add_trace(go.Scatter(y=pred_close, mode='lines', name='Predicted Close'))\n",
        "    fig.add_trace(go.Scatter(x=forecast_indices, y=future_predictions,\n",
        "                             mode='lines', name='Forecasted Prices',\n",
        "                             line=dict(dash='dot')))\n",
        "    fig.update_layout(\n",
        "        title=f'{ticker} Actual, Predicted, and Forecasted Close Prices',\n",
        "        xaxis_title='Index',\n",
        "        yaxis_title='Price'\n",
        "    )\n",
        "    return fig"
      ]
    },
    {
      "cell_type": "code",
      "execution_count": 25,
      "metadata": {
        "id": "EqNIEv0BiCR3"
      },
      "outputs": [],
      "source": [
        "# -------------------------------\n",
        "# Objective Function for Optuna\n",
        "# -------------------------------\n",
        "def objective(trial, ticker, start_date, end_date,\n",
        "              sequence_length=30,\n",
        "              prediction_days=1,\n",
        "              n_epochs=10,\n",
        "              val_ratio=0.1,\n",
        "              test_ratio=0.1):\n",
        "\n",
        "    # Suggest hyperparameters\n",
        "    hidden_size = trial.suggest_int(\"hidden_size\", 32, 256, step=32)\n",
        "    num_layers = trial.suggest_int(\"num_layers\", 1, 3)\n",
        "    lr = trial.suggest_float(\"lr\", 1e-4, 0.1, log=True)\n",
        "    batch_size = trial.suggest_categorical(\"batch_size\", [16, 32, 64, 128])\n",
        "\n",
        "    # Load data for tuning\n",
        "    X_train, y_train, X_val, y_val, X_test, y_test, scaler, data = load_data_for_tuning(\n",
        "        ticker, start_date, end_date,\n",
        "        sequence_length=sequence_length,\n",
        "        prediction_days=prediction_days,\n",
        "        val_ratio=val_ratio,\n",
        "        test_ratio=test_ratio\n",
        "    )\n",
        "\n",
        "    train_dataset = SPYDataset(X_train, y_train)\n",
        "    val_dataset   = SPYDataset(X_val, y_val)\n",
        "\n",
        "    train_loader = DataLoader(train_dataset, batch_size=batch_size, shuffle=True)\n",
        "    val_loader   = DataLoader(val_dataset, batch_size=batch_size, shuffle=False)\n",
        "\n",
        "    device = torch.device(\"cuda\" if torch.cuda.is_available() else \"cpu\")\n",
        "    input_size = 4  # ['Open', 'High', 'Low', 'Close']\n",
        "    output_size = 1\n",
        "\n",
        "    model = LSTMTimeSeries(input_size, hidden_size, num_layers, output_size).to(device)\n",
        "\n",
        "    criterion = nn.MSELoss()\n",
        "    optimizer = torch.optim.Adam(model.parameters(), lr=lr)\n",
        "\n",
        "    model.train()\n",
        "    for epoch in range(n_epochs):\n",
        "        for X_batch, y_batch in train_loader:\n",
        "            X_batch = X_batch.to(device)\n",
        "            y_batch = y_batch.to(device).unsqueeze(1)\n",
        "            optimizer.zero_grad()\n",
        "            outputs = model(X_batch)\n",
        "            loss = criterion(outputs, y_batch)\n",
        "            loss.backward()\n",
        "            optimizer.step()\n",
        "\n",
        "    model.eval()\n",
        "    val_predictions, val_actuals = [], []\n",
        "    with torch.no_grad():\n",
        "        for X_batch, y_batch in val_loader:\n",
        "            X_batch = X_batch.to(device)\n",
        "            outputs = model(X_batch)\n",
        "            val_predictions.append(outputs.cpu().numpy())\n",
        "            val_actuals.append(y_batch.numpy().reshape(-1, 1))\n",
        "\n",
        "    val_predictions = np.vstack(val_predictions)\n",
        "    val_actuals = np.vstack(val_actuals)\n",
        "\n",
        "    pred_close_scaled = np.zeros((len(val_predictions), data.shape[1]))\n",
        "    act_close_scaled  = np.zeros((len(val_actuals), data.shape[1]))\n",
        "    pred_close_scaled[:, 3] = val_predictions.flatten()\n",
        "    act_close_scaled[:, 3]  = val_actuals.flatten()\n",
        "    pred_close = scaler.inverse_transform(pred_close_scaled)[:, 3]\n",
        "    act_close  = scaler.inverse_transform(act_close_scaled)[:, 3]\n",
        "\n",
        "    rmse_val = float(np.sqrt(np.mean((pred_close - act_close) ** 2)))\n",
        "    return rmse_val"
      ]
    },
    {
      "cell_type": "code",
      "execution_count": 26,
      "metadata": {
        "id": "51msf20jiFrF"
      },
      "outputs": [],
      "source": [
        "# -------------------------------\n",
        "# Load Data for Tuning\n",
        "# -------------------------------\n",
        "def load_data_for_tuning(ticker, start_date, end_date,\n",
        "                         sequence_length=30,\n",
        "                         prediction_days=1,\n",
        "                         val_ratio=0.1, test_ratio=0.1):\n",
        "    spy_df = yf.download(ticker, start=start_date, end=end_date)\n",
        "    spy_df.reset_index(inplace=True)\n",
        "    features = ['Open', 'High', 'Low', 'Close']\n",
        "    data = spy_df[features].values\n",
        "    scaler = MinMaxScaler()\n",
        "    data_scaled = scaler.fit_transform(data)\n",
        "    X_all, y_all = create_sequences(data_scaled, window_size=sequence_length, target_step=prediction_days)\n",
        "    dataset_size = len(X_all)\n",
        "    val_size = int(val_ratio * dataset_size)\n",
        "    test_size = int(test_ratio * dataset_size)\n",
        "    train_size = dataset_size - val_size - test_size\n",
        "    X_train, X_val, X_test = X_all[:train_size], X_all[train_size:train_size+val_size], X_all[train_size+val_size:]\n",
        "    y_train, y_val, y_test = y_all[:train_size], y_all[train_size:train_size+val_size], y_all[train_size+val_size:]\n",
        "    return X_train, y_train, X_val, y_val, X_test, y_test, scaler, data"
      ]
    },
    {
      "cell_type": "code",
      "execution_count": 27,
      "metadata": {
        "id": "-vfoi_ZDiIAl"
      },
      "outputs": [],
      "source": [
        "# -------------------------------\n",
        "# Run Optuna Tuning\n",
        "# -------------------------------\n",
        "def tune_hyperparams(ticker=\"SPY\",\n",
        "                     start_date=\"2020-01-24\",\n",
        "                     end_date=\"2025-01-31\",\n",
        "                     sequence_length=30,\n",
        "                     prediction_days=1,\n",
        "                     n_epochs=10,\n",
        "                     val_ratio=0.1,\n",
        "                     test_ratio=0.1,\n",
        "                     n_trials=20):\n",
        "    def optuna_objective(trial):\n",
        "        return objective(\n",
        "            trial,\n",
        "            ticker=ticker,\n",
        "            start_date=start_date,\n",
        "            end_date=end_date,\n",
        "            sequence_length=sequence_length,\n",
        "            prediction_days=prediction_days,\n",
        "            n_epochs=n_epochs,\n",
        "            val_ratio=val_ratio,\n",
        "            test_ratio=test_ratio\n",
        "        )\n",
        "    study = optuna.create_study(direction=\"minimize\")\n",
        "    study.optimize(optuna_objective, n_trials=n_trials)\n",
        "    print(\"Best trial:\", study.best_trial)\n",
        "    print(\"Best RMSE:\", study.best_value)\n",
        "    print(\"Best hyperparameters:\", study.best_params)\n",
        "    return study.best_params"
      ]
    },
    {
      "cell_type": "code",
      "execution_count": 50,
      "metadata": {
        "id": "8odSSn1siKFH"
      },
      "outputs": [],
      "source": [
        "# -------------------------------\n",
        "# Get or Train Model\n",
        "# -------------------------------\n",
        "def get_or_train_model(\n",
        "    train_loader,\n",
        "    input_size,\n",
        "    hidden_size,\n",
        "    num_layers,\n",
        "    output_size,\n",
        "    epochs,\n",
        "    lr,\n",
        "    model_dir=\"models\",\n",
        "    version=None\n",
        "):\n",
        "    \"\"\"\n",
        "    Attempts to load a model from a specified version (or the latest, if version=None).\n",
        "    If it fails, trains a new model and saves it to a new versioned file.\n",
        "    \"\"\"\n",
        "    device = torch.device(\"cuda\" if torch.cuda.is_available() else \"cpu\")\n",
        "    model = LSTMTimeSeries(input_size, hidden_size, num_layers, output_size).to(device)\n",
        "\n",
        "    # Attempt to load a version (or latest)\n",
        "    loaded = load_model_version(model, version=version, model_dir=model_dir)\n",
        "    if loaded:\n",
        "        print(\"Model loaded successfully.\")\n",
        "        return model\n",
        "\n",
        "    # If load failed, train a new model\n",
        "    print(\"No suitable model found; training a new model...\")\n",
        "\n",
        "    criterion = nn.MSELoss()\n",
        "    optimizer = torch.optim.Adam(model.parameters(), lr=lr)\n",
        "    model.train()\n",
        "    for epoch in range(epochs):\n",
        "        epoch_loss = 0.0\n",
        "        for X_batch, y_batch in train_loader:\n",
        "            X_batch = X_batch.to(device)\n",
        "            y_batch = y_batch.to(device).unsqueeze(1)\n",
        "            optimizer.zero_grad()\n",
        "            outputs = model(X_batch)\n",
        "            loss = criterion(outputs, y_batch)\n",
        "            loss.backward()\n",
        "            optimizer.step()\n",
        "            epoch_loss += loss.item() * X_batch.size(0)\n",
        "        epoch_loss /= len(train_loader.dataset)\n",
        "        print(f\"Epoch [{epoch+1}/{epochs}], Loss: {epoch_loss:.6f}\")\n",
        "\n",
        "    # Save the newly trained model (versioned)\n",
        "    save_model_version(model, version=version, model_dir=model_dir)\n",
        "    return model"
      ]
    },
    {
      "cell_type": "code",
      "execution_count": 102,
      "metadata": {
        "id": "FOoXwV5h1pJ-"
      },
      "outputs": [],
      "source": [
        "# -------------------------------\n",
        "# Debug Plot with Matplotlib\n",
        "# -------------------------------\n",
        "def plot_results_matplotlib(act_close, pred_close, future_predictions, forecast_days, ticker):\n",
        "    \"\"\"\n",
        "    Creates a matplotlib figure for local/offline debugging.\n",
        "    This function does not affect Gradio's main output.\n",
        "    \"\"\"\n",
        "    import matplotlib.pyplot as plt\n",
        "    fig, ax = plt.subplots(figsize=(10,6))\n",
        "\n",
        "    ax.plot(act_close, label='Actual Close', color='blue')\n",
        "    ax.plot(pred_close, label='Predicted Close', color='red')\n",
        "\n",
        "    # Forecast portion:\n",
        "    forecast_indices = np.arange(len(act_close), len(act_close) + forecast_days)\n",
        "    ax.plot(forecast_indices, future_predictions, label='Forecasted Prices', linestyle='dotted', color='green')\n",
        "\n",
        "    ax.set_title(f\"{ticker} Actual, Predicted, and Forecasted Close Prices\")\n",
        "    ax.set_xlabel(\"Index\")\n",
        "    ax.set_ylabel(\"Price\")\n",
        "    ax.legend()\n",
        "\n",
        "    plt.show()\n",
        "    return fig"
      ]
    },
    {
      "cell_type": "markdown",
      "metadata": {
        "id": "-loq-GnPzZHo"
      },
      "source": [
        "# Run Code Below"
      ]
    },
    {
      "cell_type": "code",
      "execution_count": 106,
      "metadata": {
        "id": "O2WE2sfXrvW6"
      },
      "outputs": [],
      "source": [
        "ticker=\"SPY\"\n",
        "start_date=\"2019-01-24\"\n",
        "end_date=\"2025-01-28\"\n",
        "prediction_days=1\n",
        "sequence_length=30\n",
        "epochs=10\n",
        "forecast_days=5\n",
        "hidden_size=64\n",
        "num_layers=1\n",
        "lr=1e-3\n",
        "batch_size=32\n",
        "model_version=None\n",
        "use_hyperparam_tuning=True,\n",
        "n_trials=20,\n",
        "val_ratio=0.1,\n",
        "test_ratio=0.1"
      ]
    },
    {
      "cell_type": "code",
      "execution_count": 107,
      "metadata": {
        "colab": {
          "base_uri": "https://localhost:8080/"
        },
        "id": "xp-8eetV0EM6",
        "outputId": "44a7c553-3d0f-464c-dc7f-d21a854955dd"
      },
      "outputs": [
        {
          "name": "stderr",
          "output_type": "stream",
          "text": [
            "[I 2025-02-17 03:03:53,590] A new study created in memory with name: no-name-6d5ef8e3-153e-41af-9629-dd260c009dc4\n",
            "[*********************100%***********************]  1 of 1 completed"
          ]
        },
        {
          "name": "stdout",
          "output_type": "stream",
          "text": [
            "\n",
            "[Hyperparameter Tuning] Running Optuna...\n"
          ]
        },
        {
          "name": "stderr",
          "output_type": "stream",
          "text": [
            "\n",
            "[I 2025-02-17 03:03:55,647] Trial 0 finished with value: 58.743539551811445 and parameters: {'hidden_size': 128, 'num_layers': 2, 'lr': 0.022914740875632316, 'batch_size': 16}. Best is trial 0 with value: 58.743539551811445.\n",
            "[*********************100%***********************]  1 of 1 completed\n",
            "[I 2025-02-17 03:03:56,854] Trial 1 finished with value: 7.92990512084823 and parameters: {'hidden_size': 96, 'num_layers': 3, 'lr': 0.007916906477208843, 'batch_size': 32}. Best is trial 1 with value: 7.92990512084823.\n",
            "[*********************100%***********************]  1 of 1 completed\n",
            "[I 2025-02-17 03:03:59,970] Trial 2 finished with value: 6.989768701396293 and parameters: {'hidden_size': 192, 'num_layers': 2, 'lr': 0.002607960734951762, 'batch_size': 16}. Best is trial 2 with value: 6.989768701396293.\n",
            "[*********************100%***********************]  1 of 1 completed\n",
            "[I 2025-02-17 03:04:01,671] Trial 3 finished with value: 44.335572088505565 and parameters: {'hidden_size': 32, 'num_layers': 3, 'lr': 0.00036966415305621426, 'batch_size': 32}. Best is trial 2 with value: 6.989768701396293.\n",
            "[*********************100%***********************]  1 of 1 completed\n",
            "[I 2025-02-17 03:04:03,137] Trial 4 finished with value: 37.2038375835035 and parameters: {'hidden_size': 32, 'num_layers': 3, 'lr': 0.0005418139615611651, 'batch_size': 32}. Best is trial 2 with value: 6.989768701396293.\n",
            "[*********************100%***********************]  1 of 1 completed\n",
            "[I 2025-02-17 03:04:03,488] Trial 5 finished with value: 47.883188942581754 and parameters: {'hidden_size': 32, 'num_layers': 1, 'lr': 0.0006088612138763404, 'batch_size': 128}. Best is trial 2 with value: 6.989768701396293.\n",
            "[*********************100%***********************]  1 of 1 completed\n",
            "[I 2025-02-17 03:04:05,664] Trial 6 finished with value: 88.91578488088999 and parameters: {'hidden_size': 224, 'num_layers': 3, 'lr': 0.02786478606262983, 'batch_size': 32}. Best is trial 2 with value: 6.989768701396293.\n",
            "[*********************100%***********************]  1 of 1 completed\n",
            "[I 2025-02-17 03:04:06,777] Trial 7 finished with value: 15.178663330867348 and parameters: {'hidden_size': 160, 'num_layers': 1, 'lr': 0.00018793916079515576, 'batch_size': 32}. Best is trial 2 with value: 6.989768701396293.\n",
            "[*********************100%***********************]  1 of 1 completed\n",
            "[I 2025-02-17 03:04:07,166] Trial 8 finished with value: 11.783872847010153 and parameters: {'hidden_size': 96, 'num_layers': 2, 'lr': 0.0014101023754565234, 'batch_size': 128}. Best is trial 2 with value: 6.989768701396293.\n",
            "[*********************100%***********************]  1 of 1 completed\n",
            "[I 2025-02-17 03:04:08,317] Trial 9 finished with value: 15.476471607553792 and parameters: {'hidden_size': 160, 'num_layers': 1, 'lr': 0.0010039995784548756, 'batch_size': 32}. Best is trial 2 with value: 6.989768701396293.\n",
            "[*********************100%***********************]  1 of 1 completed\n",
            "[I 2025-02-17 03:04:11,501] Trial 10 finished with value: 22.05138375124934 and parameters: {'hidden_size': 256, 'num_layers': 2, 'lr': 0.00472667099457845, 'batch_size': 16}. Best is trial 2 with value: 6.989768701396293.\n",
            "[*********************100%***********************]  1 of 1 completed\n",
            "[I 2025-02-17 03:04:13,757] Trial 11 finished with value: 5.57762114398746 and parameters: {'hidden_size': 192, 'num_layers': 2, 'lr': 0.006244557694735176, 'batch_size': 64}. Best is trial 11 with value: 5.57762114398746.\n",
            "[*********************100%***********************]  1 of 1 completed\n",
            "[I 2025-02-17 03:04:15,970] Trial 12 finished with value: 155.88701620240107 and parameters: {'hidden_size': 192, 'num_layers': 2, 'lr': 0.07207569568750455, 'batch_size': 64}. Best is trial 11 with value: 5.57762114398746.\n",
            "[*********************100%***********************]  1 of 1 completed\n",
            "[I 2025-02-17 03:04:16,921] Trial 13 finished with value: 4.379843656665295 and parameters: {'hidden_size': 224, 'num_layers': 2, 'lr': 0.002621250426962058, 'batch_size': 64}. Best is trial 13 with value: 4.379843656665295.\n",
            "[*********************100%***********************]  1 of 1 completed\n",
            "[I 2025-02-17 03:04:18,031] Trial 14 finished with value: 16.07528224234402 and parameters: {'hidden_size': 256, 'num_layers': 2, 'lr': 0.007933525368508942, 'batch_size': 64}. Best is trial 13 with value: 4.379843656665295.\n",
            "[*********************100%***********************]  1 of 1 completed\n",
            "[I 2025-02-17 03:04:18,732] Trial 15 finished with value: 5.721333111725864 and parameters: {'hidden_size': 224, 'num_layers': 1, 'lr': 0.002174085876715017, 'batch_size': 64}. Best is trial 13 with value: 4.379843656665295.\n",
            "[*********************100%***********************]  1 of 1 completed\n",
            "[I 2025-02-17 03:04:20,967] Trial 16 finished with value: 108.19294277927959 and parameters: {'hidden_size': 192, 'num_layers': 2, 'lr': 0.011513921469520929, 'batch_size': 64}. Best is trial 13 with value: 4.379843656665295.\n",
            "[*********************100%***********************]  1 of 1 completed\n",
            "[I 2025-02-17 03:04:22,316] Trial 17 finished with value: 15.88496088642852 and parameters: {'hidden_size': 224, 'num_layers': 3, 'lr': 0.004826261838652991, 'batch_size': 64}. Best is trial 13 with value: 4.379843656665295.\n",
            "[*********************100%***********************]  1 of 1 completed\n",
            "[I 2025-02-17 03:04:22,885] Trial 18 finished with value: 5.19216004247022 and parameters: {'hidden_size': 128, 'num_layers': 1, 'lr': 0.024427575148021283, 'batch_size': 64}. Best is trial 13 with value: 4.379843656665295.\n",
            "[*********************100%***********************]  1 of 1 completed\n",
            "[I 2025-02-17 03:04:23,442] Trial 19 finished with value: 32.8648149637542 and parameters: {'hidden_size': 96, 'num_layers': 1, 'lr': 0.06608062174573025, 'batch_size': 64}. Best is trial 13 with value: 4.379843656665295.\n"
          ]
        },
        {
          "name": "stdout",
          "output_type": "stream",
          "text": [
            "Best trial: FrozenTrial(number=13, state=1, values=[4.379843656665295], datetime_start=datetime.datetime(2025, 2, 17, 3, 4, 15, 971364), datetime_complete=datetime.datetime(2025, 2, 17, 3, 4, 16, 921639), params={'hidden_size': 224, 'num_layers': 2, 'lr': 0.002621250426962058, 'batch_size': 64}, user_attrs={}, system_attrs={}, intermediate_values={}, distributions={'hidden_size': IntDistribution(high=256, log=False, low=32, step=32), 'num_layers': IntDistribution(high=3, log=False, low=1, step=1), 'lr': FloatDistribution(high=0.1, log=True, low=0.0001, step=None), 'batch_size': CategoricalDistribution(choices=(16, 32, 64, 128))}, trial_id=13, value=None)\n",
            "Best RMSE: 4.379843656665295\n",
            "Best hyperparameters: {'hidden_size': 224, 'num_layers': 2, 'lr': 0.002621250426962058, 'batch_size': 64}\n",
            "Using best hyperparameters: {'hidden_size': 224, 'num_layers': 2, 'lr': 0.002621250426962058, 'batch_size': 64}\n"
          ]
        }
      ],
      "source": [
        "# Optional step: Hyperparameter Tuning\n",
        "if use_hyperparam_tuning:\n",
        "    print(\"\\n[Hyperparameter Tuning] Running Optuna...\")\n",
        "    best_params = tune_hyperparams(\n",
        "    ticker=ticker,\n",
        "    start_date=start_date,\n",
        "    end_date=end_date,\n",
        "    sequence_length=sequence_length,\n",
        "    prediction_days=prediction_days,\n",
        "    n_epochs=epochs,\n",
        "    val_ratio=0.1,\n",
        "    test_ratio=test_ratio,\n",
        "    n_trials=20\n",
        "    )\n",
        "\n",
        "    # Override user-provided hyperparams with best from Optuna\n",
        "    hidden_size = best_params[\"hidden_size\"]\n",
        "    num_layers = best_params[\"num_layers\"]\n",
        "    lr = best_params[\"lr\"]\n",
        "    batch_size = best_params[\"batch_size\"]\n",
        "    print(f\"Using best hyperparameters: {best_params}\")"
      ]
    },
    {
      "cell_type": "code",
      "execution_count": 115,
      "metadata": {
        "id": "cNTeOejRrmSf"
      },
      "outputs": [],
      "source": [
        "# 1) Try reading the latest CSV if present\n",
        "data = read_latest_data_csv(ticker, start_date, end_date)"
      ]
    },
    {
      "cell_type": "code",
      "execution_count": 116,
      "metadata": {
        "colab": {
          "base_uri": "https://localhost:8080/"
        },
        "id": "cVnQhdfprXGB",
        "outputId": "acc7119b-d020-4bef-dea2-ea0c993aa220"
      },
      "outputs": [
        {
          "name": "stderr",
          "output_type": "stream",
          "text": [
            "\r[*********************100%***********************]  1 of 1 completed"
          ]
        },
        {
          "name": "stdout",
          "output_type": "stream",
          "text": [
            "Data saved to SPY_2019-01-24_2025-01-28.csv\n"
          ]
        },
        {
          "name": "stderr",
          "output_type": "stream",
          "text": [
            "\n"
          ]
        }
      ],
      "source": [
        "if data is None:\n",
        "        data = download_data(ticker, start_date, end_date)\n",
        "        save_data_to_csv(data, ticker, start_date, end_date)"
      ]
    },
    {
      "cell_type": "code",
      "execution_count": 117,
      "metadata": {
        "id": "4H4ZZ7rHrt5n"
      },
      "outputs": [],
      "source": [
        "# 2) Scale data and create sequences\n",
        "X_all, y_all, data_scaled, scaler = scale_and_sequence(data, sequence_length, prediction_days)"
      ]
    },
    {
      "cell_type": "code",
      "execution_count": 118,
      "metadata": {
        "id": "c3alcvQQsLem"
      },
      "outputs": [],
      "source": [
        "# 3) Split data into training and testing\n",
        "X_train, y_train, X_test, y_test = split_data(X_all, y_all)"
      ]
    },
    {
      "cell_type": "code",
      "execution_count": 119,
      "metadata": {
        "id": "IAgtd2VjsNtU"
      },
      "outputs": [],
      "source": [
        "# 4) Create DataLoaders\n",
        "train_loader, test_loader = create_dataloaders(X_train, y_train, X_test, y_test, batch_size)"
      ]
    },
    {
      "cell_type": "code",
      "execution_count": 120,
      "metadata": {
        "id": "HvtpO040sPma"
      },
      "outputs": [],
      "source": [
        "# 5) Model setup\n",
        "device = torch.device(\"cuda\" if torch.cuda.is_available() else \"cpu\")\n",
        "input_size = data.shape[1]\n",
        "output_size = 1"
      ]
    },
    {
      "cell_type": "code",
      "execution_count": 126,
      "metadata": {
        "colab": {
          "base_uri": "https://localhost:8080/"
        },
        "id": "alAJQHN3sR3M",
        "outputId": "b079f2f5-2827-4278-ff27-f8b453407cca"
      },
      "outputs": [
        {
          "name": "stdout",
          "output_type": "stream",
          "text": [
            "No suitable model found; training a new model...\n",
            "Epoch [1/10], Loss: 0.032037\n",
            "Epoch [2/10], Loss: 0.002964\n",
            "Epoch [3/10], Loss: 0.000639\n",
            "Epoch [4/10], Loss: 0.000354\n",
            "Epoch [5/10], Loss: 0.000278\n",
            "Epoch [6/10], Loss: 0.000271\n",
            "Epoch [7/10], Loss: 0.000289\n",
            "Epoch [8/10], Loss: 0.000259\n",
            "Epoch [9/10], Loss: 0.000260\n",
            "Epoch [10/10], Loss: 0.000269\n",
            "Model saved as models/SPY_20250217_030713.safetensors\n"
          ]
        }
      ],
      "source": [
        "# 6) Load or train a model (versioned)\n",
        "model = get_or_train_model(\n",
        "train_loader,\n",
        "input_size,\n",
        "hidden_size,\n",
        "num_layers,\n",
        "output_size,\n",
        "epochs,\n",
        "lr,\n",
        "model_dir=\"models\",     # directory for versioned files\n",
        "version=model_version   # can be None, or e.g. \"v2\", or a timestamp string\n",
        ")"
      ]
    },
    {
      "cell_type": "code",
      "execution_count": 127,
      "metadata": {
        "colab": {
          "base_uri": "https://localhost:8080/"
        },
        "id": "OfkG0x2xsYZw",
        "outputId": "0c83592b-c8ca-4b4c-c2ca-5c07cb6818a6"
      },
      "outputs": [
        {
          "name": "stdout",
          "output_type": "stream",
          "text": [
            "Epoch [1/10], Loss: 0.005491\n",
            "Epoch [2/10], Loss: 0.000660\n",
            "Epoch [3/10], Loss: 0.000257\n",
            "Epoch [4/10], Loss: 0.000226\n",
            "Epoch [5/10], Loss: 0.000234\n",
            "Epoch [6/10], Loss: 0.000203\n",
            "Epoch [7/10], Loss: 0.000204\n",
            "Epoch [8/10], Loss: 0.000202\n",
            "Epoch [9/10], Loss: 0.000193\n",
            "Epoch [10/10], Loss: 0.000221\n"
          ]
        }
      ],
      "source": [
        "# 7) Additional training\n",
        "criterion = nn.MSELoss()\n",
        "optimizer = torch.optim.Adam(model.parameters(), lr=lr)\n",
        "train_model(model, train_loader, optimizer, criterion, epochs, device)"
      ]
    },
    {
      "cell_type": "code",
      "execution_count": 128,
      "metadata": {
        "id": "b9KqgL0-scac"
      },
      "outputs": [],
      "source": [
        "# 8) Evaluate on test set\n",
        "predictions, actuals = evaluate_model(model, test_loader, device)"
      ]
    },
    {
      "cell_type": "code",
      "execution_count": 129,
      "metadata": {
        "id": "cU7uWGYVserM"
      },
      "outputs": [],
      "source": [
        "# 9) Inverse scale the predictions\n",
        "pred_close, act_close = inverse_scale_predictions(predictions, actuals, scaler, data.shape)"
      ]
    },
    {
      "cell_type": "code",
      "execution_count": 130,
      "metadata": {
        "id": "9Fi4HjphshrW"
      },
      "outputs": [],
      "source": [
        "# 10) Calculate RMSE\n",
        "mse  = np.mean((pred_close - act_close) ** 2)\n",
        "rmse = float(np.sqrt(mse))"
      ]
    },
    {
      "cell_type": "code",
      "execution_count": 131,
      "metadata": {
        "id": "gE4zHJQ3st-I"
      },
      "outputs": [],
      "source": [
        "# 11) Forecast future prices\n",
        "future_predictions = forecast_prices(model, data_scaled, sequence_length, forecast_days, scaler, data.shape, device)"
      ]
    },
    {
      "cell_type": "code",
      "execution_count": 132,
      "metadata": {
        "colab": {
          "base_uri": "https://localhost:8080/",
          "height": 1000
        },
        "id": "OGZ8_wVQs-4p",
        "outputId": "bfd6b415-1927-4b66-df69-c53eff614775"
      },
      "outputs": [
        {
          "data": {
            "image/png": "[encoded data removed]",
            "text/plain": [
              "<Figure size 1000x600 with 1 Axes>"
            ]
          },
          "metadata": {},
          "output_type": "display_data"
        },
        {
          "data": {
            "image/png": "[encoded data removed]",
            "text/plain": [
              "<Figure size 1000x600 with 1 Axes>"
            ]
          },
          "execution_count": 132,
          "metadata": {},
          "output_type": "execute_result"
        }
      ],
      "source": [
        "# 12) Plot results\n",
        "# fig = plot_results(act_close, pred_close, future_predictions, forecast_days, ticker)\n",
        "plot_results_matplotlib(act_close, pred_close, future_predictions, forecast_days, ticker)"
      ]
    },
    {
      "cell_type": "code",
      "execution_count": 58,
      "metadata": {
        "colab": {
          "base_uri": "https://localhost:8080/"
        },
        "id": "J5EfoOAntDAh",
        "outputId": "24dd369e-9956-44a7-fc8f-0af1cb6f1bf6"
      },
      "outputs": [
        {
          "name": "stdout",
          "output_type": "stream",
          "text": [
            "Model saved as lstm_model.safetensors\n"
          ]
        }
      ],
      "source": [
        "# # 13) Save the model\n",
        "# state_dict_cpu = {k: v.cpu() for k, v in model.state_dict().items()}\n",
        "# save_file(state_dict_cpu, \"lstm_model.safetensors\")\n",
        "# print(\"Model saved as lstm_model.safetensors\")"
      ]
    },
    {
      "cell_type": "markdown",
      "metadata": {
        "id": "ng8OVXX0zfOH"
      },
      "source": [
        "# Stop running here, below is for Gradio Integration (WIP)"
      ]
    },
    {
      "cell_type": "code",
      "execution_count": 61,
      "metadata": {
        "id": "jjsY64TqiMAK"
      },
      "outputs": [],
      "source": [
        "# -------------------------------\n",
        "# Modular Predict & Forecast Function\n",
        "# -------------------------------\n",
        "def predict_spy(ticker,\n",
        "                start_date,\n",
        "                end_date,\n",
        "                prediction_days=1,\n",
        "                sequence_length=30,\n",
        "                epochs=10,\n",
        "                forecast_days=5,\n",
        "                hidden_size=64,\n",
        "                num_layers=1,\n",
        "                lr=1e-3,\n",
        "                batch_size=32,\n",
        "                model_version=None,\n",
        "                use_hyperparam_tuning=False,\n",
        "                n_trials=20,\n",
        "                val_ratio=0.1,\n",
        "                test_ratio=0.1):\n",
        "    \"\"\"Main function to fetch data, optionally from CSV cache, train the LSTM,\n",
        "       and forecast future prices.\n",
        "    \"\"\"\n",
        "\n",
        "    # Optional step: Hyperparameter Tuning\n",
        "    if use_hyperparam_tuning:\n",
        "        print(\"\\n[Hyperparameter Tuning] Running Optuna...\")\n",
        "        best_params = tune_hyperparams(\n",
        "            ticker=ticker,\n",
        "            start_date=start_date,\n",
        "            end_date=end_date,\n",
        "            sequence_length=sequence_length,\n",
        "            prediction_days=prediction_days,\n",
        "            n_epochs=epochs,  # how many epochs per trial\n",
        "            val_ratio=val_ratio,\n",
        "            test_ratio=test_ratio,\n",
        "            n_trials=n_trials\n",
        "        )\n",
        "        # Override user-provided hyperparams with best from Optuna\n",
        "        hidden_size = best_params[\"hidden_size\"]\n",
        "        num_layers = best_params[\"num_layers\"]\n",
        "        lr = best_params[\"lr\"]\n",
        "        batch_size = best_params[\"batch_size\"]\n",
        "        print(f\"Using best hyperparameters: {best_params}\")\n",
        "\n",
        "    # 1) Try reading the latest CSV if present\n",
        "    data = read_latest_data_csv(ticker, start_date, end_date)\n",
        "\n",
        "    # If no CSV file is found, download via Yahoo Finance and save\n",
        "    if data is None:\n",
        "        data = download_data(ticker, start_date, end_date)\n",
        "        save_data_to_csv(data, ticker, start_date, end_date)\n",
        "\n",
        "    # 2) Scale data and create sequences\n",
        "    X_all, y_all, data_scaled, scaler = scale_and_sequence(data, sequence_length, prediction_days)\n",
        "\n",
        "    # 3) Split data into training and testing\n",
        "    X_train, y_train, X_test, y_test = split_data(X_all, y_all)\n",
        "\n",
        "    # 4) Create DataLoaders\n",
        "    train_loader, test_loader = create_dataloaders(X_train, y_train, X_test, y_test, batch_size)\n",
        "\n",
        "    # 5) Model setup\n",
        "    device = torch.device(\"cuda\" if torch.cuda.is_available() else \"cpu\")\n",
        "    input_size = data.shape[1]\n",
        "    output_size = 1\n",
        "\n",
        "     # 6) Load or train a model (versioned)\n",
        "    model = get_or_train_model(\n",
        "        train_loader,\n",
        "        input_size,\n",
        "        hidden_size,\n",
        "        num_layers,\n",
        "        output_size,\n",
        "        epochs,\n",
        "        lr,\n",
        "        model_dir=\"models\",     # directory for versioned files\n",
        "        version=model_version   # can be None, or e.g. \"v2\", or a timestamp string\n",
        "    )\n",
        "\n",
        "    # 7) Additional training (optional)\n",
        "    criterion = nn.MSELoss()\n",
        "    optimizer = torch.optim.Adam(model.parameters(), lr=lr)\n",
        "    train_model(model, train_loader, optimizer, criterion, epochs, device)\n",
        "\n",
        "    # 8) Evaluate on test set\n",
        "    predictions, actuals = evaluate_model(model, test_loader, device)\n",
        "\n",
        "    # 9) Inverse scale the predictions\n",
        "    pred_close, act_close = inverse_scale_predictions(predictions, actuals, scaler, data.shape)\n",
        "\n",
        "    # 10) Calculate RMSE\n",
        "    mse  = np.mean((pred_close - act_close) ** 2)\n",
        "    rmse = float(np.sqrt(mse))\n",
        "\n",
        "    # 11) Forecast future prices\n",
        "    future_predictions = forecast_prices(model, data_scaled, sequence_length, forecast_days, scaler, data.shape, device)\n",
        "\n",
        "    # 12) Plot results\n",
        "    fig = plot_results(act_close, pred_close, future_predictions, forecast_days, ticker)\n",
        "\n",
        "    # 13) Save the model\n",
        "    state_dict_cpu = {k: v.cpu() for k, v in model.state_dict().items()}\n",
        "    save_file(state_dict_cpu, \"lstm_model.safetensors\")\n",
        "    print(\"Model saved as lstm_model.safetensors\")\n",
        "\n",
        "    return fig, rmse"
      ]
    },
    {
      "cell_type": "code",
      "execution_count": null,
      "metadata": {
        "id": "1rQR4z8QiQmd"
      },
      "outputs": [],
      "source": [
        "demo = gr.Interface(\n",
        "    fn=predict_spy,\n",
        "    inputs=[\n",
        "        gr.Textbox(label=\"Enter Ticker Symbol\", placeholder=\"e.g., SPY\", value=\"SPY\"),\n",
        "        gr.Textbox(label=\"Start Date\", value=\"2019-01-24\"),\n",
        "        gr.Textbox(label=\"End Date\", value=\"2025-01-28\"),\n",
        "        gr.Slider(label=\"Prediction Days Ahead\", minimum=1, maximum=30, value=1, step=1),\n",
        "        gr.Slider(label=\"Sequence Length\", minimum=10, maximum=200, value=60, step=5),\n",
        "        gr.Slider(label=\"Number of Epochs\", minimum=1, maximum=50, value=10, step=1),\n",
        "        gr.Slider(label=\"Forecast Days\", minimum=1, maximum=60, value=30, step=1),\n",
        "        gr.Textbox(label=\"Model Version (optional)\", placeholder=\"e.g., v1, v2, or leave empty\"),\n",
        "        gr.Checkbox(label=\"Use Hyperparameter Tuning?\", value=False),\n",
        "        gr.Slider(label=\"Optuna Trials\", minimum=1, maximum=50, value=5, step=1, info=\"Number of Optuna search trials\"),\n",
        "    ],\n",
        "    outputs=[\n",
        "        gr.Plot(label=\"Predictions and Forecast\"),\n",
        "        gr.Number(label=\"RMSE\")\n",
        "    ],\n",
        "    description=(\n",
        "        \"Enter a stock ticker symbol (e.g., SPY) to fetch historical data \"\n",
        "        \"(or load from local CSV), choose training and forecasting parameters, \"\n",
        "        \"and optionally specify a model version or enable hyperparameter tuning. \"\n",
        "        \"If no version is specified, the 'latest' is attempted.\"\n",
        "    )\n",
        ")"
      ]
    },
    {
      "cell_type": "code",
      "execution_count": 63,
      "metadata": {
        "colab": {
          "base_uri": "https://localhost:8080/",
          "height": 627
        },
        "id": "KVE7MQ9SiSix",
        "outputId": "99e82987-605d-4b7a-9506-60ed37315812"
      },
      "outputs": [
        {
          "name": "stdout",
          "output_type": "stream",
          "text": [
            "Running Gradio in a Colab notebook requires sharing enabled. Automatically setting `share=True` (you can turn this off by setting `share=False` in `launch()` explicitly).\n",
            "\n",
            "Colab notebook detected. To show errors in colab notebook, set debug=True in launch()\n",
            "* Running on public URL: https://780c71abfdf901a7ca.gradio.live\n",
            "\n",
            "This share link expires in 72 hours. For free permanent hosting and GPU upgrades, run `gradio deploy` from the terminal in the working directory to deploy to Hugging Face Spaces (https://huggingface.co/spaces)\n"
          ]
        },
        {
          "data": {
            "text/html": [
              "<div><iframe src=\"https://780c71abfdf901a7ca.gradio.live\" width=\"100%\" height=\"500\" allow=\"autoplay; camera; microphone; clipboard-read; clipboard-write;\" frameborder=\"0\" allowfullscreen></iframe></div>"
            ],
            "text/plain": [
              "<IPython.core.display.HTML object>"
            ]
          },
          "metadata": {},
          "output_type": "display_data"
        }
      ],
      "source": [
        "# if __name__ == \"__main__\":\n",
        "#     demo.launch()"
      ]
    }
  ],
  "metadata": {
    "accelerator": "GPU",
    "colab": {
      "gpuType": "T4",
      "provenance": []
    },
    "kernelspec": {
      "display_name": "Python 3",
      "name": "python3"
    },
    "language_info": {
      "name": "python"
    }
  },
  "nbformat": 4,
  "nbformat_minor": 0
}
