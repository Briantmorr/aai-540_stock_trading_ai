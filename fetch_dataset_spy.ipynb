{
 "cells": [
  {
   "cell_type": "code",
   "execution_count": 23,
   "metadata": {
    "colab": {
     "base_uri": "https://localhost:8080/",
     "height": 591
    },
    "id": "cd8a8LnaDB7o",
    "outputId": "608558e9-06dd-4e32-dd49-cb997f5a2f0d"
   },
   "outputs": [
    {
     "name": "stdout",
     "output_type": "stream",
     "text": [
      "possible columns:  Index(['Open', 'High', 'Low', 'Close', 'Volume', 'Dividends', 'Stock Splits',\n",
      "       'Capital Gains'],\n",
      "      dtype='object')\n",
      "Data for SPY saved to SPY_25_years_data.csv.\n"
     ]
    }
   ],
   "source": [
    "import yfinance as yf\n",
    "import pandas as pd\n",
    "\n",
    "# Define the stock ticker and the date range\n",
    "ticker = \"SPY\"\n",
    "start_date = \"2000-01-23\"\n",
    "end_date = \"2025-01-22\"\n",
    "\n",
    "# Fetch historical stock data\n",
    "try:\n",
    "    stock = yf.Ticker(ticker)\n",
    "    stock_data = stock.history(start=start_date, end=end_date, interval=\"1d\")\n",
    "\n",
    "    # Check if data is fetched successfully\n",
    "    if stock_data.empty:\n",
    "        print(f\"No data available for {ticker} from {start_date} to {end_date}.\")\n",
    "    else:\n",
    "        print(\"possible columns: \", stock_data.columns)\n",
    "\n",
    "        stock_data.reset_index(inplace=True)\n",
    "        stock_data['Date'] = stock_data['Date'].dt.strftime('%Y-%m-%d')\n",
    "        # Select only relevant columns\n",
    "        stock_data = stock_data[['Date', 'Open', 'High', 'Low', 'Close']]\n",
    "        \n",
    "        # Save to a CSV file\n",
    "        file_name = f\"{ticker}_25_years_data.csv\"\n",
    "        path = f\"./data/{file_name}\"\n",
    "        stock_data.to_csv(path, index=False)\n",
    "        print(f\"Data for {ticker} saved to {file_name}.\")\n",
    "except Exception as e:\n",
    "    print(f\"An error occurred: {e}\")\n"
   ]
  },
  {
   "cell_type": "code",
   "execution_count": 34,
   "metadata": {},
   "outputs": [],
   "source": [
    "spy_df = pd.read_csv('data/SPY_25_years_data.csv')"
   ]
  },
  {
   "cell_type": "code",
   "execution_count": 35,
   "metadata": {},
   "outputs": [
    {
     "data": {
      "text/html": [
       "<div>\n",
       "<style scoped>\n",
       "    .dataframe tbody tr th:only-of-type {\n",
       "        vertical-align: middle;\n",
       "    }\n",
       "\n",
       "    .dataframe tbody tr th {\n",
       "        vertical-align: top;\n",
       "    }\n",
       "\n",
       "    .dataframe thead th {\n",
       "        text-align: right;\n",
       "    }\n",
       "</style>\n",
       "<table border=\"1\" class=\"dataframe\">\n",
       "  <thead>\n",
       "    <tr style=\"text-align: right;\">\n",
       "      <th></th>\n",
       "      <th>Date</th>\n",
       "      <th>Open</th>\n",
       "      <th>High</th>\n",
       "      <th>Low</th>\n",
       "      <th>Close</th>\n",
       "    </tr>\n",
       "  </thead>\n",
       "  <tbody>\n",
       "    <tr>\n",
       "      <th>0</th>\n",
       "      <td>2000-01-24</td>\n",
       "      <td>92.832365</td>\n",
       "      <td>92.951866</td>\n",
       "      <td>88.848998</td>\n",
       "      <td>89.446503</td>\n",
       "    </tr>\n",
       "    <tr>\n",
       "      <th>1</th>\n",
       "      <td>2000-01-25</td>\n",
       "      <td>89.556026</td>\n",
       "      <td>90.462242</td>\n",
       "      <td>88.590060</td>\n",
       "      <td>90.462242</td>\n",
       "    </tr>\n",
       "    <tr>\n",
       "      <th>2</th>\n",
       "      <td>2000-01-26</td>\n",
       "      <td>89.864756</td>\n",
       "      <td>90.213300</td>\n",
       "      <td>89.287167</td>\n",
       "      <td>89.745255</td>\n",
       "    </tr>\n",
       "    <tr>\n",
       "      <th>3</th>\n",
       "      <td>2000-01-27</td>\n",
       "      <td>90.402508</td>\n",
       "      <td>90.641510</td>\n",
       "      <td>88.032405</td>\n",
       "      <td>89.386749</td>\n",
       "    </tr>\n",
       "    <tr>\n",
       "      <th>4</th>\n",
       "      <td>2000-01-28</td>\n",
       "      <td>88.868892</td>\n",
       "      <td>89.267229</td>\n",
       "      <td>86.379288</td>\n",
       "      <td>86.598373</td>\n",
       "    </tr>\n",
       "  </tbody>\n",
       "</table>\n",
       "</div>"
      ],
      "text/plain": [
       "         Date       Open       High        Low      Close\n",
       "0  2000-01-24  92.832365  92.951866  88.848998  89.446503\n",
       "1  2000-01-25  89.556026  90.462242  88.590060  90.462242\n",
       "2  2000-01-26  89.864756  90.213300  89.287167  89.745255\n",
       "3  2000-01-27  90.402508  90.641510  88.032405  89.386749\n",
       "4  2000-01-28  88.868892  89.267229  86.379288  86.598373"
      ]
     },
     "execution_count": 35,
     "metadata": {},
     "output_type": "execute_result"
    }
   ],
   "source": [
    "spy_df.head()"
   ]
  },
  {
   "cell_type": "code",
   "execution_count": null,
   "metadata": {},
   "outputs": [],
   "source": []
  }
 ],
 "metadata": {
  "colab": {
   "provenance": []
  },
  "kernelspec": {
   "display_name": "Python 3 (ipykernel)",
   "language": "python",
   "name": "python3"
  },
  "language_info": {
   "codemirror_mode": {
    "name": "ipython",
    "version": 3
   },
   "file_extension": ".py",
   "mimetype": "text/x-python",
   "name": "python",
   "nbconvert_exporter": "python",
   "pygments_lexer": "ipython3",
   "version": "3.12.4"
  }
 },
 "nbformat": 4,
 "nbformat_minor": 4
}
