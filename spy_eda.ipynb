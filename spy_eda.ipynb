{
 "cells": [
  {
   "cell_type": "code",
   "execution_count": 1,
   "metadata": {},
   "outputs": [],
   "source": [
    "import pandas as pd"
   ]
  },
  {
   "cell_type": "code",
   "execution_count": 2,
   "metadata": {},
   "outputs": [],
   "source": [
    "spy_df = pd.read_csv('data/SPY_25_years_data.csv')"
   ]
  },
  {
   "cell_type": "code",
   "execution_count": 3,
   "metadata": {},
   "outputs": [
    {
     "data": {
      "text/html": [
       "<div>\n",
       "<style scoped>\n",
       "    .dataframe tbody tr th:only-of-type {\n",
       "        vertical-align: middle;\n",
       "    }\n",
       "\n",
       "    .dataframe tbody tr th {\n",
       "        vertical-align: top;\n",
       "    }\n",
       "\n",
       "    .dataframe thead th {\n",
       "        text-align: right;\n",
       "    }\n",
       "</style>\n",
       "<table border=\"1\" class=\"dataframe\">\n",
       "  <thead>\n",
       "    <tr style=\"text-align: right;\">\n",
       "      <th></th>\n",
       "      <th>Date</th>\n",
       "      <th>Open</th>\n",
       "      <th>High</th>\n",
       "      <th>Low</th>\n",
       "      <th>Close</th>\n",
       "    </tr>\n",
       "  </thead>\n",
       "  <tbody>\n",
       "    <tr>\n",
       "      <th>0</th>\n",
       "      <td>2000-01-24</td>\n",
       "      <td>92.832365</td>\n",
       "      <td>92.951866</td>\n",
       "      <td>88.848998</td>\n",
       "      <td>89.446503</td>\n",
       "    </tr>\n",
       "    <tr>\n",
       "      <th>1</th>\n",
       "      <td>2000-01-25</td>\n",
       "      <td>89.556026</td>\n",
       "      <td>90.462242</td>\n",
       "      <td>88.590060</td>\n",
       "      <td>90.462242</td>\n",
       "    </tr>\n",
       "    <tr>\n",
       "      <th>2</th>\n",
       "      <td>2000-01-26</td>\n",
       "      <td>89.864756</td>\n",
       "      <td>90.213300</td>\n",
       "      <td>89.287167</td>\n",
       "      <td>89.745255</td>\n",
       "    </tr>\n",
       "    <tr>\n",
       "      <th>3</th>\n",
       "      <td>2000-01-27</td>\n",
       "      <td>90.402508</td>\n",
       "      <td>90.641510</td>\n",
       "      <td>88.032405</td>\n",
       "      <td>89.386749</td>\n",
       "    </tr>\n",
       "    <tr>\n",
       "      <th>4</th>\n",
       "      <td>2000-01-28</td>\n",
       "      <td>88.868892</td>\n",
       "      <td>89.267229</td>\n",
       "      <td>86.379288</td>\n",
       "      <td>86.598373</td>\n",
       "    </tr>\n",
       "  </tbody>\n",
       "</table>\n",
       "</div>"
      ],
      "text/plain": [
       "         Date       Open       High        Low      Close\n",
       "0  2000-01-24  92.832365  92.951866  88.848998  89.446503\n",
       "1  2000-01-25  89.556026  90.462242  88.590060  90.462242\n",
       "2  2000-01-26  89.864756  90.213300  89.287167  89.745255\n",
       "3  2000-01-27  90.402508  90.641510  88.032405  89.386749\n",
       "4  2000-01-28  88.868892  89.267229  86.379288  86.598373"
      ]
     },
     "execution_count": 3,
     "metadata": {},
     "output_type": "execute_result"
    }
   ],
   "source": [
    "spy_df.head()"
   ]
  },
  {
   "cell_type": "code",
   "execution_count": 4,
   "metadata": {},
   "outputs": [
    {
     "data": {
      "text/html": [
       "<div>\n",
       "<style scoped>\n",
       "    .dataframe tbody tr th:only-of-type {\n",
       "        vertical-align: middle;\n",
       "    }\n",
       "\n",
       "    .dataframe tbody tr th {\n",
       "        vertical-align: top;\n",
       "    }\n",
       "\n",
       "    .dataframe thead th {\n",
       "        text-align: right;\n",
       "    }\n",
       "</style>\n",
       "<table border=\"1\" class=\"dataframe\">\n",
       "  <thead>\n",
       "    <tr style=\"text-align: right;\">\n",
       "      <th></th>\n",
       "      <th>Date</th>\n",
       "      <th>Open</th>\n",
       "      <th>High</th>\n",
       "      <th>Low</th>\n",
       "      <th>Close</th>\n",
       "    </tr>\n",
       "  </thead>\n",
       "  <tbody>\n",
       "    <tr>\n",
       "      <th>6282</th>\n",
       "      <td>2025-01-14</td>\n",
       "      <td>584.359985</td>\n",
       "      <td>585.000000</td>\n",
       "      <td>578.349976</td>\n",
       "      <td>582.190002</td>\n",
       "    </tr>\n",
       "    <tr>\n",
       "      <th>6283</th>\n",
       "      <td>2025-01-15</td>\n",
       "      <td>590.330017</td>\n",
       "      <td>593.940002</td>\n",
       "      <td>589.200012</td>\n",
       "      <td>592.780029</td>\n",
       "    </tr>\n",
       "    <tr>\n",
       "      <th>6284</th>\n",
       "      <td>2025-01-16</td>\n",
       "      <td>594.169983</td>\n",
       "      <td>594.349976</td>\n",
       "      <td>590.929993</td>\n",
       "      <td>591.640015</td>\n",
       "    </tr>\n",
       "    <tr>\n",
       "      <th>6285</th>\n",
       "      <td>2025-01-17</td>\n",
       "      <td>596.960022</td>\n",
       "      <td>599.359985</td>\n",
       "      <td>595.609985</td>\n",
       "      <td>597.580017</td>\n",
       "    </tr>\n",
       "    <tr>\n",
       "      <th>6286</th>\n",
       "      <td>2025-01-21</td>\n",
       "      <td>600.669983</td>\n",
       "      <td>603.059998</td>\n",
       "      <td>598.669983</td>\n",
       "      <td>603.049988</td>\n",
       "    </tr>\n",
       "  </tbody>\n",
       "</table>\n",
       "</div>"
      ],
      "text/plain": [
       "            Date        Open        High         Low       Close\n",
       "6282  2025-01-14  584.359985  585.000000  578.349976  582.190002\n",
       "6283  2025-01-15  590.330017  593.940002  589.200012  592.780029\n",
       "6284  2025-01-16  594.169983  594.349976  590.929993  591.640015\n",
       "6285  2025-01-17  596.960022  599.359985  595.609985  597.580017\n",
       "6286  2025-01-21  600.669983  603.059998  598.669983  603.049988"
      ]
     },
     "execution_count": 4,
     "metadata": {},
     "output_type": "execute_result"
    }
   ],
   "source": [
    "spy_df.tail()"
   ]
  },
  {
   "cell_type": "code",
   "execution_count": 5,
   "metadata": {},
   "outputs": [
    {
     "name": "stdout",
     "output_type": "stream",
     "text": [
      "<class 'pandas.core.frame.DataFrame'>\n",
      "RangeIndex: 6287 entries, 0 to 6286\n",
      "Data columns (total 5 columns):\n",
      " #   Column  Non-Null Count  Dtype  \n",
      "---  ------  --------------  -----  \n",
      " 0   Date    6287 non-null   object \n",
      " 1   Open    6287 non-null   float64\n",
      " 2   High    6287 non-null   float64\n",
      " 3   Low     6287 non-null   float64\n",
      " 4   Close   6287 non-null   float64\n",
      "dtypes: float64(4), object(1)\n",
      "memory usage: 245.7+ KB\n"
     ]
    }
   ],
   "source": [
    "spy_df.info()"
   ]
  },
  {
   "cell_type": "code",
   "execution_count": 6,
   "metadata": {},
   "outputs": [
    {
     "data": {
      "text/html": [
       "<div>\n",
       "<style scoped>\n",
       "    .dataframe tbody tr th:only-of-type {\n",
       "        vertical-align: middle;\n",
       "    }\n",
       "\n",
       "    .dataframe tbody tr th {\n",
       "        vertical-align: top;\n",
       "    }\n",
       "\n",
       "    .dataframe thead th {\n",
       "        text-align: right;\n",
       "    }\n",
       "</style>\n",
       "<table border=\"1\" class=\"dataframe\">\n",
       "  <thead>\n",
       "    <tr style=\"text-align: right;\">\n",
       "      <th></th>\n",
       "      <th>Open</th>\n",
       "      <th>High</th>\n",
       "      <th>Low</th>\n",
       "      <th>Close</th>\n",
       "    </tr>\n",
       "  </thead>\n",
       "  <tbody>\n",
       "    <tr>\n",
       "      <th>count</th>\n",
       "      <td>6287.000000</td>\n",
       "      <td>6287.000000</td>\n",
       "      <td>6287.000000</td>\n",
       "      <td>6287.000000</td>\n",
       "    </tr>\n",
       "    <tr>\n",
       "      <th>mean</th>\n",
       "      <td>182.918149</td>\n",
       "      <td>183.963195</td>\n",
       "      <td>181.774341</td>\n",
       "      <td>182.932886</td>\n",
       "    </tr>\n",
       "    <tr>\n",
       "      <th>std</th>\n",
       "      <td>132.996478</td>\n",
       "      <td>133.632920</td>\n",
       "      <td>132.285185</td>\n",
       "      <td>133.014392</td>\n",
       "    </tr>\n",
       "    <tr>\n",
       "      <th>min</th>\n",
       "      <td>50.412390</td>\n",
       "      <td>51.933296</td>\n",
       "      <td>49.781765</td>\n",
       "      <td>50.531097</td>\n",
       "    </tr>\n",
       "    <tr>\n",
       "      <th>25%</th>\n",
       "      <td>85.026607</td>\n",
       "      <td>85.512881</td>\n",
       "      <td>84.476864</td>\n",
       "      <td>84.977032</td>\n",
       "    </tr>\n",
       "    <tr>\n",
       "      <th>50%</th>\n",
       "      <td>111.401150</td>\n",
       "      <td>111.822164</td>\n",
       "      <td>110.841938</td>\n",
       "      <td>111.387985</td>\n",
       "    </tr>\n",
       "    <tr>\n",
       "      <th>75%</th>\n",
       "      <td>249.225404</td>\n",
       "      <td>250.164315</td>\n",
       "      <td>247.510458</td>\n",
       "      <td>249.032257</td>\n",
       "    </tr>\n",
       "    <tr>\n",
       "      <th>max</th>\n",
       "      <td>605.651585</td>\n",
       "      <td>607.026962</td>\n",
       "      <td>604.983851</td>\n",
       "      <td>605.771179</td>\n",
       "    </tr>\n",
       "  </tbody>\n",
       "</table>\n",
       "</div>"
      ],
      "text/plain": [
       "              Open         High          Low        Close\n",
       "count  6287.000000  6287.000000  6287.000000  6287.000000\n",
       "mean    182.918149   183.963195   181.774341   182.932886\n",
       "std     132.996478   133.632920   132.285185   133.014392\n",
       "min      50.412390    51.933296    49.781765    50.531097\n",
       "25%      85.026607    85.512881    84.476864    84.977032\n",
       "50%     111.401150   111.822164   110.841938   111.387985\n",
       "75%     249.225404   250.164315   247.510458   249.032257\n",
       "max     605.651585   607.026962   604.983851   605.771179"
      ]
     },
     "execution_count": 6,
     "metadata": {},
     "output_type": "execute_result"
    }
   ],
   "source": [
    "spy_df.describe()"
   ]
  },
  {
   "cell_type": "code",
   "execution_count": null,
   "metadata": {},
   "outputs": [],
   "source": []
  }
 ],
 "metadata": {
  "colab": {
   "provenance": []
  },
  "kernelspec": {
   "display_name": "Python 3 (ipykernel)",
   "language": "python",
   "name": "python3"
  },
  "language_info": {
   "codemirror_mode": {
    "name": "ipython",
    "version": 3
   },
   "file_extension": ".py",
   "mimetype": "text/x-python",
   "name": "python",
   "nbconvert_exporter": "python",
   "pygments_lexer": "ipython3",
   "version": "3.12.4"
  }
 },
 "nbformat": 4,
 "nbformat_minor": 4
}
