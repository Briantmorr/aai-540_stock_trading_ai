{
  "nbformat": 4,
  "nbformat_minor": 0,
  "metadata": {
    "colab": {
      "provenance": []
    },
    "kernelspec": {
      "name": "python3",
      "display_name": "Python 3"
    },
    "language_info": {
      "name": "python"
    }
  },
  "cells": [
    {
      "cell_type": "code",
      "source": [
        "%%capture\n",
        "!pip install yfinance gradio matplotlib"
      ],
      "metadata": {
        "id": "CEhpvNz7DgT_"
      },
      "execution_count": 4,
      "outputs": []
    },
    {
      "cell_type": "code",
      "execution_count": 2,
      "metadata": {
        "colab": {
          "base_uri": "https://localhost:8080/",
          "height": 591
        },
        "id": "cd8a8LnaDB7o",
        "outputId": "608558e9-06dd-4e32-dd49-cb997f5a2f0d"
      },
      "outputs": [
        {
          "output_type": "stream",
          "name": "stdout",
          "text": [
            "Colab notebook detected. To show errors in colab notebook, set debug=True in launch()\n",
            "* Running on public URL: https://0e6e05dcc5b10c0242.gradio.live\n",
            "\n",
            "This share link expires in 72 hours. For free permanent hosting and GPU upgrades, run `gradio deploy` from the terminal in the working directory to deploy to Hugging Face Spaces (https://huggingface.co/spaces)\n"
          ]
        },
        {
          "output_type": "display_data",
          "data": {
            "text/plain": [
              "<IPython.core.display.HTML object>"
            ],
            "text/html": [
              "<div><iframe src=\"https://0e6e05dcc5b10c0242.gradio.live\" width=\"100%\" height=\"500\" allow=\"autoplay; camera; microphone; clipboard-read; clipboard-write;\" frameborder=\"0\" allowfullscreen></iframe></div>"
            ]
          },
          "metadata": {}
        },
        {
          "output_type": "execute_result",
          "data": {
            "text/plain": []
          },
          "metadata": {},
          "execution_count": 2
        }
      ],
      "source": [
        "import yfinance as yf\n",
        "import gradio as gr\n",
        "import plotly.graph_objects as go\n",
        "\n",
        "# Function to fetch and plot stock price data\n",
        "def plot_stock_price(ticker=\"AAPL\", period=\"1mo\"):\n",
        "    try:\n",
        "        # Handle 1d period with intraday intervals\n",
        "        interval = \"1m\" if period == \"1d\" else \"1d\"\n",
        "\n",
        "        # Fetch stock data\n",
        "        stock = yf.Ticker(ticker)\n",
        "        stock_data = stock.history(period=period, interval=interval)\n",
        "\n",
        "        if stock_data.empty:\n",
        "            return go.Figure().add_annotation(\n",
        "                text=f\"No data available for {ticker.upper()}\",\n",
        "                x=0.5, y=0.5, showarrow=False\n",
        "            )\n",
        "\n",
        "        # Create the Plotly figure\n",
        "        fig = go.Figure()\n",
        "\n",
        "        # Add line for closing prices\n",
        "        fig.add_trace(go.Scatter(\n",
        "            x=stock_data.index,\n",
        "            y=stock_data['Close'],\n",
        "            mode='lines',\n",
        "            name=f'{ticker.upper()} Close Price',\n",
        "            line=dict(color='blue')\n",
        "        ))\n",
        "\n",
        "        # Customize the layout\n",
        "        fig.update_layout(\n",
        "            title=f\"{ticker.upper()} Stock Prices ({period})\",\n",
        "            xaxis_title=\"Date\" if period != \"1d\" else \"Time\",\n",
        "            yaxis_title=\"Price (USD)\",\n",
        "            template=\"plotly_white\",\n",
        "            legend=dict(x=0, y=1),\n",
        "            margin=dict(l=40, r=40, t=40, b=40),\n",
        "        )\n",
        "\n",
        "        return fig\n",
        "    except Exception as e:\n",
        "        # Return an empty figure with the error message\n",
        "        return go.Figure().add_annotation(\n",
        "            text=f\"Error: {e}\",\n",
        "            x=0.5, y=0.5,\n",
        "            showarrow=False\n",
        "        )\n",
        "\n",
        "# Gradio interface\n",
        "title = \"Stock Price Graph (Interactive)\"\n",
        "description = \"This app displays an interactive graph of stock prices over a selected time period. Enter the stock ticker and select the time period.\"\n",
        "\n",
        "# Define Gradio app interface\n",
        "app = gr.Interface(\n",
        "    fn=plot_stock_price,\n",
        "    inputs=[\n",
        "        gr.Textbox(label=\"Stock Ticker\", value=\"AAPL\", placeholder=\"Enter stock ticker (e.g., AAPL, TSLA)\"),\n",
        "        gr.Dropdown(choices=[\"1d\", \"5d\", \"1mo\", \"3mo\", \"6mo\", \"1y\", \"2y\", \"5y\", \"10y\", \"max\"],\n",
        "                    value=\"1mo\",\n",
        "                    label=\"Select Time Period\")\n",
        "    ],\n",
        "    outputs=\"plot\",\n",
        "    title=title,\n",
        "    description=description,\n",
        ")\n",
        "\n",
        "# Launch the Gradio app\n",
        "app.launch(share=True, inline=True)"
      ]
    },
    {
      "cell_type": "code",
      "source": [
        "# Function to fetch and save stock data\n",
        "def save_stock_data(ticker: str, period: str):\n",
        "    try:\n",
        "        # Fetch stock data\n",
        "        stock = yf.Ticker(ticker)\n",
        "        stock_data = stock.history(period=period)\n",
        "\n",
        "        if stock_data.empty:\n",
        "            return f\"No data available for {ticker.upper()} in the selected period.\"\n",
        "\n",
        "        # Save to CSV\n",
        "        file_name = f\"{ticker.upper()}_{period}_data.csv\"\n",
        "        stock_data.to_csv(file_name)\n",
        "\n",
        "        return f\"Data saved to {file_name}.\"\n",
        "    except Exception as e:\n",
        "        return f\"Error: {e}\"\n",
        "\n",
        "# Gradio interface\n",
        "title = \"Save Stock Data\"\n",
        "description = \"Enter a stock ticker and select a time period to fetch and save the stock data as a CSV file.\"\n",
        "\n",
        "app = gr.Interface(\n",
        "    fn=save_stock_data,\n",
        "    inputs=[\n",
        "        gr.Textbox(label=\"Stock Ticker\", placeholder=\"Enter stock ticker (e.g., AAPL, TSLA)\", value=\"AAPL\"),\n",
        "        gr.Dropdown(\n",
        "            choices=[\"1d\", \"5d\", \"1mo\", \"3mo\", \"6mo\", \"1y\", \"2y\", \"5y\", \"10y\", \"max\"],\n",
        "            value=\"1mo\",\n",
        "            label=\"Select Time Period\"\n",
        "        ),\n",
        "    ],\n",
        "    outputs=\"text\",\n",
        "    title=title,\n",
        "    description=description,\n",
        ")\n",
        "\n",
        "# Launch the Gradio app\n",
        "app.launch(share=True, inline=True)"
      ],
      "metadata": {
        "colab": {
          "base_uri": "https://localhost:8080/",
          "height": 591
        },
        "id": "0VwI1sExF9Ud",
        "outputId": "46e33736-0b2e-4c82-8c19-fa1cc0174ec1"
      },
      "execution_count": 3,
      "outputs": [
        {
          "output_type": "stream",
          "name": "stdout",
          "text": [
            "Colab notebook detected. To show errors in colab notebook, set debug=True in launch()\n",
            "* Running on public URL: https://72c6412b0e08eff760.gradio.live\n",
            "\n",
            "This share link expires in 72 hours. For free permanent hosting and GPU upgrades, run `gradio deploy` from the terminal in the working directory to deploy to Hugging Face Spaces (https://huggingface.co/spaces)\n"
          ]
        },
        {
          "output_type": "display_data",
          "data": {
            "text/plain": [
              "<IPython.core.display.HTML object>"
            ],
            "text/html": [
              "<div><iframe src=\"https://72c6412b0e08eff760.gradio.live\" width=\"100%\" height=\"500\" allow=\"autoplay; camera; microphone; clipboard-read; clipboard-write;\" frameborder=\"0\" allowfullscreen></iframe></div>"
            ]
          },
          "metadata": {}
        },
        {
          "output_type": "execute_result",
          "data": {
            "text/plain": []
          },
          "metadata": {},
          "execution_count": 3
        }
      ]
    }
  ]
}